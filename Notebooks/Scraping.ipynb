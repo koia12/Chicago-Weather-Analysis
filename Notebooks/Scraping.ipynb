{
 "cells": [
  {
   "cell_type": "markdown",
   "id": "d8372d35-d7a2-4be3-89af-5fbb8e29609d",
   "metadata": {},
   "source": [
    "##### The data scraping process is time-intensive. I show my code here but the data is all saved as csv files in the data folder and the reader may skip to the data analysis notebook with the csv files in hand. You must first request a token from here: https://www.ncdc.noaa.gov/cdo-web/token\n",
    "\n"
   ]
  },
  {
   "cell_type": "code",
   "execution_count": 1,
   "id": "866217ed-bf66-4b27-986e-11807a40fede",
   "metadata": {
    "id": "HPT1kq5RExA-"
   },
   "outputs": [],
   "source": [
    "import requests\n",
    "import pandas as pd\n",
    "import datetime\n",
    "from IPython import display\n",
    "import time"
   ]
  },
  {
   "cell_type": "code",
   "execution_count": 15,
   "id": "763e057e-374a-4e05-90fa-80a6537660f2",
   "metadata": {
    "id": "XTZaxwjZh0Qf"
   },
   "outputs": [],
   "source": [
    "token = '{Insert token here}'"
   ]
  },
  {
   "cell_type": "code",
   "execution_count": 3,
   "id": "5a389a77-b387-4e70-9139-e38251ba907b",
   "metadata": {
    "id": "qgSpt6ekHRz2"
   },
   "outputs": [],
   "source": [
    "def make_request(endpoint, payload = None):\n",
    "  return requests.get(f'https://www.ncei.noaa.gov/cdo-web/api/v2/{endpoint}',\n",
    "                      headers =\n",
    "                          {'token': token\n",
    "                       }, params = payload\n",
    "                      )"
   ]
  },
  {
   "cell_type": "code",
   "execution_count": 17,
   "id": "71f8381e-dab0-4580-a834-97bb0819e5d3",
   "metadata": {
    "id": "_hXfpXEhTrk2"
   },
   "outputs": [],
   "source": [
    "i = 0\n",
    "offset = 0\n",
    "results = []"
   ]
  },
  {
   "cell_type": "code",
   "execution_count": null,
   "id": "1544ff37-da1f-431c-9c45-6878c71830e5",
   "metadata": {
    "id": "zQORgkDlTfbG"
   },
   "outputs": [],
   "source": [
    "while i < 126:\n",
    "  response = make_request('stations', {'limit':1000, 'offset': offset, 'datasetid': 'GHCND'})\n",
    "  if response.status_code == 200:\n",
    "    results.extend(response.json()['results'])\n",
    "    i += 1\n",
    "    offset = i*1000\n",
    "  else:\n",
    "    print (f'Request failed with status code: {response.status_code}.')\n",
    "    time.sleep(60)\n"
   ]
  },
  {
   "cell_type": "code",
   "execution_count": null,
   "id": "21e40b4d-8605-4ffd-a352-487e6964e408",
   "metadata": {
    "colab": {
     "base_uri": "https://localhost:8080/",
     "height": 597
    },
    "id": "uZX3ila9U0GZ",
    "outputId": "8f68e8cc-9465-41fe-a712-40e783401675"
   },
   "outputs": [],
   "source": [
    "df2 = pd.DataFrame(results)"
   ]
  },
  {
   "cell_type": "code",
   "execution_count": null,
   "id": "33539c86-fd0d-4826-96da-14bf4849dde3",
   "metadata": {
    "id": "xMNIVp7hxWIt"
   },
   "outputs": [],
   "source": [
    "df2.to_csv('stations.csv')"
   ]
  },
  {
   "cell_type": "markdown",
   "id": "5cf304e9-f2c5-420b-8224-3dd6c6cc7a62",
   "metadata": {},
   "source": [
    "##### Next we will scrape data from the Global Historical Climatological Network Daily dataset from 2004 through 2023 for Chicago. "
   ]
  },
  {
   "cell_type": "code",
   "execution_count": 4,
   "id": "b93c0cd1-2043-41fa-bb30-6245c8c42c26",
   "metadata": {
    "id": "D1oTHsv0jMXM"
   },
   "outputs": [
    {
     "data": {
      "text/plain": [
       "'Gathering data for 2004-01-09'"
      ]
     },
     "metadata": {},
     "output_type": "display_data"
    }
   ],
   "source": [
    "current = datetime.date(2004,1,1)\n",
    "end = datetime.date(2004,1,10)\n",
    "results = []\n",
    "\n",
    "while current < end:\n",
    "  display.clear_output(wait = True)\n",
    "  display.display(f'Gathering data for {str(current)}')\n",
    "\n",
    "  response = make_request('data',\n",
    "                          {'datasetid': 'GHCND',\n",
    "                           'locationid': 'CITY:US170006',\n",
    "                           'startdate': current,\n",
    "                           'enddate': current,\n",
    "                           'units': 'metric',\n",
    "                           'limit':1000\n",
    "                           })\n",
    "  if response.ok:\n",
    "    results.extend(response.json()['results'])\n",
    "  current += datetime.timedelta(days = 1)"
   ]
  },
  {
   "cell_type": "code",
   "execution_count": 5,
   "id": "f46e2d48-038b-435b-95e4-8cdce6d2a931",
   "metadata": {
    "id": "skLLBmeyjM7y"
   },
   "outputs": [],
   "source": [
    "results = pd.DataFrame(results)\n",
    "results['date2'] = pd.to_datetime(results.date)"
   ]
  },
  {
   "cell_type": "code",
   "execution_count": null,
   "id": "a7d40b62-6a76-4377-b7a1-409327f5fbef",
   "metadata": {
    "id": "0U6g-N5zUX0e"
   },
   "outputs": [],
   "source": [
    "results2 = results.query('date2 > \"2013-12-31\"')\n",
    "results = results.query('date2 < \"2014-01-01\"')"
   ]
  },
  {
   "cell_type": "code",
   "execution_count": null,
   "id": "8fcf705c-5891-4a15-a8c3-12aea1175d9d",
   "metadata": {},
   "outputs": [],
   "source": [
    "results.to_csv('results.csv')\n",
    "results2.to_csv('results2.csv')"
   ]
  },
  {
   "cell_type": "markdown",
   "id": "95871d79-22f3-4a58-a93e-59d50a7baee9",
   "metadata": {},
   "source": [
    "##### Gather information about datatypes in the dataset so we can match their descriptions with the abbreviations in the GHCND data we scraped above."
   ]
  },
  {
   "cell_type": "code",
   "execution_count": null,
   "id": "a6289ae0-9cae-4a76-b45b-7202c0921f52",
   "metadata": {
    "id": "y5JWmgSwnj30"
   },
   "outputs": [],
   "source": [
    "offset = 0\n",
    "i = 0\n",
    "datatypes = []\n",
    "while i < 3:\n",
    "  response = make_request('datatypes', {'limit':1000, 'offset': offset})\n",
    "  if response.status_code == 200:\n",
    "    datatypes.extend(response.json()['results'])\n",
    "    i += 1\n",
    "    offset = i*1000\n",
    "  else:\n",
    "    print (f'Request failed with status code: {response.status_code}.')\n",
    "    time.sleep(60)"
   ]
  },
  {
   "cell_type": "code",
   "execution_count": 5,
   "id": "dca9715b-fb6d-4c54-89da-48ae57643d16",
   "metadata": {
    "id": "pwaXwW55nlsm"
   },
   "outputs": [],
   "source": [
    "datatypes = pd.DataFrame(datatypes)\n",
    "datatypes.to_csv('datatypes.csv')"
   ]
  },
  {
   "cell_type": "markdown",
   "id": "620a2016-08ef-4a31-aa6e-b4ba5c964f05",
   "metadata": {},
   "source": [
    "##### Because many stations listed only have some types of measurements recorded, we scrape data for all stations in Illinois (FIPS: 17) over a 10 day period to see which stations have the types of  data we're looking for: temperature and pressure"
   ]
  },
  {
   "cell_type": "code",
   "execution_count": 4,
   "id": "903cbbb5-67ab-4f07-b0d3-a40afdd1b1af",
   "metadata": {},
   "outputs": [
    {
     "data": {
      "text/plain": [
       "'Gathering data for 2008-01-09'"
      ]
     },
     "metadata": {},
     "output_type": "display_data"
    }
   ],
   "source": [
    "current = datetime.date(2008,1,1)\n",
    "end = datetime.date(2008,1,10)\n",
    "results = []\n",
    "\n",
    "while current < end:\n",
    "  display.clear_output(wait = True)\n",
    "  display.display(f'Gathering data for {str(current)}')\n",
    "\n",
    "  response = make_request('data',\n",
    "                          {'datasetid': 'GHCND',\n",
    "                           'locationid': 'FIPS:17', #Illinois\n",
    "                           'startdate': current,\n",
    "                           'enddate': current,\n",
    "                           'units': 'metric',\n",
    "                           'limit':1000\n",
    "                           })\n",
    "  if response.ok:\n",
    "    results.extend(response.json()['results'])\n",
    "  current += datetime.timedelta(days = 1)"
   ]
  },
  {
   "cell_type": "code",
   "execution_count": null,
   "id": "af9574d5-eaba-4971-9bd9-7dd3c2fff8a5",
   "metadata": {},
   "outputs": [],
   "source": [
    "results2 = []\n",
    "i = 0\n",
    "offset = 0\n",
    "while i < 4:\n",
    "  response = make_request('stations', {'limit':1000, 'offset': offset, 'datasetid': 'GHCND', 'locationid': 'FIPS:17'})\n",
    "  if response.status_code == 200:\n",
    "    results2.extend(response.json()['results'])\n",
    "    i += 1\n",
    "    offset = i*1000\n",
    "  else:\n",
    "    print (f'Request failed with status code: {response.status_code}.')\n",
    "    time.sleep(60)\n"
   ]
  },
  {
   "cell_type": "code",
   "execution_count": 16,
   "id": "fc0dc406-b9f9-4d70-a6d1-b9b20369ae63",
   "metadata": {},
   "outputs": [],
   "source": [
    "All_Illinois_stations = pd.DataFrame(results).merge(pd.DataFrame(results2), left_on = 'station', right_on = 'id')"
   ]
  },
  {
   "cell_type": "code",
   "execution_count": 18,
   "id": "f4b00360-74cf-4cdb-8b88-a8651b04d3c2",
   "metadata": {},
   "outputs": [],
   "source": [
    "All_Illinois_stations.to_csv('All_Illinois_stations.csv')"
   ]
  },
  {
   "cell_type": "code",
   "execution_count": null,
   "id": "c91620da-8bd5-4bd0-96b0-827108be035f",
   "metadata": {},
   "outputs": [],
   "source": [
    "#Scrape again for DeKalb results\n",
    "current = datetime.date(2004,1,1)\n",
    "end = datetime.date(2024,1,1)\n",
    "results = []\n",
    "\n",
    "while current < end:\n",
    "  display.clear_output(wait = True)\n",
    "  display.display(f'Gathering data for {str(current)}')\n",
    "\n",
    "  response = make_request('data',\n",
    "                          {'datasetid': 'GHCND',\n",
    "                           'stationid': 'GHCND:USC00112223',\n",
    "                           'startdate': current,\n",
    "                           'enddate': current,\n",
    "                           'units': 'metric',\n",
    "                           'limit':1000\n",
    "                           })\n",
    "  if response.ok:\n",
    "      try:\n",
    "        if len(response.json())>0:  \n",
    "            results.extend(response.json()['results'])\n",
    "        else:\n",
    "            current += datetime.timedelta(days = 1)\n",
    "        time.sleep(0.5)\n",
    "      except ValueError:\n",
    "        current += datetime.timedelta(days = 1)  \n",
    "  current += datetime.timedelta(days = 1)"
   ]
  },
  {
   "cell_type": "code",
   "execution_count": 31,
   "id": "fe3359f0-83d1-499a-88c4-de13f2cedc75",
   "metadata": {
    "jupyter": {
     "source_hidden": true
    }
   },
   "outputs": [],
   "source": [
    "results = pd.DataFrame(results)"
   ]
  },
  {
   "cell_type": "code",
   "execution_count": 32,
   "id": "d1c001ae-a499-48d7-bea4-04f236cec777",
   "metadata": {},
   "outputs": [],
   "source": [
    "results.to_csv('DeKalb.csv')"
   ]
  }
 ],
 "metadata": {
  "kernelspec": {
   "display_name": "Python 3 (ipykernel)",
   "language": "python",
   "name": "python3"
  },
  "language_info": {
   "codemirror_mode": {
    "name": "ipython",
    "version": 3
   },
   "file_extension": ".py",
   "mimetype": "text/x-python",
   "name": "python",
   "nbconvert_exporter": "python",
   "pygments_lexer": "ipython3",
   "version": "3.9.19"
  }
 },
 "nbformat": 4,
 "nbformat_minor": 5
}
