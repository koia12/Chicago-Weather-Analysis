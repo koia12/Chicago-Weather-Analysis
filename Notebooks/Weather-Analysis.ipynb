{
 "cells": [
  {
   "cell_type": "code",
   "execution_count": null,
   "id": "d5b29ec9-0640-4776-8964-6dc2726c1b2c",
   "metadata": {},
   "outputs": [],
   "source": [
    "pip install haversine"
   ]
  },
  {
   "cell_type": "code",
   "execution_count": null,
   "id": "0e8e38ab-1997-4af0-8463-085fecc4e450",
   "metadata": {},
   "outputs": [],
   "source": [
    "os.getcwd()"
   ]
  },
  {
   "cell_type": "code",
   "execution_count": null,
   "id": "411173e2-b027-4b15-a59e-af4014ab8540",
   "metadata": {
    "id": "HPT1kq5RExA-"
   },
   "outputs": [],
   "source": [
    "import requests\n",
    "import pandas as pd\n",
    "import time\n",
    "import datetime\n",
    "from IPython import display\n",
    "import matplotlib.pyplot as plt\n",
    "import numpy as np\n",
    "import geopandas as gpd\n",
    "import matplotlib as mpl\n",
    "import matplotlib.pyplot as plt\n",
    "from matplotlib.ticker import FuncFormatter\n",
    "import matplotlib.colors as mcolors\n",
    "from matplotlib import colormaps\n",
    "import matplotlib.animation as animation\n",
    "from matplotlib.animation import FuncAnimation, PillowWriter\n",
    "import matplotlib.pyplot as plt\n",
    "from matplotlib.patches import Polygon as mplPolygon\n",
    "import random\n",
    "from shapely.geometry import Polygon, Point\n",
    "import os\n",
    "import math\n",
    "import numpy as np\n",
    "import shapely\n",
    "from scipy.ndimage import binary_dilation\n",
    "import sys\n",
    "from scipy.interpolate import griddata\n",
    "from sklearn.linear_model import LinearRegression\n",
    "from haversine import haversine, Unit"
   ]
  },
  {
   "cell_type": "code",
   "execution_count": null,
   "id": "d041a927-01e8-4c22-a2ec-0cb46f65c2dd",
   "metadata": {
    "id": "VNo060cZYuJK"
   },
   "outputs": [],
   "source": [
    "#Set working directory to the location where you downloaded the folder.\n",
    "os.chdir('Downloads/Chicago-Weather/Data/')\n",
    "df2 = pd.read_csv('stations.csv')\n",
    "results = pd.read_csv('results.csv')\n",
    "results2 = pd.read_csv('results2.csv')\n",
    "All_Illinois_stations = pd.read_csv('All_Illinois_stations.csv')\n",
    "datatypes = pd.read_csv('datatypes.csv')\n",
    "OHare_hourly = pd.read_csv('OHare_hourly.csv')\n",
    "DeKalb = pd.read_csv('DeKalb.csv')"
   ]
  },
  {
   "cell_type": "code",
   "execution_count": null,
   "id": "d542ab95-0ea0-4199-b535-a2be3b417aef",
   "metadata": {
    "id": "yygWsyXpakjP"
   },
   "outputs": [],
   "source": [
    "def country(x):\n",
    "  return x[-2:]"
   ]
  },
  {
   "cell_type": "code",
   "execution_count": null,
   "id": "b73c6529-aee3-46c6-93c1-e02bc4b6600f",
   "metadata": {
    "id": "VRRRp8EzafMZ"
   },
   "outputs": [],
   "source": [
    "df2['country'] = df2.name.apply(country)"
   ]
  },
  {
   "cell_type": "code",
   "execution_count": null,
   "id": "02008d67-b130-40d7-8e6f-d09c691f0a6a",
   "metadata": {
    "id": "Lk9upFrziAPX"
   },
   "outputs": [],
   "source": [
    "#Create state column in our dataframe of locations and limit to US locations\n",
    "df2['state'] = df2.name.str.extract(pat = r'(\\,.+)')\n",
    "df2['state'] = df2['state'].str.strip(r'(\\,)')\n",
    "df2['state'] = df2['state'].str.strip('US')\n",
    "df2['state'] = df2['state'].str.strip()"
   ]
  },
  {
   "cell_type": "code",
   "execution_count": null,
   "id": "274717b8-0815-4769-ab12-0379c252d982",
   "metadata": {
    "id": "cZI8nan1u_Wz"
   },
   "outputs": [],
   "source": [
    "df2 = df2[df2['country'] == 'US']"
   ]
  },
  {
   "cell_type": "markdown",
   "id": "dd8d0e39-30f8-4b44-8087-8386e708de98",
   "metadata": {},
   "source": [
    "##### To display the map smoothly so that the plot doesn't split the few locations in far western Alaska and the Pacific to the right side of the plot, we convert these to be negative as well."
   ]
  },
  {
   "cell_type": "code",
   "execution_count": null,
   "id": "fdba9e37-b766-4ad2-9b32-f5782dfc0aff",
   "metadata": {
    "id": "OeZ1SEkSbkzw"
   },
   "outputs": [],
   "source": [
    "def longitude_conversion(x):\n",
    "  if x > 0:\n",
    "    return x - 360\n",
    "  else: return x"
   ]
  },
  {
   "cell_type": "code",
   "execution_count": null,
   "id": "173041d9-8a48-44c2-a8a8-a8de88a42e95",
   "metadata": {
    "id": "cUV4_jK_ldnr",
    "scrolled": true
   },
   "outputs": [],
   "source": [
    "df2.longitude = df2.longitude.apply(longitude_conversion)"
   ]
  },
  {
   "cell_type": "code",
   "execution_count": null,
   "id": "c565a88b-b599-4d35-b3b9-da6eb4836032",
   "metadata": {},
   "outputs": [],
   "source": [
    "os.chdir('../tl_2023_us_state')"
   ]
  },
  {
   "cell_type": "code",
   "execution_count": null,
   "id": "0376d5a3-8f38-48b6-a70c-00cb336ca2db",
   "metadata": {
    "id": "PHAqNo6RvxDE"
   },
   "outputs": [],
   "source": [
    "gdf = gpd.read_file('tl_2023_us_state.shp')"
   ]
  },
  {
   "cell_type": "markdown",
   "id": "40d794a5-2ba3-48ae-8039-1c33d9e05148",
   "metadata": {},
   "source": [
    "##### We convert our pandas dataframe to a geopandas data frame so we can easily plot it."
   ]
  },
  {
   "cell_type": "code",
   "execution_count": null,
   "id": "c273fd83-5237-4d31-8dc3-c03fc32cd6c3",
   "metadata": {
    "colab": {
     "base_uri": "https://localhost:8080/",
     "height": 122
    },
    "id": "DkxWmfLC6Gpy",
    "outputId": "9004e245-17f1-462e-8fcb-c70ac569f1f3"
   },
   "outputs": [],
   "source": [
    "gdf.geometry[13]"
   ]
  },
  {
   "cell_type": "markdown",
   "id": "a03c1234-8274-4c36-9d05-1141c3ab4192",
   "metadata": {},
   "source": [
    "##### Plotting the country looks very warped due to the curvature of the planet; use the clip function to set the corners of the plot"
   ]
  },
  {
   "cell_type": "code",
   "execution_count": null,
   "id": "fc970dcb-5127-4355-8fc1-71db89ab2f16",
   "metadata": {
    "colab": {
     "base_uri": "https://localhost:8080/",
     "height": 217
    },
    "id": "yo2q4SMC4OG2",
    "outputId": "3477eee9-e3d5-4a1f-a68c-b2123ee6817e"
   },
   "outputs": [],
   "source": [
    "gdf.clip(Polygon(((-200, 0), (-60, 0), (-60, 75), (-200,75)))).plot()"
   ]
  },
  {
   "cell_type": "code",
   "execution_count": null,
   "id": "b8fa076b-a36b-47d5-90f4-de779bc9680c",
   "metadata": {
    "id": "-UQ8i_gv73O_"
   },
   "outputs": [],
   "source": [
    "visframe = gdf.to_crs('epsg:2163')"
   ]
  },
  {
   "cell_type": "markdown",
   "id": "a131fa7e-cd0b-476f-bc04-f466bdcf9a0c",
   "metadata": {},
   "source": [
    "##### Change the coordinate system to one that is better suited to plotting the US"
   ]
  },
  {
   "cell_type": "code",
   "execution_count": null,
   "id": "c69acecd-458d-4142-b9f6-2411fe9b53de",
   "metadata": {
    "colab": {
     "base_uri": "https://localhost:8080/",
     "height": 595
    },
    "id": "7X2fiTX28ejG",
    "outputId": "153f4bdf-50f7-4c41-bfa5-0be29bc38252",
    "scrolled": true
   },
   "outputs": [],
   "source": [
    "fig,ax = plt.subplots(figsize = (10,10))\n",
    "visframe[~visframe['STUSPS'].isin(['HI', 'AK', 'GU', 'PR', 'AS', 'MP', 'VI'])].plot(linewidth = 0.5, **{'edgecolor': 'red', 'facecolor': 'white'}, ax = ax)"
   ]
  },
  {
   "cell_type": "code",
   "execution_count": null,
   "id": "5ffa269d-9347-4e6c-a43f-3a512462fee3",
   "metadata": {
    "id": "Ppa34IHUbsxt"
   },
   "outputs": [],
   "source": [
    "unique_chi_stations = results.station.unique()\n",
    "unique_chi_stations = pd.Series(unique_chi_stations)"
   ]
  },
  {
   "cell_type": "code",
   "execution_count": null,
   "id": "c4a6aada-1eed-454a-bf7e-8925e039f6c6",
   "metadata": {
    "id": "wghac_t96hLL"
   },
   "outputs": [],
   "source": [
    "stations = list(df2.id)"
   ]
  },
  {
   "cell_type": "code",
   "execution_count": null,
   "id": "ba66ec45-6c94-4708-81a0-b5e0423f9556",
   "metadata": {
    "id": "Gv38khFfKXur"
   },
   "outputs": [],
   "source": [
    "results['date2'] = pd.to_datetime(results.date)\n",
    "results2['date2'] = pd.to_datetime(results2.date)"
   ]
  },
  {
   "cell_type": "code",
   "execution_count": null,
   "id": "ebe097bb-bdda-462a-97a0-2a5c7b48119a",
   "metadata": {},
   "outputs": [],
   "source": [
    "results_2004 = results.query('date2.dt.year == 2004')"
   ]
  },
  {
   "cell_type": "code",
   "execution_count": null,
   "id": "79bc00c0-1ec8-4255-9ce0-26bbc19cebf5",
   "metadata": {
    "id": "DrW5rV5ir2aO"
   },
   "outputs": [],
   "source": [
    "os.chdir('../cityboundary/')\n",
    "gdf2 = gpd.read_file('cityboundary.shp')\n",
    "gdf2 = gdf2.to_crs(crs = 4326)"
   ]
  },
  {
   "cell_type": "code",
   "execution_count": null,
   "id": "84c9f798-c453-4dc6-a942-e6259807c5f2",
   "metadata": {
    "colab": {
     "base_uri": "https://localhost:8080/",
     "height": 447
    },
    "id": "6bbzTCQ9sE1h",
    "outputId": "8467a3cd-c6f9-411a-eedb-375dd20abf3b",
    "scrolled": true
   },
   "outputs": [],
   "source": [
    "gdf2.plot(**{'facecolor':'white', 'edgecolor':'blue'})"
   ]
  },
  {
   "cell_type": "code",
   "execution_count": null,
   "id": "eb59387c-4b56-4892-8588-fa6a05cb1f73",
   "metadata": {
    "id": "u4hhV4yHJVxf"
   },
   "outputs": [],
   "source": [
    "Chi_locations = df2[df2.id.isin(unique_chi_stations)]\n",
    "Chi_locations = gpd.GeoDataFrame(Chi_locations, geometry = gpd.points_from_xy(Chi_locations.longitude, Chi_locations.latitude))\n",
    "Chi_locations = Chi_locations.set_index(pd.Series(range(len(Chi_locations))))"
   ]
  },
  {
   "cell_type": "code",
   "execution_count": null,
   "id": "5b2badd2-7380-481e-b357-13cd5ee4cada",
   "metadata": {
    "id": "bNws-1QGi_MH"
   },
   "outputs": [],
   "source": [
    "Temp_df = results_2004.set_index(['date2', 'station']).query('datatype.isin((\"TMAX\",\"TMIN\", \"TOBS\"))').pivot(columns = 'datatype', values = 'value').reset_index().merge(Chi_locations, how = \"left\", left_on = \"station\", right_on = \"id\")\n",
    "Jan1 = gpd.GeoDataFrame(Temp_df.query('date2 == datetime.date(2004,1,1)'))"
   ]
  },
  {
   "cell_type": "code",
   "execution_count": null,
   "id": "b4a6b757-ed2d-451e-94aa-c84f6aee7f1b",
   "metadata": {
    "colab": {
     "base_uri": "https://localhost:8080/",
     "height": 621
    },
    "id": "U-r2LAfyHX9a",
    "outputId": "6d1482ec-7809-434e-9b53-10d1daefe961",
    "scrolled": true
   },
   "outputs": [],
   "source": [
    "ax = Jan1.plot('TOBS', cmap = 'bwr')\n",
    "Jan1.apply(lambda x: ax.annotate(text = x['TOBS'], xy = x.geometry.coords[0]), axis = 1)"
   ]
  },
  {
   "cell_type": "markdown",
   "id": "ea1e9406-b902-4fb9-b73f-f55240e5ca1c",
   "metadata": {},
   "source": [
    "##### Our first attempt to visualize this across the entire city will be to create a fine two-dimensional meshgrid of points, and simply color a zone defined by all points closest to a particular station with the same color as the measurement for that station."
   ]
  },
  {
   "cell_type": "code",
   "execution_count": null,
   "id": "23a57de2-90f8-4e8d-981f-2ac7e140f4e9",
   "metadata": {
    "colab": {
     "base_uri": "https://localhost:8080/",
     "height": 1000
    },
    "id": "wfJ14ikK7zH2",
    "outputId": "90b8bbd4-a180-47c9-db70-202bb44c28c4"
   },
   "outputs": [],
   "source": [
    "#df2.query('id.str.contains(\"ACL\")')"
   ]
  },
  {
   "cell_type": "code",
   "execution_count": null,
   "id": "89f96b48-0669-4212-94a0-4e47fb810fde",
   "metadata": {
    "colab": {
     "base_uri": "https://localhost:8080/"
    },
    "id": "TIlUtTdcNPbS",
    "outputId": "760f86d0-35b0-4082-f349-add4759aaf12"
   },
   "outputs": [],
   "source": [
    "Point(Jan1.geometry[0].coords[0]).distance(Point(Jan1.geometry[2].coords[0]))"
   ]
  },
  {
   "cell_type": "markdown",
   "id": "5482745c-ae93-4f93-8bb6-c62ef1ee647b",
   "metadata": {},
   "source": [
    "##### We will try a 50x50 meshgrid of evenly spaced points from min to max longitude and latitude at first"
   ]
  },
  {
   "cell_type": "code",
   "execution_count": null,
   "id": "cd326297-ca76-4650-9558-9f33528972ca",
   "metadata": {
    "id": "S7zPbcREmRzm"
   },
   "outputs": [],
   "source": [
    "b, c = np.meshgrid(np.linspace(Jan1.longitude.min(), Jan1.longitude.max(), 50), np.linspace(Jan1.latitude.min(), Jan1.latitude.max(), 50))"
   ]
  },
  {
   "cell_type": "code",
   "execution_count": null,
   "id": "5cf17be1-0b6c-4a68-a7b3-05f4baa5ea37",
   "metadata": {
    "colab": {
     "base_uri": "https://localhost:8080/"
    },
    "id": "Oo0r5-nwKzxv",
    "outputId": "205d721e-d160-4904-aaaf-1d26a1b45b57"
   },
   "outputs": [],
   "source": [
    "print((b[0,0], c[0,0]))\n",
    "print(Jan1.geometry[5].coords[0])"
   ]
  },
  {
   "cell_type": "markdown",
   "id": "d95a8846-d8a3-40e9-b97e-dff8856f9795",
   "metadata": {},
   "source": [
    "##### Count of observations for each data type by station"
   ]
  },
  {
   "cell_type": "code",
   "execution_count": null,
   "id": "dcce09c7-16a5-4369-b1fc-830019709d24",
   "metadata": {
    "id": "O0QsTLzbWKDH"
   },
   "outputs": [],
   "source": [
    "results.query('datatype.isin((\"TMAX\", \"TMIN\", \"TOBS\"))').set_index(['date2', 'station']).pivot(columns ='datatype', values = 'value').reset_index().merge(Chi_locations, how = \"left\", left_on = 'station', right_on = 'id').groupby(['station']).count()"
   ]
  },
  {
   "cell_type": "markdown",
   "id": "3f458d56-8a3f-40dd-ae15-b8d12afc6b86",
   "metadata": {},
   "source": [
    "##### As a test, create a list of the distance from the first station to each other station"
   ]
  },
  {
   "cell_type": "code",
   "execution_count": null,
   "id": "4004e38d-b3a5-44c3-8140-4c3d33220142",
   "metadata": {
    "id": "mdbOz1PMUQfF"
   },
   "outputs": [],
   "source": [
    "a = []\n",
    "for i in range(len(Jan1)):\n",
    "  a.append(haversine(Jan1.geometry[0].coords[0], Jan1.geometry[i].coords[0], unit = Unit.MILES))"
   ]
  },
  {
   "cell_type": "code",
   "execution_count": null,
   "id": "91fdc610-0ab8-490d-a331-3000f4610909",
   "metadata": {
    "colab": {
     "base_uri": "https://localhost:8080/"
    },
    "id": "SljFRYFbXt2l",
    "outputId": "4bfe19fc-2a44-4582-e935-3b9c23bc6c47",
    "scrolled": true
   },
   "outputs": [],
   "source": [
    "a = np.array(a)\n",
    "a"
   ]
  },
  {
   "cell_type": "code",
   "execution_count": null,
   "id": "eb90b775-5a3f-43db-9cd7-b04adad598c3",
   "metadata": {
    "id": "e3IHE04pqTgO"
   },
   "outputs": [],
   "source": [
    "a = []\n",
    "for i in range(1):\n",
    "  for j in range(3):\n",
    "    d = []\n",
    "    for k in range(len(Jan1)):\n",
    "      d.append(haversine((b[i,j], c[i,j]), (Jan1.geometry[k].coords[0])))\n",
    "    a.append(np.min(np.array(d)))"
   ]
  },
  {
   "cell_type": "markdown",
   "id": "da0ce67f-a4d6-424a-940f-7b6ac3565b04",
   "metadata": {},
   "source": [
    "##### Create an array of the closest station to each point in our mesh grid:"
   ]
  },
  {
   "cell_type": "code",
   "execution_count": null,
   "id": "030c2a9a-069b-4e1e-86e0-5108e3a2180f",
   "metadata": {
    "id": "lQZyYeYxvKD-"
   },
   "outputs": [],
   "source": [
    "e = []\n",
    "for i in range(len(b)):\n",
    "  for j in range(len(c)):\n",
    "    d = []\n",
    "    for k in range(len(Jan1)):\n",
    "      d.append(haversine((c[i,j], b[i,j]), (Jan1.geometry[k].coords[0][::-1])))\n",
    "    e.append(np.argmin(np.array(d)))"
   ]
  },
  {
   "cell_type": "markdown",
   "id": "4bcc7042-76c2-45d1-9b19-d596dfe42917",
   "metadata": {},
   "source": [
    "##### f is the temperature measurement at the closest station to each point in our meshgrid"
   ]
  },
  {
   "cell_type": "code",
   "execution_count": null,
   "id": "f18415c0-5c81-4f91-95ed-534b6e73ab34",
   "metadata": {
    "id": "QDUloToHV1XW"
   },
   "outputs": [],
   "source": [
    "f = np.array(Jan1.TOBS[e])\n",
    "e = np.reshape(e, (50,50))\n",
    "f = np.reshape(f, (50,50))"
   ]
  },
  {
   "cell_type": "code",
   "execution_count": null,
   "id": "a281cf12-54ed-439a-ac4a-de521f2275d1",
   "metadata": {
    "colab": {
     "base_uri": "https://localhost:8080/",
     "height": 447
    },
    "id": "0kTGyc9Sqo4U",
    "outputId": "a0602ff3-6ea2-42e6-d3ee-9557520e99b8"
   },
   "outputs": [],
   "source": [
    "plt.contourf(b,c,e)"
   ]
  },
  {
   "cell_type": "markdown",
   "id": "5adc37f9-f389-4aa4-a778-5f1ed6f757e5",
   "metadata": {},
   "source": [
    "##### use the plt contourf function to color the zones on the 50x50 meshgrid (b and c) closest to each station. "
   ]
  },
  {
   "cell_type": "code",
   "execution_count": null,
   "id": "e100dde4-66b6-4adf-9fd7-267ccea1e8d7",
   "metadata": {
    "id": "1mI1jsEcPzKJ"
   },
   "outputs": [],
   "source": [
    "np.set_printoptions(threshold=sys.maxsize)"
   ]
  },
  {
   "cell_type": "code",
   "execution_count": null,
   "id": "c8be7694-f7de-4003-9569-34502fc91670",
   "metadata": {},
   "outputs": [],
   "source": [
    "g = np.array((b,c,e))"
   ]
  },
  {
   "cell_type": "code",
   "execution_count": null,
   "id": "89748bf9-a1c6-478a-8b7c-7f9bf517a0c3",
   "metadata": {
    "id": "oHPrNMeprl-p"
   },
   "outputs": [],
   "source": [
    "mask = np.empty((len(np.unique(e)), 50, 50))"
   ]
  },
  {
   "cell_type": "markdown",
   "id": "0a9f9c29-d264-43c6-8944-b2295d9e58d4",
   "metadata": {},
   "source": [
    "##### use binary dilation function from scipy to define the borders of each zone. For each of the 10 stations (i), we create a mask from two conditions: the binary dilation of the second dimension of g (the numerical value of the nearest station) by kis not equal to the each i but the point on the grid is. This creates a list of the boundary points. See: https://docs.scipy.org/doc/scipy/reference/generated/scipy.ndimage.binary_dilation.html"
   ]
  },
  {
   "cell_type": "code",
   "execution_count": null,
   "id": "702f7137-eb17-4bf3-ae37-7f82d266ca49",
   "metadata": {},
   "outputs": [],
   "source": [
    "k = np.zeros((3,3),dtype=int); k[1] = 1; k[:,1] = 1 # for 8-connected\n",
    "k"
   ]
  },
  {
   "cell_type": "code",
   "execution_count": null,
   "id": "3bf4b90d-6366-4b53-af1d-874b00492d19",
   "metadata": {
    "id": "RyuI-M2_rKQa"
   },
   "outputs": [],
   "source": [
    "for i in np.unique(e):\n",
    "  mask[i,:,:] = binary_dilation(g[2,:,:] != i, k) & (g[2,:,:] == i)"
   ]
  },
  {
   "cell_type": "code",
   "execution_count": null,
   "id": "9b5ab211-2626-47a4-8afa-50c13d8d36bd",
   "metadata": {
    "id": "2trolvnTtH8o"
   },
   "outputs": [],
   "source": [
    "mask = mask.astype('bool')"
   ]
  },
  {
   "cell_type": "markdown",
   "id": "ed16d25c-c7f1-4ab0-ab12-2c6f94f73cb1",
   "metadata": {},
   "source": [
    "##### Create a dictionary of data frames, one for each station, of the border points of each station"
   ]
  },
  {
   "cell_type": "code",
   "execution_count": null,
   "id": "30b801e4-ab34-414c-bea0-66c618e07f3a",
   "metadata": {
    "id": "Bj2q3q0u8sJV"
   },
   "outputs": [],
   "source": [
    "border_collection = {}\n",
    "for i in np.unique(e):\n",
    "  border_collection[i] = pd.DataFrame({'x': g[0:2,mask[i]][0], 'y': g[0:2,mask[i]][1]})"
   ]
  },
  {
   "cell_type": "markdown",
   "id": "37be94d7-ad8c-4d6c-9610-d9371a22b2fb",
   "metadata": {},
   "source": [
    "##### Concatenate corner points to these 4 data frames so we can plot this nicely"
   ]
  },
  {
   "cell_type": "code",
   "execution_count": null,
   "id": "1ced02ca-4366-4de1-8469-0bcba3005f3a",
   "metadata": {
    "id": "tAk2Ozu8GbfD"
   },
   "outputs": [],
   "source": [
    "border_collection[0] = pd.concat([border_collection[0], pd.DataFrame({'x': [border_collection[0].x.min()], 'y': [border_collection[0].y.max()]})])\n",
    "border_collection[1] = pd.concat([border_collection[1], pd.DataFrame({'x': [border_collection[1].x.max()], 'y': [border_collection[1].y.max()]})])\n",
    "border_collection[3] = pd.concat([border_collection[3], pd.DataFrame({'x': [border_collection[3].x.max()], 'y': [border_collection[3].y.min()]})])\n",
    "border_collection[4] = pd.concat([border_collection[4], pd.DataFrame({'x': [border_collection[4].x.min()], 'y': [border_collection[4].y.min()]})])"
   ]
  },
  {
   "cell_type": "markdown",
   "id": "16c1ec12-b8df-45ca-8bff-e02b7119f768",
   "metadata": {},
   "source": [
    "##### Reset index after the last step of concatenation so there is a unique index"
   ]
  },
  {
   "cell_type": "code",
   "execution_count": null,
   "id": "9200355b-9085-4662-9312-394534848123",
   "metadata": {
    "id": "VPmqNw9GLxmW"
   },
   "outputs": [],
   "source": [
    "for i in border_collection:\n",
    "  border_collection[i] = border_collection[i].reset_index()\n",
    "  border_collection[i] = border_collection[i].drop('index', axis = 1)"
   ]
  },
  {
   "cell_type": "markdown",
   "id": "0c182496-acd4-4df7-8edb-dd5385f52d34",
   "metadata": {},
   "source": [
    "##### Make into a geopandas dataframe"
   ]
  },
  {
   "cell_type": "code",
   "execution_count": null,
   "id": "6b52ec2b-eadb-4975-88fc-a7a43d5d5f73",
   "metadata": {
    "id": "1NOo22R-FQx4"
   },
   "outputs": [],
   "source": [
    "for i in np.unique(e):\n",
    "  border_collection[i] = gpd.GeoDataFrame(border_collection[i], geometry = gpd.points_from_xy(border_collection[i].x, border_collection[i].y))"
   ]
  },
  {
   "cell_type": "markdown",
   "id": "dcb555bc-83f1-4857-bf6e-a47b5f349187",
   "metadata": {},
   "source": [
    "##### The following steps will rearrange each data frame in our border_collection dictionary to have the type Multipoint from the shapely package, as a single row in a data frame of 10 rows. This will allow us to plot it easily."
   ]
  },
  {
   "cell_type": "code",
   "execution_count": null,
   "id": "2bbb9952-3ab1-433b-baf9-529a9d631e0d",
   "metadata": {
    "id": "aSgV9xIkTMjd"
   },
   "outputs": [],
   "source": [
    "df = pd.DataFrame({'index':range(10)})"
   ]
  },
  {
   "cell_type": "code",
   "execution_count": null,
   "id": "20944ea9-a03b-441c-96c5-41f1ea0b3492",
   "metadata": {
    "id": "oeGVY93zTV6v"
   },
   "outputs": [],
   "source": [
    "z = []\n",
    "for i in range(len(df)):\n",
    "  x,y = shapely.MultiPoint(border_collection[i].geometry).convex_hull.exterior.coords.xy\n",
    "  z.append(shapely.Polygon(zip(x, y)))"
   ]
  },
  {
   "cell_type": "code",
   "execution_count": null,
   "id": "c7e57c09-72d1-466f-aa57-68616ffdff16",
   "metadata": {
    "colab": {
     "base_uri": "https://localhost:8080/"
    },
    "id": "uvFHqQ-1UsN9",
    "outputId": "f635a074-cca6-421e-b9c1-fc76374e2042"
   },
   "outputs": [],
   "source": [
    "z = pd.Series(z)\n",
    "z"
   ]
  },
  {
   "cell_type": "code",
   "execution_count": null,
   "id": "40bb8824-fcb6-4157-9297-6df09d0f1ff1",
   "metadata": {
    "id": "sLKnmefPVp_5"
   },
   "outputs": [],
   "source": [
    "df = df.merge(z.to_frame(), left_index = True, right_index = True).rename({0:'geometry'}, axis = 'columns')"
   ]
  },
  {
   "cell_type": "code",
   "execution_count": null,
   "id": "f1e2f4ca-5fa2-4a71-b98b-0ebbee10887c",
   "metadata": {
    "id": "3zE1AziaShtg"
   },
   "outputs": [],
   "source": [
    "df = gpd.GeoDataFrame(df)"
   ]
  },
  {
   "cell_type": "markdown",
   "id": "17d1c0da-48f6-40e6-b746-6f858f2406a7",
   "metadata": {},
   "source": [
    "##### The borders look awkward with only a 50 x 50 grid. Trying again with a 500 x 500 grid minimizes the white border regions."
   ]
  },
  {
   "cell_type": "code",
   "execution_count": null,
   "id": "45f76405-9ced-4506-a81b-02d7f44e8565",
   "metadata": {
    "colab": {
     "base_uri": "https://localhost:8080/",
     "height": 447
    },
    "id": "I61BeHqtWrzH",
    "outputId": "c4ac915a-540b-4692-a36c-430884df2796"
   },
   "outputs": [],
   "source": [
    "df.plot()"
   ]
  },
  {
   "cell_type": "code",
   "execution_count": null,
   "id": "0ec38e50-627a-4b2c-91d1-c5ee1fb6b0f1",
   "metadata": {
    "id": "UlZ91QKEwpFi"
   },
   "outputs": [],
   "source": [
    "b, c = np.meshgrid(np.linspace(Jan1.longitude.min(), Jan1.longitude.max(), 500), np.linspace(Jan1.latitude.min(), Jan1.latitude.max(), 500))\n",
    "e = []\n",
    "for i in range(len(b)):\n",
    "  for j in range(len(c)):\n",
    "    d = []\n",
    "    for k in range(len(Jan1)):\n",
    "      d.append(haversine((c[i,j], b[i,j]), (Jan1.geometry[k].coords[0][::-1])))\n",
    "    e.append(np.argmin(np.array(d)))\n",
    "f = np.array(Jan1.TOBS[e])\n",
    "e = np.reshape(e, (500,500))\n",
    "f = np.reshape(f, (500,500))\n",
    "g = np.array((b,c,e))\n",
    "g.shape\n",
    "k = np.zeros((3,3),dtype=int); k[1] = 1; k[:,1] = 1\n",
    "k\n",
    "mask = np.empty((len(np.unique(e)), 500, 500))\n",
    "for i in np.unique(e):\n",
    "  mask[i,:,:] = binary_dilation(g[2,:,:] != i, k) & (g[2,:,:] == i)\n",
    "mask = mask.astype('bool')\n",
    "border_collection = {}\n",
    "for i in np.unique(e):\n",
    "  border_collection[i] = pd.DataFrame({'x': g[0:2,mask[i]][0], 'y': g[0:2,mask[i]][1]})\n",
    "\n",
    "border_collection[0] = pd.concat([border_collection[0], pd.DataFrame({'x': [border_collection[0].x.min()], 'y': [border_collection[0].y.max()]})])\n",
    "border_collection[1] = pd.concat([border_collection[1], pd.DataFrame({'x': [border_collection[1].x.max()], 'y': [border_collection[1].y.max()]})])\n",
    "border_collection[3] = pd.concat([border_collection[3], pd.DataFrame({'x': [border_collection[3].x.max()], 'y': [border_collection[3].y.min()]})])\n",
    "border_collection[4] = pd.concat([border_collection[4], pd.DataFrame({'x': [border_collection[4].x.min()], 'y': [border_collection[4].y.min()]})])\n",
    "for i in border_collection:\n",
    "  border_collection[i] = border_collection[i].reset_index()\n",
    "  border_collection[i] = border_collection[i].drop('index', axis = 1)\n",
    "for i in np.unique(e):\n",
    "  border_collection[i] = gpd.GeoDataFrame(border_collection[i], geometry = gpd.points_from_xy(border_collection[i].x, border_collection[i].y))\n",
    "df = pd.DataFrame({'index':range(10)})\n",
    "z = []\n",
    "for i in range(len(df)):\n",
    "  x,y = shapely.MultiPoint(border_collection[i].geometry).convex_hull.exterior.coords.xy\n",
    "  z.append(shapely.Polygon(zip(x, y)))\n",
    "z = pd.Series(z)\n",
    "z\n",
    "df = df.merge(z.to_frame(), left_index = True, right_index = True).rename({0:'geometry'}, axis = 'columns')\n",
    "df = gpd.GeoDataFrame(df)"
   ]
  },
  {
   "cell_type": "code",
   "execution_count": null,
   "id": "d952a38c-2d4a-4fe5-8238-1b26def324d9",
   "metadata": {
    "colab": {
     "base_uri": "https://localhost:8080/",
     "height": 447
    },
    "id": "M4wWo9tYyU3g",
    "outputId": "634bb74f-1307-49e1-a9a2-bbe6902ecf54"
   },
   "outputs": [],
   "source": [
    "df.plot()"
   ]
  },
  {
   "cell_type": "code",
   "execution_count": null,
   "id": "3bca051b-3cbf-4a5d-b620-fed161ef1e49",
   "metadata": {
    "id": "_H-7P34u92T4"
   },
   "outputs": [],
   "source": [
    "df = df.merge(Jan1['station'], left_index = True, right_index = True)"
   ]
  },
  {
   "cell_type": "markdown",
   "id": "47b9062c-ebd2-4708-bf75-b8d56bc650e8",
   "metadata": {},
   "source": [
    "##### merge Temp_df (observations from 2004) with df and its zone borders"
   ]
  },
  {
   "cell_type": "code",
   "execution_count": null,
   "id": "7634b784-bd3e-4caa-83bb-ef219841ef22",
   "metadata": {
    "id": "UxEEsJKSDbNj"
   },
   "outputs": [],
   "source": [
    "Temp_df = Temp_df.merge(df, left_on = 'station', right_on = 'station').rename(columns = {'geometry_y': 'zone_borders'})"
   ]
  },
  {
   "cell_type": "code",
   "execution_count": null,
   "id": "be41fb56-e273-4c3c-acca-74a19238cd15",
   "metadata": {
    "id": "m8719byLgH5I"
   },
   "outputs": [],
   "source": [
    "Temp_df = Temp_df.set_geometry('zone_borders')"
   ]
  },
  {
   "cell_type": "code",
   "execution_count": null,
   "id": "c654134b-fcb5-4f90-9007-08df63d14150",
   "metadata": {
    "id": "KNVCDQCSBQzX"
   },
   "outputs": [],
   "source": [
    "Temp_by_date_collection = [v for k, v in Temp_df.groupby('date2')]"
   ]
  },
  {
   "cell_type": "code",
   "execution_count": null,
   "id": "1bfe3520-ca93-4425-8563-8e69276669a4",
   "metadata": {
    "colab": {
     "base_uri": "https://localhost:8080/",
     "height": 447
    },
    "id": "axbwD3H0DGYG",
    "outputId": "03d4fba5-083a-4180-f0b2-d2b7edec03f1"
   },
   "outputs": [],
   "source": [
    "Temp_by_date_collection[185].plot('TMIN', cmap = 'bwr', vmin = -10, vmax = 30)"
   ]
  },
  {
   "cell_type": "code",
   "execution_count": null,
   "id": "a8f3b621-4064-4988-b777-6adf5fe93b7b",
   "metadata": {
    "colab": {
     "base_uri": "https://localhost:8080/"
    },
    "id": "ZnVZH-FIp3uW",
    "outputId": "a97a800f-e935-4a33-8650-0ce105aca545"
   },
   "outputs": [],
   "source": [
    "print(Temp_df.TOBS.min())\n",
    "print(Temp_df.TOBS.max())"
   ]
  },
  {
   "cell_type": "code",
   "execution_count": null,
   "id": "dbecdaf4-8ac3-4dc8-ab13-d8be7d6f02c0",
   "metadata": {
    "colab": {
     "base_uri": "https://localhost:8080/",
     "height": 447
    },
    "id": "k-pX6lEU09yI",
    "outputId": "02b8a3c6-94f4-45b1-ffa4-5565f167df31"
   },
   "outputs": [],
   "source": [
    "Temp_by_date_collection[0].plot('TMIN', cmap = 'bwr', vmin = -10, vmax = 30)"
   ]
  },
  {
   "cell_type": "markdown",
   "id": "99c8a36b-22d3-46f5-bda6-b22ad9be8f8b",
   "metadata": {},
   "source": [
    "##### create TMIN dataframe for TMIN observations"
   ]
  },
  {
   "cell_type": "code",
   "execution_count": null,
   "id": "eb00e587-8bbb-4947-b59b-eb6a84cd6da9",
   "metadata": {
    "id": "VSMpbJkCnkhR"
   },
   "outputs": [],
   "source": [
    "TMIN = Temp_df[['date2', 'station', 'zone_borders', 'TMIN']].set_index(['station', 'zone_borders']).pivot(columns = 'date2', values = 'TMIN').reset_index()"
   ]
  },
  {
   "cell_type": "code",
   "execution_count": null,
   "id": "860eb0cd-41d5-4bec-b792-ae6e4bbaec5a",
   "metadata": {
    "id": "6kEbitvqjcDq"
   },
   "outputs": [],
   "source": [
    "TMIN = TMIN.set_geometry('zone_borders')"
   ]
  },
  {
   "cell_type": "markdown",
   "id": "dedfddb6-0860-44c6-9eb6-973b4b64cc89",
   "metadata": {},
   "source": [
    "##### pivot TMIN and so we can animate the results for each column"
   ]
  },
  {
   "cell_type": "code",
   "execution_count": null,
   "id": "1bc284c3-f326-4b43-b37f-326115b0d03b",
   "metadata": {
    "id": "Mx606K_QxSKb"
   },
   "outputs": [],
   "source": [
    "var_names = ['Day'+ str(i+1) for i in range(361)]\n",
    "TMIN_dates = TMIN.columns[2:]\n",
    "TMIN.rename(columns = {old:new for old, new in zip(TMIN.columns[2:], var_names)}, inplace=True)"
   ]
  },
  {
   "cell_type": "code",
   "execution_count": null,
   "id": "f5d6213e-5f43-46e9-8872-8ea1e7b434be",
   "metadata": {
    "id": "7aY82LP6Bsuy"
   },
   "outputs": [],
   "source": [
    "days = TMIN.columns[2:]\n",
    "date_frame = pd.DataFrame(days).rename(columns= {\"date2\":\"day2\"}).merge(pd.DataFrame(TMIN_dates), left_index = True, right_index = True)"
   ]
  },
  {
   "cell_type": "code",
   "execution_count": null,
   "id": "4bc970f4-4215-47ed-a92f-76c30ef15a5d",
   "metadata": {},
   "outputs": [],
   "source": [
    "date_frame = date_frame.assign(date2 = lambda x: pd.to_datetime(x.date2).dt.date)"
   ]
  },
  {
   "cell_type": "code",
   "execution_count": null,
   "id": "ed8fe8d6-176f-47f8-869f-eac9bdfc868a",
   "metadata": {
    "id": "9KIMs9k1JtT7"
   },
   "outputs": [],
   "source": [
    "Temp_df = Temp_df.set_geometry('zone_borders')"
   ]
  },
  {
   "cell_type": "code",
   "execution_count": null,
   "id": "46aa790a-1eee-4ab9-bbe6-19de50de6c70",
   "metadata": {
    "colab": {
     "base_uri": "https://localhost:8080/",
     "height": 465
    },
    "id": "ayB1gVCMYv2B",
    "outputId": "d081d53f-0e2e-4e8f-9716-1f0cbd48f499"
   },
   "outputs": [],
   "source": [
    "#As a test, plot the zones on Day 1 of 2004\n",
    "fig, ax = plt.subplots()\n",
    "xlim = Temp_df.longitude.min(), Temp_df.longitude.max()\n",
    "ylim = Temp_df.latitude.min(), Temp_df.latitude.max()\n",
    "ax.set_xlim(xlim)\n",
    "ax.set_ylim(ylim)\n",
    "TMIN.plot(ax = ax, column = 'Day1', cmap = 'bwr', vmin = -10, vmax = 30, legend=True)\n",
    "ax.annotate('Day', xy = (0.5,1.02), xycoords='axes fraction', ha = 'center')"
   ]
  },
  {
   "cell_type": "code",
   "execution_count": null,
   "id": "bb90b870-83ae-4443-b94c-da249bc4c54e",
   "metadata": {
    "colab": {
     "base_uri": "https://localhost:8080/"
    },
    "id": "SBb7QNxbZvf5",
    "outputId": "6f1e79db-2456-4726-a2ce-408553ef2579"
   },
   "outputs": [],
   "source": [
    "def animate(day):\n",
    "    ax.clear()\n",
    "\n",
    "    # Set the fixed axis limits\n",
    "    ax.set_xlim(xlim)\n",
    "    ax.set_ylim(ylim)\n",
    "\n",
    "    # Plot initial boundaries\n",
    "    borders = TMIN.zone_borders.plot(ax=ax, edgecolor='blue', facecolor = 'white', linewidth=0.3)\n",
    "\n",
    "    # Plot the data for the current year\n",
    "    TMIN.plot(\n",
    "         ax=ax, column = day, cmap = 'bwr', vmin = -10, vmax = 30,\n",
    "    )\n",
    "\n",
    "    ax.annotate(str(date_frame.date2[date_frame.day2 == str(day)].values[0]), xy = (0.5,1.02), xycoords='axes fraction', ha = 'center')\n",
    "animation = FuncAnimation(fig, animate, frames = days, repeat = False, interval = 300)"
   ]
  },
  {
   "cell_type": "code",
   "execution_count": null,
   "id": "929e9da8-49c9-4e44-aedf-cdf54771c350",
   "metadata": {
    "id": "UYkOVUODpj_8"
   },
   "outputs": [],
   "source": [
    "from matplotlib import rc\n",
    "rc('animation', html='jshtml')"
   ]
  },
  {
   "cell_type": "code",
   "execution_count": null,
   "id": "ae6d7b0b-7a39-45cb-99d9-d72b68ec6d8f",
   "metadata": {
    "colab": {
     "base_uri": "https://localhost:8080/",
     "height": 596
    },
    "id": "_sGGbLYLo3lx",
    "outputId": "fc40bbf4-8bd2-4318-9117-5590fc7801d7"
   },
   "outputs": [],
   "source": [
    "animation"
   ]
  },
  {
   "cell_type": "markdown",
   "id": "7f430f0d-9329-4df1-8242-95e13b91c2c9",
   "metadata": {
    "id": "RdP3kN0SPC1Z"
   },
   "source": [
    "##### Instead of these zones of one solid color, let's look at ways we can interpolate smoothly between stations. Let's start with griddata from scipy.interpolate"
   ]
  },
  {
   "cell_type": "code",
   "execution_count": null,
   "id": "6057cb8f-1e0d-4230-82d7-8ed85f6f770a",
   "metadata": {
    "id": "LFK-MuKfOgk3"
   },
   "outputs": [],
   "source": [
    "test = Temp_df\n",
    "test['date2'] = test.date2.astype(str)\n",
    "test = test.set_geometry('geometry_x')[['latitude', 'longitude', 'date2','station', 'TMIN', 'geometry_x']].set_index(['station', 'geometry_x', 'latitude', 'longitude']).pivot(columns = 'date2', values = 'TMIN').reset_index()"
   ]
  },
  {
   "cell_type": "code",
   "execution_count": null,
   "id": "b571ebf3-5c35-400b-a4f7-d4a85aa3545a",
   "metadata": {
    "id": "AxmL8H_f9b-k"
   },
   "outputs": [],
   "source": [
    "var_names = ['Day'+ str(i+1) for i in range(361)]\n",
    "test_dates = test.columns[4:]\n",
    "test.rename(columns = {old:new for old, new in zip(test.columns[4:], var_names)}, inplace=True)"
   ]
  },
  {
   "cell_type": "markdown",
   "id": "95f803a8-c8d3-4b3e-80e6-3ae70e979092",
   "metadata": {},
   "source": [
    "##### turn our measured longitude, latitude, and temperature observations into arrays x, y, and z then use griddata to interpolate from our actual x,y points onto evenly spaced grid of xi and yi"
   ]
  },
  {
   "cell_type": "code",
   "execution_count": null,
   "id": "3511ba74-92cd-47b6-99e9-3d6841e27fc5",
   "metadata": {
    "id": "vTWsOi5FOqF_"
   },
   "outputs": [],
   "source": [
    "x = np.array(test['longitude'])\n",
    "y = np.array(test['latitude'])\n",
    "z = np.array(test['Day155'])\n",
    "xi = np.linspace(Temp_df.longitude.min(), Temp_df.longitude.max(), 100)\n",
    "yi = np.linspace(Temp_df.latitude.min(), Temp_df.latitude.max(), 100)\n",
    "xi, yi = np.meshgrid(xi,yi)\n",
    "zi = griddata((x,y), z, (xi,yi), method = 'cubic')"
   ]
  },
  {
   "cell_type": "code",
   "execution_count": null,
   "id": "e8b2e9bc-2c75-4f7c-a28a-0b290df4eb9b",
   "metadata": {
    "colab": {
     "base_uri": "https://localhost:8080/"
    },
    "id": "b4ra4PH0TRJS",
    "outputId": "380b9a16-94b5-411e-b74c-3ed94a5b6c50"
   },
   "outputs": [],
   "source": [
    "(x,y)"
   ]
  },
  {
   "cell_type": "markdown",
   "id": "b076ab05-ca8e-46c1-8a64-6ba1f804af49",
   "metadata": {},
   "source": [
    "##### use contourf again to plot "
   ]
  },
  {
   "cell_type": "code",
   "execution_count": null,
   "id": "48001033-c137-4661-be6c-11d17dc42166",
   "metadata": {
    "colab": {
     "base_uri": "https://localhost:8080/",
     "height": 447
    },
    "id": "BWuWYSxFSNCk",
    "outputId": "15154cb0-4a91-4c7e-adc4-408468d985bd"
   },
   "outputs": [],
   "source": [
    "fig = plt.figure()\n",
    "ax = fig.add_subplot(111)\n",
    "plt.contourf(xi,yi,zi, cmap = 'bwr', vmin = -10, vmax = 30, levels = 20)\n",
    "plt.colorbar()"
   ]
  },
  {
   "cell_type": "markdown",
   "id": "c33d302d-bf20-414a-a96b-b257b0f56054",
   "metadata": {},
   "source": [
    "##### we can also use tricontourf function"
   ]
  },
  {
   "cell_type": "code",
   "execution_count": null,
   "id": "e4ae75d2-a88a-4041-b1cc-106eb4328267",
   "metadata": {
    "colab": {
     "base_uri": "https://localhost:8080/",
     "height": 447
    },
    "id": "0WNTz3PPwIcS",
    "outputId": "c8f47e97-e88e-4f5a-c194-c4cfa4fd4d1f"
   },
   "outputs": [],
   "source": [
    "fig, ax = plt.subplots()\n",
    "cntr = ax.tricontourf(x, y, z, levels=np.linspace(-10,30,164), cmap=\"bwr\", vmin = -10, vmax = 30)\n",
    "\n",
    "fig.colorbar(cntr, ax=ax)\n",
    "ax.plot(x, y, 'ko', ms=3)\n",
    "ax.set(xlim=(x.min(), x.max()), ylim=(y.min(), y.max()))"
   ]
  },
  {
   "cell_type": "markdown",
   "id": "86948854-fa65-425c-b583-b1d34647a29f",
   "metadata": {},
   "source": [
    "##### need to remove NA values for some days for the triangle contours to work; we replace with the mean value"
   ]
  },
  {
   "cell_type": "code",
   "execution_count": null,
   "id": "a6b9abbd-42d7-49fa-ae17-e0f65b3eaa66",
   "metadata": {
    "id": "2y8rztUY7yfy"
   },
   "outputs": [],
   "source": [
    "test.iloc[:,5:365] = test.iloc[:,5:365].apply(lambda x: x.fillna(x.mean()), axis = 0)"
   ]
  },
  {
   "cell_type": "code",
   "execution_count": null,
   "id": "3f89e8d0-7c46-4c96-9e77-52c3052b5037",
   "metadata": {
    "id": "Eok3yNYG3-70"
   },
   "outputs": [],
   "source": [
    "def animate(day):\n",
    "    ax.clear()\n",
    "    ax.set_xlim(xlim)\n",
    "    ax.set_ylim(ylim)\n",
    "\n",
    "    ax.plot(test.longitude, test.latitude, 'ko')\n",
    "    cntr = ax.tricontourf(x, y, test[day], levels=np.linspace(-24,26,204), cmap=\"bwr\", vmin = -10, vmax = 30)\n",
    "    ax.annotate(str(date_frame.date2[date_frame.day2 == str(day)].values[0]), xy = (0.5,1.02), xycoords='axes fraction', ha = 'center')\n",
    "animation = FuncAnimation(fig, animate, frames = days, repeat = False, interval = 300)"
   ]
  },
  {
   "cell_type": "code",
   "execution_count": null,
   "id": "04ddbf97-30f8-4c0d-b10f-0d4d9436215e",
   "metadata": {
    "id": "sdqS1oaiFdWw"
   },
   "outputs": [],
   "source": [
    "fig, ax = plt.subplots()\n",
    "#ax.tricontour(x, y, z, levels=14, colors='k')\n",
    "cntr = ax.tricontourf(x, y, z, levels=np.linspace(-10,30,164), cmap=\"bwr\", vmin = -10, vmax = 30)\n",
    "\n",
    "fig.colorbar(cntr, ax=ax)\n",
    "ax.plot(x, y, 'ko', ms=3)\n",
    "ax.set(xlim=(x.min(), x.max()), ylim=(y.min(), y.max()))"
   ]
  },
  {
   "cell_type": "code",
   "execution_count": null,
   "id": "d47cad2b-f1ae-412b-99bd-09b78f0219c3",
   "metadata": {
    "colab": {
     "base_uri": "https://localhost:8080/",
     "height": 578
    },
    "id": "U3axaGFCtFRf",
    "outputId": "0e0d232c-ceb8-46d2-e4bf-44f7a36e8a27"
   },
   "outputs": [],
   "source": [
    "animation"
   ]
  },
  {
   "cell_type": "code",
   "execution_count": null,
   "id": "7d312681-c7ca-488f-8849-9aa897426650",
   "metadata": {
    "id": "EWz5NagZC-q_"
   },
   "outputs": [],
   "source": [
    "a = np.zeros((2500,10))"
   ]
  },
  {
   "cell_type": "markdown",
   "id": "927aa5e4-9c91-44ed-89a0-4b78450e873a",
   "metadata": {},
   "source": [
    "##### We will create a custom interpolation method instead of relying on these contour functions. Again we create evenly spaced points from min to max longitude and latitude with np.linspace, then find the distance from each point on our grid to each station using the haversine function, and weight the interpolated temperature at each point by the inverse of the square of the distance. This method, known as inverse distance weighted interpolation (IDW), has no rigorous mathematical justification, but operates on the idea that things that are closer together are more alike than things farther apart. We use the inverse of the square of the distance, but the choice of exponent is arbitrary."
   ]
  },
  {
   "cell_type": "code",
   "execution_count": null,
   "id": "a6fdaee8-7175-47c1-ad9f-7cea83657e69",
   "metadata": {
    "id": "vYlDxk_RDLAR"
   },
   "outputs": [],
   "source": [
    "xi = np.linspace(test.longitude.min(), test.longitude.max(), 50)\n",
    "yi = np.linspace(test.latitude.min(), test.latitude.max(), 50)\n",
    "xi, yi = np.meshgrid(xi,yi)\n",
    "xi, yi = xi.flatten(), yi.flatten()"
   ]
  },
  {
   "cell_type": "code",
   "execution_count": null,
   "id": "01d492dd-2d85-4831-b869-b02d77603c49",
   "metadata": {
    "id": "QDwh68aNDO_g"
   },
   "outputs": [],
   "source": [
    "for i in range(len(xi)):\n",
    "  for j in range(len(test.geometry_x)):\n",
    "    a[i,j] = haversine(test.geometry_x[j].coords[0][::-1], (yi[i], xi[i]))"
   ]
  },
  {
   "cell_type": "code",
   "execution_count": null,
   "id": "c10f3407-7db2-4f54-b40b-b35875e8a026",
   "metadata": {
    "id": "58SKZljLD4u8"
   },
   "outputs": [],
   "source": [
    "a = np.where(a == 0, 0.0000001, a)"
   ]
  },
  {
   "cell_type": "code",
   "execution_count": null,
   "id": "43bcc50f-d796-419b-88d2-efe4c5da27ab",
   "metadata": {
    "id": "_Rz6YwbFD8da"
   },
   "outputs": [],
   "source": [
    "a_weights = 1/(a**2)"
   ]
  },
  {
   "cell_type": "code",
   "execution_count": null,
   "id": "90c2f24b-34e1-4f2c-a9bf-2d62a5a17f2b",
   "metadata": {
    "id": "JQwcXwwIEJIt"
   },
   "outputs": [],
   "source": [
    "b = np.zeros((2500))\n",
    "for i in range(len(a_weights)):\n",
    "  b[i] = a_weights[i].sum()"
   ]
  },
  {
   "cell_type": "code",
   "execution_count": null,
   "id": "43fe7950-bce5-41fa-9857-df3bf5a4b8c9",
   "metadata": {
    "id": "RMrsaTWLEOV8"
   },
   "outputs": [],
   "source": [
    "for i in range(len(a_weights)):\n",
    "  for j in range(len(test.geometry_x)):\n",
    "    a_weights[i,j] /= b[i]"
   ]
  },
  {
   "cell_type": "markdown",
   "id": "19ef8fbc-a3bf-41a2-a5c7-3b9e8a2d37b7",
   "metadata": {},
   "source": [
    "##### To fill NA values for missing measurements from a station on a given day, we will also weight the non-missing values at other stations by their distance from the missing station the same way"
   ]
  },
  {
   "cell_type": "code",
   "execution_count": null,
   "id": "f8f9896b-8efb-4aa6-9718-efadba19cd68",
   "metadata": {
    "id": "QDRwwWuOf_Zn"
   },
   "outputs": [],
   "source": [
    "actual_station_distance = np.zeros((10,10))\n",
    "for i in range(len(test)):\n",
    "  for j in range(len(test)):\n",
    "    actual_station_distance[i,j] = haversine(test.geometry_x[i].coords[0][::-1], test.geometry_x[j].coords[0][::-1])"
   ]
  },
  {
   "cell_type": "code",
   "execution_count": null,
   "id": "cc0c929d-7b7f-4dc6-8213-51d51d7ad930",
   "metadata": {},
   "outputs": [],
   "source": [
    "test = Temp_df\n",
    "test['date2'] = test.date2.astype(str)\n",
    "test = test.set_geometry('geometry_x')[['latitude', 'longitude', 'date2','station', 'TMIN', 'geometry_x']].set_index(['station', 'geometry_x', 'latitude', 'longitude']).pivot(columns = 'date2', values = 'TMIN').reset_index()\n",
    "var_names = ['Day'+ str(i+1) for i in range(361)]\n",
    "test_dates = test.columns[4:]\n",
    "test.rename(columns = {old:new for old, new in zip(test.columns[4:], var_names)}, inplace=True)"
   ]
  },
  {
   "cell_type": "code",
   "execution_count": null,
   "id": "f86bdd9b-fc6f-4aaf-b24a-bd6ae461e825",
   "metadata": {
    "id": "jqFV4nnUhwSS"
   },
   "outputs": [],
   "source": [
    "actual_station_distance = np.where(actual_station_distance == 0, 1000000, actual_station_distance)"
   ]
  },
  {
   "cell_type": "code",
   "execution_count": null,
   "id": "090edfdc-c1b7-48aa-85ab-f566605b7254",
   "metadata": {
    "id": "ygfJscWChZrA"
   },
   "outputs": [],
   "source": [
    "weights = (1/(actual_station_distance**2))"
   ]
  },
  {
   "cell_type": "code",
   "execution_count": null,
   "id": "78612a37-7b69-4f79-92cf-fa492553dbc5",
   "metadata": {
    "id": "uGs9pqx3hMBd"
   },
   "outputs": [],
   "source": [
    "sum_distance = np.zeros((10))\n",
    "for i in range(len(weights)):\n",
    "  sum_distance[i] = weights[i].sum()"
   ]
  },
  {
   "cell_type": "code",
   "execution_count": null,
   "id": "7d3da1ed-172a-4434-a3c0-f328cee1cc1c",
   "metadata": {
    "id": "JISTIA1EiNth"
   },
   "outputs": [],
   "source": [
    "for i in range(len(weights)):\n",
    "  for j in range(len(weights)):\n",
    "    weights[i,j] /= sum_distance[i]"
   ]
  },
  {
   "cell_type": "code",
   "execution_count": null,
   "id": "d7897c49-8251-4b8e-97a2-19edcc01ad44",
   "metadata": {
    "scrolled": true
   },
   "outputs": [],
   "source": [
    "test.melt().query('value.isnull()')"
   ]
  },
  {
   "cell_type": "markdown",
   "id": "0c76b9b2-b010-4a91-b443-61e7f55da1fe",
   "metadata": {},
   "source": [
    "##### replace NA values with IDW approximation and divide by the sum of non-missing weights"
   ]
  },
  {
   "cell_type": "code",
   "execution_count": null,
   "id": "bf65ac02-eebb-485a-81d4-51f432c308e2",
   "metadata": {
    "id": "_41OwyURjXZ8"
   },
   "outputs": [],
   "source": [
    "for i in range(len(test)):\n",
    "  for j in range(len(test.columns)):\n",
    "    if pd.isnull(test.iloc[i,j]):\n",
    "      test.iloc[i,j] = np.nansum(weights[i]*test.iloc[:,j])/np.sum(weights[i][test.index[~test.iloc[:,j].isnull()]])\n",
    "    else:\n",
    "      test.iloc[i,j] = test.iloc[i,j]"
   ]
  },
  {
   "cell_type": "markdown",
   "id": "12f68425-2819-4134-831b-39763555bee8",
   "metadata": {},
   "source": [
    "##### Create an array for each day with measurements and a 50x50 grid"
   ]
  },
  {
   "cell_type": "code",
   "execution_count": null,
   "id": "218924ea-5e31-4791-959b-9a2bb7331cd8",
   "metadata": {
    "id": "9adRtumKIvKn"
   },
   "outputs": [],
   "source": [
    "zi = np.zeros((361,50,50))"
   ]
  },
  {
   "cell_type": "code",
   "execution_count": null,
   "id": "654721f2-f749-4bd2-9e83-f35197d9e58d",
   "metadata": {
    "id": "4ag_QqMDI5Z3"
   },
   "outputs": [],
   "source": [
    "for i in range(len(days)):\n",
    "  zi[i,:,:] = np.dot(a_weights, test.iloc[:,i+4]).reshape(50,50)"
   ]
  },
  {
   "cell_type": "code",
   "execution_count": null,
   "id": "4d395d65-1914-45d5-bfc2-a942b9447a0a",
   "metadata": {
    "colab": {
     "base_uri": "https://localhost:8080/",
     "height": 452
    },
    "id": "-fNviNYpPHii",
    "outputId": "afce1846-b590-4a30-af3c-83fcc47f0297"
   },
   "outputs": [],
   "source": [
    "# Rough plot for a random day\n",
    "fig, ax = plt.subplots()\n",
    "plt.imshow(zi[95], extent=(test.longitude.min(), test.longitude.max(), test.latitude.max(), test.latitude.min()), cmap = 'bwr',  vmin = -10, vmax = 30)\n",
    "ax.scatter(test.longitude, test.latitude, marker = '.', c = 'black', s = 0.1)\n",
    "plt.colorbar()"
   ]
  },
  {
   "cell_type": "markdown",
   "id": "5ca87901-b2f6-42a5-bbcf-679421649497",
   "metadata": {},
   "source": [
    "##### We repeat similar steps as above to plot the 50x50 grid as an animation"
   ]
  },
  {
   "cell_type": "code",
   "execution_count": null,
   "id": "14465199-845b-4a2d-8984-d9b51dc08691",
   "metadata": {
    "id": "ZvqvGJujIgZ6"
   },
   "outputs": [],
   "source": [
    "def plot(x,y,z,grid):\n",
    "    plt.figure()\n",
    "    plt.imshow(grid, extent=(x.min(), x.max(), y.max(), y.min()), cmap = 'bwr',  vmin = -10, vmax = 30)\n",
    "    plt.scatter(x,y,c=z, cmap = 'bwr', vmin = -10, vmax = 30)\n",
    "    plt.colorbar()\n",
    "    ax.annotate(str(date_frame.date2[i]), xy = (0.5,1.02), xycoords='axes fraction', ha = 'center')"
   ]
  },
  {
   "cell_type": "code",
   "execution_count": null,
   "id": "84f67336-3f33-4348-9563-6e4a17f57500",
   "metadata": {
    "id": "9RL9PsV-QQjd"
   },
   "outputs": [],
   "source": [
    "days2 = [i for i in range(len(days))]"
   ]
  },
  {
   "cell_type": "code",
   "execution_count": null,
   "id": "b3a52d19-0b6a-4c46-9908-00ff1f3b54fe",
   "metadata": {
    "colab": {
     "base_uri": "https://localhost:8080/",
     "height": 465
    },
    "id": "iHA_u2hrdTyi",
    "outputId": "6a854693-271a-4ec4-8b39-7d831b49e3c2"
   },
   "outputs": [],
   "source": [
    "fig = plt.figure()\n",
    "ax = plt.axes()\n",
    "im = ax.imshow(zi[0], extent = (test.longitude.min(), test.longitude.max(), test.latitude.min(), test.latitude.max()), cmap = 'bwr', vmin = -10, vmax = 30)\n",
    "cb = fig.colorbar(im)\n",
    "ax.scatter(test.longitude, test.latitude, c = 'black', s = 0.1)\n",
    "ax.annotate(str(date_frame.date2[0])+f', mean temp: {test.iloc[:,4].mean().round(1)}C', xy = (0.5,1.02), xycoords='axes fraction', ha = 'center')"
   ]
  },
  {
   "cell_type": "code",
   "execution_count": null,
   "id": "933819da-2365-4326-8b83-7a8b3aa7aab6",
   "metadata": {
    "id": "dSgCYeS_VVQb"
   },
   "outputs": [],
   "source": [
    "def init():\n",
    "  im.set_data(np.zeros((50,50)))\n",
    "  return"
   ]
  },
  {
   "cell_type": "code",
   "execution_count": null,
   "id": "7d619bb5-24e3-4475-aae0-a88b9624bdd9",
   "metadata": {
    "id": "Ne5U_iiZdLln"
   },
   "outputs": [],
   "source": [
    "def animate(i):\n",
    "  ax.clear()\n",
    "  im.set_array(zi[i])\n",
    "  ax.imshow(zi[i], cmap = 'bwr', extent = (test.longitude.min(), test.longitude.max(), test.latitude.min(), test.latitude.max()), vmin = -10, vmax = 30)\n",
    "  ax.scatter(test.longitude, test.latitude, c = test.iloc[:, i+4], s = 0.1, cmap = 'bwr', vmin = -10, vmax = 30)\n",
    "  ax.annotate(str(date_frame.date2[i])+f', mean temp: {test.iloc[:,i+4].mean().round(1)}C', xy = (0.5,1.02), xycoords='axes fraction', ha = 'center')"
   ]
  },
  {
   "cell_type": "code",
   "execution_count": null,
   "id": "3fe291c4-bb98-481a-a19f-258cb8835c52",
   "metadata": {
    "id": "77BCUmVTdoGe"
   },
   "outputs": [],
   "source": [
    "animation = FuncAnimation(fig, animate, init_func = init, frames = range(len(date_frame)), interval = 300, repeat = False)\n",
    "plt.show()"
   ]
  },
  {
   "cell_type": "code",
   "execution_count": null,
   "id": "9bb08777-0a73-45d8-a141-d01d292812bc",
   "metadata": {
    "colab": {
     "base_uri": "https://localhost:8080/",
     "height": 577
    },
    "id": "tMSqiM3rRDrP",
    "outputId": "54c66ff6-faa7-464d-fd1e-efa4473ac339"
   },
   "outputs": [],
   "source": [
    "animation"
   ]
  },
  {
   "cell_type": "markdown",
   "id": "431bac3c-6153-47bb-9322-67c478f9e49f",
   "metadata": {},
   "source": [
    "##### The animation is smooth and conveys the temperature nicely, but it lacks the spatial reference to points on the map. We want to overlay a plot of this region of Illinois on the animation."
   ]
  },
  {
   "cell_type": "code",
   "execution_count": null,
   "id": "bf83c89f-a1d0-4720-ac59-65c2f2613125",
   "metadata": {
    "id": "_EjrF1mBxDea"
   },
   "outputs": [],
   "source": [
    "os.chdir(\"../tl_2023_17_tract\")\n",
    "gdf3 = gpd.read_file('tl_2023_17_tract.shp')"
   ]
  },
  {
   "cell_type": "code",
   "execution_count": null,
   "id": "faaa26f0-8c4f-4ecc-bcce-5152263d2960",
   "metadata": {
    "id": "6KZPwsUsMeti"
   },
   "outputs": [],
   "source": [
    "clip = Polygon(((Chi_locations.longitude.min(), Chi_locations.latitude.min()), (Chi_locations.longitude.max(), Chi_locations.latitude.min()), (Chi_locations.longitude.max(), Chi_locations.latitude.max()), (Chi_locations.longitude.min(), Chi_locations.latitude.max())))\n",
    "gdf4 = gdf3.clip(clip)"
   ]
  },
  {
   "cell_type": "code",
   "execution_count": null,
   "id": "17762562-8d11-4670-8adb-3fe4fc52653a",
   "metadata": {
    "colab": {
     "base_uri": "https://localhost:8080/",
     "height": 448
    },
    "id": "iSUt_mv3NBnC",
    "outputId": "b327da04-dec9-4549-9997-eeb96046a506",
    "scrolled": true
   },
   "outputs": [],
   "source": [
    "fig, ax = plt.subplots()\n",
    "gdf2.geometry.boundary.plot(ax = ax, **{'linewidth':0.5, 'edgecolor':'green'})\n",
    "gdf4.plot(ax = ax, **{'linewidth':0.05, 'edgecolor':'black', 'facecolor':'none'})\n",
    "gdf4[gdf4.NAMELSAD == 'Census Tract 9900'].plot(alpha = 0.5, ax = ax, **{'linewidth':0.05, 'facecolor':'turquoise'})\n",
    "Chi_locations.plot(ax = ax, markersize = 0.5, **{'facecolor':'black'})\n",
    "# Black dots represent station locations within the greater Chicago area; Green boundary represents the borders of the city."
   ]
  },
  {
   "cell_type": "markdown",
   "id": "9b3c1144-5e3b-4657-bf05-d15609f48e7e",
   "metadata": {},
   "source": [
    "##### we can superimpose a frame of our smooth temperature approximation on the map of the city, but it fits awkwardly and only covers part of the metro area."
   ]
  },
  {
   "cell_type": "code",
   "execution_count": null,
   "id": "0f8c1573-0a49-4216-ab9d-f39cea2a8df0",
   "metadata": {
    "colab": {
     "base_uri": "https://localhost:8080/",
     "height": 437
    },
    "id": "ZMszN0V3-Wxi",
    "outputId": "6e0385c1-e3c2-49f0-f42a-95a72ddd469d"
   },
   "outputs": [],
   "source": [
    "fig = plt.figure()\n",
    "ax = plt.axes()\n",
    "gdf4.plot(ax = ax, **{'linewidth':0.05, 'edgecolor':'black', 'facecolor':'none'})\n",
    "im = ax.imshow(zi[0], extent = (test.longitude.min(), test.longitude.max(), test.latitude.min(), test.latitude.max()), cmap = 'bwr', vmin = -10, vmax = 30)\n",
    "cb = fig.colorbar(im)\n",
    "ax.scatter(test.longitude, test.latitude, c = 'black', s = 0.5)\n",
    "ax.annotate(str(date_frame.date2[0])+f', mean temp: {test.iloc[:,4].mean().round(1)}C', xy = (0.5,1.02), xycoords='axes fraction', ha = 'center')"
   ]
  },
  {
   "cell_type": "code",
   "execution_count": null,
   "id": "faa2d25e-01b9-4770-98d3-3ef3d62093f4",
   "metadata": {
    "id": "njxslpyFN3Wh"
   },
   "outputs": [],
   "source": [
    "def init():\n",
    "  im.set_data(np.zeros((50,50)))\n",
    "  return\n",
    "def animate(i):\n",
    "  ax.clear()\n",
    "  im.set_array(zi[i])\n",
    "  gdf4.plot(ax = ax, **{'linewidth':0.05, 'edgecolor':'green', 'facecolor':'none'})\n",
    "  ax.imshow(zi[i], cmap = 'bwr', extent = (test.longitude.min(), test.longitude.max(), test.latitude.min(), test.latitude.max()), vmin = -10, vmax = 30)\n",
    "  ax.scatter(test.longitude, test.latitude, c = test.iloc[:, i+4], s = 0.1, cmap = 'bwr', vmin = -10, vmax = 30)\n",
    "  ax.annotate(str(date_frame.date2[i])+f', mean temp: {test.iloc[:,i+4].mean().round(1)}C', xy = (0.5,1.02), xycoords='axes fraction', ha = 'center')\n",
    "animation = FuncAnimation(fig, animate, init_func = init, frames = range(len(date_frame)), interval = 300, repeat = False)\n",
    "plt.show()"
   ]
  },
  {
   "cell_type": "markdown",
   "id": "5284360f-f088-4822-9d8d-881c18456002",
   "metadata": {},
   "source": [
    "##### This animation is quite large, so we have to set a new upper limit to display it."
   ]
  },
  {
   "cell_type": "code",
   "execution_count": null,
   "id": "85403a06-9a5d-4546-9f9c-8582c4f7e1e3",
   "metadata": {
    "id": "EDP0ovP9P-I4"
   },
   "outputs": [],
   "source": [
    "mpl.rcParams['animation.embed_limit'] = 100"
   ]
  },
  {
   "cell_type": "code",
   "execution_count": null,
   "id": "61f22139-4878-41b3-9c6e-c850d4258353",
   "metadata": {
    "id": "XpIcN9pjOHiC"
   },
   "outputs": [],
   "source": [
    "animation"
   ]
  },
  {
   "cell_type": "markdown",
   "id": "ad6aeefc-65c2-4066-93ae-916c4326f146",
   "metadata": {
    "id": "aOTEaGYCSLiH"
   },
   "source": [
    "##### The data from 2004 is too incomplete to project temperature for the city of Chicago with confidence from just distance alone. None of the stations are locatedin the city itself, and proximity to the lake and the urban heat island effect could both significantly impact weather in the city. We expand the results to 20 years from 2004 through 2023 to see if more of the stations listed have results."
   ]
  },
  {
   "cell_type": "code",
   "execution_count": null,
   "id": "3eda17b9-dfe0-4ac2-ba80-a2d362f15666",
   "metadata": {
    "id": "zAHIEV2EXyO_"
   },
   "outputs": [],
   "source": [
    "results3 = pd.concat((results, results2))"
   ]
  },
  {
   "cell_type": "code",
   "execution_count": null,
   "id": "d413780e-5aaf-455a-9dd5-f60a143af205",
   "metadata": {
    "id": "Zfot3wT8hK-1"
   },
   "outputs": [],
   "source": [
    "#Limit our 20 year results to temperature measurements\n",
    "Temp_20year = results3.query('datatype.isin((\"TOBS\", \"TMIN\", \"TMAX\"))').drop('Unnamed: 0', axis = 1).reset_index().drop('index', axis = 1)"
   ]
  },
  {
   "cell_type": "code",
   "execution_count": null,
   "id": "440b0ff5-381d-4b26-bdab-ea07fd2c5cf7",
   "metadata": {
    "id": "Jr9Ls5F1nGsK"
   },
   "outputs": [],
   "source": [
    "results3.groupby('station').count().sort_values(by = 'date', ascending = False).head(20)"
   ]
  },
  {
   "cell_type": "code",
   "execution_count": null,
   "id": "7186b525-8883-4d94-bb81-6e7aff350b55",
   "metadata": {
    "id": "G-gavAN9h-yE"
   },
   "outputs": [],
   "source": [
    "Temp_20year['date'] = pd.to_datetime(Temp_20year.date)\n",
    "Temp_20year['date2'] = pd.to_datetime(Temp_20year.date).dt.date\n",
    "Temp_20year['month'] = pd.to_datetime(Temp_20year.date).dt.month\n",
    "Temp_20year['dayofmonth'] = Temp_20year.date.dt.day\n",
    "Temp_20year['year'] = Temp_20year.date.dt.year\n",
    "Temp_20year['dayofyear'] = Temp_20year.date.dt.dayofyear"
   ]
  },
  {
   "cell_type": "markdown",
   "id": "3f041cdf-4c18-4700-8088-eff6a595d1fa",
   "metadata": {},
   "source": [
    "##### Many of the stations may record other values, like precipitation, but only 13 record any temperature value"
   ]
  },
  {
   "cell_type": "code",
   "execution_count": null,
   "id": "95c39622-0a6f-43e5-bf7c-41e0100caacc",
   "metadata": {
    "id": "iTKZMvL0iMI3",
    "scrolled": true
   },
   "outputs": [],
   "source": [
    "Temp_20year.groupby('station').count()"
   ]
  },
  {
   "cell_type": "markdown",
   "id": "c24ed53c-03f8-45f3-889d-50e31a0d3ec5",
   "metadata": {},
   "source": [
    "##### Lisle Morton Arboretum changes station id in 2007 but is otherwise identical"
   ]
  },
  {
   "cell_type": "code",
   "execution_count": null,
   "id": "bfcdfdac-3b59-4979-839b-5515115d2173",
   "metadata": {
    "id": "D7FSL8tR4I9q",
    "scrolled": true
   },
   "outputs": [],
   "source": [
    "Temp_20year.query('station.isin((\"GHCND:USC00119221\", \"GHCND:USC00115097\"))').groupby('date2').count()['station'].sort_values(ascending = False)"
   ]
  },
  {
   "cell_type": "markdown",
   "id": "03016a0d-032d-4513-9287-8e0efe9f443c",
   "metadata": {},
   "source": [
    "##### we change old values of previous Morton Arboretum station id to the new value:"
   ]
  },
  {
   "cell_type": "code",
   "execution_count": null,
   "id": "30c4a327-7611-45b6-baa3-b0e807cfddc9",
   "metadata": {
    "id": "9cFamlYs6LC4"
   },
   "outputs": [],
   "source": [
    "Temp_20year['station'] = np.where(Temp_20year.station == \"GHCND:USC00115097\", \"GHCND:USC00119221\", Temp_20year.station)"
   ]
  },
  {
   "cell_type": "markdown",
   "id": "da4b847c-1886-4b60-85c3-6abda979385d",
   "metadata": {},
   "source": [
    "##### Starting in 2005 there is a station inside the city, near the lakeshore. We can get an idea of the effect of the lake and city."
   ]
  },
  {
   "cell_type": "code",
   "execution_count": null,
   "id": "c1b99212-f05e-4d5b-95a1-05d5a4258aeb",
   "metadata": {
    "colab": {
     "base_uri": "https://localhost:8080/",
     "height": 447
    },
    "id": "wiutF-7fnupO",
    "outputId": "1f3a0107-b8cd-4369-dba7-874a7f44c998"
   },
   "outputs": [],
   "source": [
    "Temp_20year_stations = Temp_20year.groupby('station').count().merge(Chi_locations, how = 'left', left_on = \"station\", right_on = \"id\")\n",
    "fig,ax = plt.subplots()\n",
    "Temp_20year_stations = Temp_20year_stations.set_geometry(gpd.points_from_xy(Temp_20year_stations.longitude, Temp_20year_stations.latitude))\n",
    "Temp_20year_stations.plot(ax = ax, marker = '.', c = 'black')\n",
    "gdf4.plot(ax = ax, **{'linewidth':0.05, 'edgecolor':'black', 'facecolor':'none'})\n",
    "gdf4[gdf4.NAMELSAD == 'Census Tract 9900'].plot(alpha = 0.5, ax = ax, **{'linewidth':0.05, 'facecolor':'turquoise'})"
   ]
  },
  {
   "cell_type": "code",
   "execution_count": null,
   "id": "299219e7-dbdd-488a-8826-43444a956500",
   "metadata": {
    "colab": {
     "base_uri": "https://localhost:8080/",
     "height": 931
    },
    "id": "x3YW51gezEGb",
    "outputId": "db1ac763-cd93-4403-a81a-f3eecb06db7d"
   },
   "outputs": [],
   "source": [
    "Temp_20year_stations"
   ]
  },
  {
   "cell_type": "code",
   "execution_count": null,
   "id": "07dad462-c993-487d-9caf-26eda687f9b8",
   "metadata": {
    "id": "gQCwbUeIcIEc"
   },
   "outputs": [],
   "source": [
    "Temp_20year.query('datatype == \"TMIN\"')\n",
    "#74662 rows"
   ]
  },
  {
   "cell_type": "markdown",
   "id": "4b23115b-1937-456a-8fe3-1a334125f9fe",
   "metadata": {
    "id": "x2yN0YnlvUSi"
   },
   "source": [
    "##### There's no satisfying way to adjust for a leap year and group by the ordinal day of the year across different years (January 1 of 2005 and 2006 would have different adjusted values, for instance) and the pattern would repeat every 4 years (so we could compare 2005 values to 2009). For the sake of simplicity, we will just ignore the leap year and compare day 1 of each year."
   ]
  },
  {
   "cell_type": "code",
   "execution_count": null,
   "id": "f9e89078-391a-453e-a78d-5abeb01bb403",
   "metadata": {
    "id": "Y7nekBFvquq7"
   },
   "outputs": [],
   "source": [
    "#pivot data\n",
    "Temp_20year = Temp_20year.set_index(['station', 'date2', 'month', 'dayofmonth', 'year', 'dayofyear']).pivot(columns = 'datatype', values = 'value').reset_index()"
   ]
  },
  {
   "cell_type": "code",
   "execution_count": null,
   "id": "869aef2e-b70f-4c38-b7fb-be1e3c925f48",
   "metadata": {
    "id": "0UyiCa4a0Ves"
   },
   "outputs": [],
   "source": [
    "Temp_20year"
   ]
  },
  {
   "cell_type": "code",
   "execution_count": null,
   "id": "669160e3-0e65-46ef-a032-a08821ad2bb1",
   "metadata": {
    "id": "WIK75P94ffVv"
   },
   "outputs": [],
   "source": [
    "Temp_20year.query('TMAX.isnull()')\n",
    "#only 148 rows are missing TMIN vs 186 for TMAX and 22720 for TOBS."
   ]
  },
  {
   "cell_type": "code",
   "execution_count": null,
   "id": "871f7b8a-1ce3-48bc-a26f-3a37f04e89d0",
   "metadata": {
    "colab": {
     "base_uri": "https://localhost:8080/"
    },
    "id": "Ib0LpVYBf5qS",
    "outputId": "f0a1c54d-18c7-47d0-97eb-54806ec6c64c"
   },
   "outputs": [],
   "source": [
    "Temp_20year.query('TMIN.isnull() | TMAX.isnull()')['station'].count()\n",
    "#305 rows"
   ]
  },
  {
   "cell_type": "markdown",
   "id": "5a9d6446-e150-4662-8206-a289c070a707",
   "metadata": {},
   "source": [
    "##### Explore strategies for interpolating TMIN or TMAX if missing. What is the average difference between TMIN and TMAX?"
   ]
  },
  {
   "cell_type": "code",
   "execution_count": null,
   "id": "eddacd3f-92a4-4605-9acb-822db1e5c8df",
   "metadata": {
    "colab": {
     "base_uri": "https://localhost:8080/",
     "height": 469
    },
    "id": "rLaB0PA_hrLh",
    "outputId": "2f3adac7-f71e-4bc6-8a29-7d314e921138"
   },
   "outputs": [],
   "source": [
    "Temp_20year.query('~TMIN.isnull() & ~TMAX.isnull()').assign(diff = lambda x: x.TMAX - x.TMIN).hist('diff', bins = 30)"
   ]
  },
  {
   "cell_type": "code",
   "execution_count": null,
   "id": "07c35f04-3b0d-489a-b3a8-79a52030017b",
   "metadata": {
    "id": "iVgkfHgIi1fx"
   },
   "outputs": [],
   "source": [
    "test2 = Temp_20year.query('~TMIN.isnull() & ~TMAX.isnull()').assign(diff = lambda x: x.TMAX - x.TMIN)"
   ]
  },
  {
   "cell_type": "markdown",
   "id": "d945b675-b8cc-4bf7-b035-7ea1d4b91896",
   "metadata": {},
   "source": [
    "##### Calculate mean and standard deviation of difference between TMAX and TMIN at each station"
   ]
  },
  {
   "cell_type": "code",
   "execution_count": null,
   "id": "b13b16c8-2066-485a-ae18-fd5e571d4316",
   "metadata": {
    "id": "uNQ6tPHRnHqs",
    "scrolled": true
   },
   "outputs": [],
   "source": [
    "test2.groupby(['station'])['diff'].aggregate([\"mean\", \"std\"])"
   ]
  },
  {
   "cell_type": "markdown",
   "id": "61e95934-3170-47e1-852f-93b4fc2f46e8",
   "metadata": {},
   "source": [
    "##### Create a histogram of temperature difference from max to min for each station to look for patterns "
   ]
  },
  {
   "cell_type": "code",
   "execution_count": null,
   "id": "e72fee86-26da-4617-9f7a-d5cb67054edb",
   "metadata": {
    "colab": {
     "base_uri": "https://localhost:8080/",
     "height": 452
    },
    "id": "xSrX_MRSjtme",
    "outputId": "2b0a0a19-08f7-48f6-b9ea-bbc14431dff4"
   },
   "outputs": [],
   "source": [
    "fig, axs = plt.subplots(4, 3)\n",
    "for ax, (name, new) in zip(axs.flatten(), test2.groupby('station')):\n",
    "  new.hist('diff', ax = ax, bins = 30)"
   ]
  },
  {
   "cell_type": "markdown",
   "id": "6fa69667-ba07-4de7-9f4c-d7eba83c3151",
   "metadata": {
    "id": "C04ni9Z2vPbr"
   },
   "source": [
    "##### Standard deviation is too high to simply interpolate values confidently. There are few enough missing values that we will simply ignore them. We make an average of TMIN and TMAX as a straightforward estimate of the average temperature."
   ]
  },
  {
   "cell_type": "code",
   "execution_count": null,
   "id": "c51ef2ad-15a4-45f5-8f8f-c6b49e636705",
   "metadata": {
    "id": "-w9ryZDvlwWu"
   },
   "outputs": [],
   "source": [
    "#create mean temperature column from average of min and max\n",
    "test2 = test2.assign(TMEAN = lambda x: (x.TMIN + x.TMAX)/2).groupby(['station', 'dayofyear'])['TMEAN'].aggregate(['mean', 'std']).reset_index()"
   ]
  },
  {
   "cell_type": "code",
   "execution_count": null,
   "id": "64d7ee6c-8882-4a77-8d4f-6ad8099e16b0",
   "metadata": {
    "id": "4P3MSF8ulXIN"
   },
   "outputs": [],
   "source": [
    "test2 = test2.merge(Chi_locations, how = 'left', left_on = \"station\", right_on = \"id\")"
   ]
  },
  {
   "cell_type": "code",
   "execution_count": null,
   "id": "eb6fee0a-5752-410a-98c4-79f2ae4f116a",
   "metadata": {
    "colab": {
     "base_uri": "https://localhost:8080/",
     "height": 466
    },
    "id": "vfbR0B_fbS9N",
    "outputId": "bca0473a-8d6c-4bdb-ecb3-6a09e2843603"
   },
   "outputs": [],
   "source": [
    "#Plot 20 year average temperature by day of year\n",
    "fig, ax = plt.subplots()\n",
    "ax.set_prop_cycle(color = ['blue', 'gray', 'red'])\n",
    "ax.set_ylabel('Temperature in C')\n",
    "Temp_20year.query('~TMIN.isnull() & ~TMAX.isnull()').assign(TMEAN = lambda x: (x.TMAX + x.TMIN)/2)\\\n",
    ".groupby(['month', 'dayofmonth'])[['TMIN', 'TMAX', 'TMEAN']].aggregate(\"mean\").reset_index().reset_index()\\\n",
    ".plot(x = 'index', y = ['TMIN', 'TMEAN', 'TMAX'], ax = ax)\n",
    "ax.set_xlabel('Day of Year')"
   ]
  },
  {
   "cell_type": "code",
   "execution_count": null,
   "id": "fa84f13d-f870-4ab0-ba60-a09768775eba",
   "metadata": {
    "id": "vFxqr85Ug8Sz"
   },
   "outputs": [],
   "source": [
    "test2 = test2.sort_values(['dayofyear', 'name'])"
   ]
  },
  {
   "cell_type": "code",
   "execution_count": null,
   "id": "3d0e4acb-aeef-4a14-be1d-0ca4eba7969b",
   "metadata": {
    "id": "YdrUUb4PrSJa"
   },
   "outputs": [],
   "source": [
    "#pivot and make a column for the mean temperature at a given station on each day of the year\n",
    "test2 = test2.set_index(['station', 'name', 'geometry']).pivot(columns = 'dayofyear', values = 'mean').reset_index()"
   ]
  },
  {
   "cell_type": "code",
   "execution_count": null,
   "id": "e83a9480-b69f-4175-863d-435eb37b193c",
   "metadata": {
    "id": "dXbITwPCsVdk",
    "jupyter": {
     "source_hidden": true
    }
   },
   "outputs": [],
   "source": [
    "var_names = ['Day' +str(i+1) for i in range(366)]\n",
    "test2.rename(columns = {old:new for old, new in zip(test2.columns[3:], var_names)}, inplace=True)"
   ]
  },
  {
   "cell_type": "code",
   "execution_count": null,
   "id": "dc295bca-7afe-4252-84e8-4f49be77d051",
   "metadata": {
    "id": "jjwWSf_Jmp6_"
   },
   "outputs": [],
   "source": [
    "#repeat IDW steps from above\n",
    "a = np.zeros((2500,len(test2.geometry)))\n",
    "xi = np.linspace(Chi_locations.longitude.min(), -87.52 , 50) #longitude of Illinois-Indiana border\n",
    "yi = np.linspace(Chi_locations.latitude.min(), Chi_locations.latitude.max(), 50)\n",
    "xi, yi = np.meshgrid(xi,yi)\n",
    "xi, yi = xi.flatten(), yi.flatten()\n",
    "for i in range(len(xi)):\n",
    "  for j in range(len(test2.geometry)):\n",
    "    a[i,j] = haversine(test2.geometry[j].coords[0][::-1], (yi[i], xi[i]))\n",
    "a = np.where(a == 0, 0.0000001, a)\n",
    "a_weights = 1/(a**2)\n",
    "b = np.zeros((2500))\n",
    "for i in range(len(a_weights)):\n",
    "  b[i] = a_weights[i].sum()\n",
    "for i in range(len(a_weights)):\n",
    "  for j in range(len(test2.geometry)):\n",
    "    a_weights[i,j] /= b[i]\n",
    "actual_station_distance = np.zeros((12,12))\n",
    "for i in range(len(test2)):\n",
    "  for j in range(len(test2)):\n",
    "    actual_station_distance[i,j] = haversine(test2.geometry[i].coords[0][::-1], test2.geometry[j].coords[0][::-1])\n",
    "actual_station_distance = np.where(actual_station_distance == 0, 1000000, actual_station_distance)\n",
    "weights = (1/(actual_station_distance**2))\n",
    "sum_distance = np.zeros((len(test2)))\n",
    "for i in range(len(weights)):\n",
    "  sum_distance[i] = weights[i].sum()\n",
    "for i in range(len(weights)):\n",
    "  for j in range(len(weights)):\n",
    "    weights[i,j] /= sum_distance[i]"
   ]
  },
  {
   "cell_type": "code",
   "execution_count": null,
   "id": "9886239c-d246-4f74-8f60-b42cf26bde84",
   "metadata": {
    "id": "4kV49-9EDlMe"
   },
   "outputs": [],
   "source": [
    "closest_station_distance = np.zeros((12))\n",
    "for i in range(len(actual_station_distance)):\n",
    "  closest_station_distance[i] = np.min(actual_station_distance[i])"
   ]
  },
  {
   "cell_type": "code",
   "execution_count": null,
   "id": "bc26fa87-ed70-42fd-9f9f-31b9e7e7f3be",
   "metadata": {
    "id": "m1hhs2u4ybD8"
   },
   "outputs": [],
   "source": [
    "zi = np.zeros((366, 50, 50))\n",
    "for i in range(366):\n",
    "  zi[i,:,:] = np.dot(a_weights, test2.iloc[:,i+3]).reshape(50,50)"
   ]
  },
  {
   "cell_type": "code",
   "execution_count": null,
   "id": "e8548a85-99c9-4f63-9310-e889d2194eb8",
   "metadata": {
    "id": "J2XL3TqXiEfC"
   },
   "outputs": [],
   "source": [
    "clip = Polygon(((Chi_locations.longitude.min(), Chi_locations.latitude.min()), (-87.52, Chi_locations.latitude.min()), (-87.52, Chi_locations.latitude.max()), (Chi_locations.longitude.min(), Chi_locations.latitude.max())))"
   ]
  },
  {
   "cell_type": "code",
   "execution_count": null,
   "id": "9e0076f7-b1c4-49a7-8f92-21a0ae920147",
   "metadata": {
    "colab": {
     "base_uri": "https://localhost:8080/",
     "height": 452
    },
    "id": "cttoLj03FaWR",
    "outputId": "7429d92b-ad02-4969-a13b-1a224a3efd3c"
   },
   "outputs": [],
   "source": [
    "fig = plt.figure()\n",
    "ax = plt.axes()\n",
    "gdf4.plot(ax = ax, **{'linewidth':0.05, 'edgecolor':'black', 'facecolor':'none'})\n",
    "Temp_20year_stations.plot(ax = ax, marker = '.', c = 'black')\n",
    "gdf4[gdf4.NAMELSAD == 'Census Tract 9900'].clip(clip).plot(ax = ax, **{'linewidth':0.06, 'facecolor':'turquoise'})\n",
    "im = ax.imshow(zi[0], extent = (Chi_locations.longitude.min(), -87.52, Chi_locations.latitude.min(), Chi_locations.latitude.max()), cmap = 'bwr', vmin = -10, vmax = 30)\n",
    "plt.colorbar(im)"
   ]
  },
  {
   "cell_type": "code",
   "execution_count": null,
   "id": "69761bbd-33b9-4ab6-8204-1c426871e3ca",
   "metadata": {
    "id": "ex6KjtwmlWIn"
   },
   "outputs": [],
   "source": [
    "def init():\n",
    "  im.set_data(np.zeros((50,50)))\n",
    "  return\n",
    "def animate(i):\n",
    "  ax.clear()\n",
    "  im.set_array(zi[i])\n",
    "  gdf4.clip(clip).plot(ax = ax, **{'linewidth':0.05, 'edgecolor':'black', 'facecolor':'none'})\n",
    "  gdf4[gdf4.NAMELSAD == 'Census Tract 9900'].clip(clip).plot(ax = ax, **{'linewidth':0.06, 'facecolor':'turquoise'})\n",
    "  ax.imshow(zi[i], cmap = 'bwr', extent = (Chi_locations.longitude.min(), -87.52, Chi_locations.latitude.min(), Chi_locations.latitude.max()), vmin = -10, vmax = 30)\n",
    "  ax.scatter(Temp_20year_stations.longitude, Temp_20year_stations.latitude, marker = '.', c = \"black\", s = 0.1)\n",
    "  ax.annotate(f' Day {str(i+1)}' f', mean temp: {test2.iloc[:,i+3].mean().round(1)}C', xy = (0.5,1.02), xycoords='axes fraction', ha = 'center')\n",
    "anim = FuncAnimation(fig, animate, init_func = init, frames = range(365), interval = 300, repeat = False)\n"
   ]
  },
  {
   "cell_type": "markdown",
   "id": "a93eea5c-e049-4d83-8ae4-53ead3a9798d",
   "metadata": {},
   "source": [
    "##### And now we have a much nice animation with the map of Chicago in the background"
   ]
  },
  {
   "cell_type": "code",
   "execution_count": null,
   "id": "37755ae2-9770-4994-b0c8-b0810fc19efb",
   "metadata": {
    "colab": {
     "base_uri": "https://localhost:8080/",
     "height": 632
    },
    "id": "8pLbiBKfoeBF",
    "outputId": "f7e69f46-d599-464b-b34f-63b53ee1765d",
    "scrolled": true
   },
   "outputs": [],
   "source": [
    "anim"
   ]
  },
  {
   "cell_type": "code",
   "execution_count": null,
   "id": "0d771c47-d5c0-4f29-9428-a517f3c17af8",
   "metadata": {},
   "outputs": [],
   "source": [
    "#pip install ffmpeg"
   ]
  },
  {
   "cell_type": "code",
   "execution_count": null,
   "id": "9c58091e-5c04-4084-aa16-99f00fa9bdc3",
   "metadata": {},
   "outputs": [],
   "source": [
    "#import ffmpeg"
   ]
  },
  {
   "cell_type": "code",
   "execution_count": null,
   "id": "8884f7be-831b-4365-8d4d-f49f2d8c81d0",
   "metadata": {},
   "outputs": [],
   "source": [
    "#we save this very large animation\n",
    "#writervideo = mpl.animation.FFMpegWriter(fps=60)\n",
    "#anim.save('weather.mp4', writer=writervideo)"
   ]
  },
  {
   "cell_type": "markdown",
   "id": "93f49c90-1711-447f-b143-1e74bafa896b",
   "metadata": {},
   "source": [
    "##### I'm interested in checking and visualizing how well the IDW interpolation works for known values at each station. Are some stations approximated better than others? Create an IDW approximation for each day for each station and subtract it from the measured temperature"
   ]
  },
  {
   "cell_type": "code",
   "execution_count": null,
   "id": "12884627-8126-466e-a84b-64f92bd406c1",
   "metadata": {
    "id": "ejro2i1p2AgZ"
   },
   "outputs": [],
   "source": [
    "weights_copy = np.copy(weights)\n",
    "#make diagonal equal to zero so that the station's own values have no effect on the IDW interpolation for that station's measurement:\n",
    "for i in range(len(weights_copy)):\n",
    "  weights_copy[i,i] = 0"
   ]
  },
  {
   "cell_type": "code",
   "execution_count": null,
   "id": "471823cd-929e-4997-8942-55b3613a69e7",
   "metadata": {
    "id": "8VVpEI08VPQY"
   },
   "outputs": [],
   "source": [
    "asd = Temp_20year.set_index('station').assign(TMEAN = lambda x:x.TMIN/2 + x.TMAX/2).pivot(columns = 'date2', values = 'TMEAN')"
   ]
  },
  {
   "cell_type": "code",
   "execution_count": null,
   "id": "511b5bb0-f5dd-40b6-902e-459cdcddab9a",
   "metadata": {
    "id": "k7VHl7vnODPt"
   },
   "outputs": [],
   "source": [
    "asd_test = asd.reset_index().drop('station', axis = 1)"
   ]
  },
  {
   "cell_type": "code",
   "execution_count": null,
   "id": "f56a5928-1316-429b-b940-bb1c9961436e",
   "metadata": {
    "id": "s8Nw2UAFRuQ1"
   },
   "outputs": [],
   "source": [
    "missing_values_indices = [np.array(asd_test.iloc[:,j].index[asd_test.iloc[:,j].isnull()]) for j in range(len(asd_test.columns))]"
   ]
  },
  {
   "cell_type": "code",
   "execution_count": null,
   "id": "84d28ded-3339-4550-81fb-9ffff5edbd31",
   "metadata": {
    "id": "mhbn3X7IVa51"
   },
   "outputs": [],
   "source": [
    "sum_missing_weights = np.zeros((12, 7193))"
   ]
  },
  {
   "cell_type": "code",
   "execution_count": null,
   "id": "9698dd3e-6065-41c4-91ca-7f24400c9f7e",
   "metadata": {
    "id": "gxcXfGEgVnkz"
   },
   "outputs": [],
   "source": [
    "for i in range(12):\n",
    "  for j in range(7193):\n",
    "    sum_missing_weights[i,j] = weights_copy[i][~np.isin(np.arange(12), missing_values_indices[j])].sum()"
   ]
  },
  {
   "cell_type": "code",
   "execution_count": null,
   "id": "3f3eb2a9-3f53-4097-8b10-c05c7efd3f0c",
   "metadata": {
    "id": "-gOS2jlDVSGQ"
   },
   "outputs": [],
   "source": [
    "IDW_values = np.zeros((12, 7193))\n",
    "for i in range(len(asd)):\n",
    "  for j in range(len(asd.columns)):\n",
    "    IDW_values[i,j] = np.nansum(weights_copy[i] * asd.iloc[:,j])"
   ]
  },
  {
   "cell_type": "code",
   "execution_count": null,
   "id": "9bafedb6-f9de-4df5-af91-c9748dfb519e",
   "metadata": {},
   "outputs": [],
   "source": [
    "##### Adjust IDW_values by dividing by the sum of non-missing weights matrix; otherwise the weights don't sum to 1"
   ]
  },
  {
   "cell_type": "code",
   "execution_count": null,
   "id": "e6ffde90-77d1-4a64-ba34-1f16484beebe",
   "metadata": {
    "id": "E4ytqF9EcOBU"
   },
   "outputs": [],
   "source": [
    "IDW_values = (IDW_values / sum_missing_weights)"
   ]
  },
  {
   "cell_type": "code",
   "execution_count": null,
   "id": "65301db5-c9a7-4c82-9bb3-e44f58c8624f",
   "metadata": {
    "id": "ufSBt88SVVBY"
   },
   "outputs": [],
   "source": [
    "residual_check = pd.DataFrame(IDW_values - np.array(asd))"
   ]
  },
  {
   "cell_type": "code",
   "execution_count": null,
   "id": "fce9c263-11c9-4420-ab63-ff61bdb4fc86",
   "metadata": {
    "colab": {
     "base_uri": "https://localhost:8080/"
    },
    "id": "bIoGSzTJctny",
    "outputId": "7f723bce-e0ef-4cbe-f945-fff9f6a39ebe"
   },
   "outputs": [],
   "source": [
    "#mean of difference betweem our IDW approximation and the measured values in Celsius\n",
    "residual_check.T.mean().mean()"
   ]
  },
  {
   "cell_type": "code",
   "execution_count": null,
   "id": "844cca13-81b7-445d-b8fa-7851e58d80f4",
   "metadata": {
    "id": "0JPkRf4y0rgo"
   },
   "outputs": [],
   "source": [
    "#add station column to our matrix of errors\n",
    "residual_check = asd.reset_index().station.to_frame().merge(residual_check, left_index = True, right_index = True)"
   ]
  },
  {
   "cell_type": "code",
   "execution_count": null,
   "id": "7c17ee3d-1ef6-4c74-bf9e-434d9cc31ced",
   "metadata": {
    "colab": {
     "base_uri": "https://localhost:8080/",
     "height": 539
    },
    "id": "xVP_1x3VeZdm",
    "outputId": "1cac050d-2ff1-4a7d-a91e-657969ab44b1"
   },
   "outputs": [],
   "source": [
    "melt = pd.melt(residual_check, id_vars = 'station')\n",
    "#add name column from 20 year stations to label histograms\n",
    "melt = Temp_20year_stations[['name', 'id']].merge(melt, how = \"right\", left_on = 'id', right_on = 'station').drop('id', axis = 1).assign(name = lambda x: x.name.str.replace(pat = \", IL US\", repl = \"\"))\n",
    "fig, axs = plt.subplots(3,4, **{'figsize':(12,6)}, gridspec_kw={'hspace':0.4}, sharex = True)\n",
    "for ax, (name, new) in zip(axs.flatten(), melt.groupby('name')):\n",
    "  new.hist('value', ax = ax, bins = 30, bottom = 4)\n",
    "  ax.set_title(name, fontsize = 8)\n",
    "\n"
   ]
  },
  {
   "cell_type": "markdown",
   "id": "da2ba998-7c60-4d8c-abb7-86f0cb05416e",
   "metadata": {},
   "source": [
    "##### some histograms have very narrow spread around zero, suggesting they are very well approximated by IDW. Others have a larger spread. Labelling the histograms by the station name suggests a plausible reason for this: the two narrowest spreads are the two distinct stations at Midway Airport. When one of these stations values is missing, the weather at the other is likely to be very similar, and most of the weight in the IDW approximation will go to the other Midway Airport station."
   ]
  },
  {
   "cell_type": "code",
   "execution_count": null,
   "id": "efae92ba-64ca-4711-8e23-3e9344cf880c",
   "metadata": {
    "id": "QW8TG7svE1Xb"
   },
   "outputs": [],
   "source": [
    "closest_station_distance = pd.Series(closest_station_distance)"
   ]
  },
  {
   "cell_type": "code",
   "execution_count": null,
   "id": "dbf5deef-b931-4751-b1fd-be6ad6aff41a",
   "metadata": {
    "colab": {
     "base_uri": "https://localhost:8080/",
     "height": 425
    },
    "id": "WrxNXp1hg0zS",
    "outputId": "d1029459-9033-40f0-f871-5085c9084269",
    "scrolled": true
   },
   "outputs": [],
   "source": [
    "pd.set_option('display.max_rows', None)\n",
    "closest_station_summary = Temp_20year_stations[['name', 'id']].merge(residual_check, left_on = 'id', right_on = 'station')\\\n",
    ".drop(['id', 'station'], axis = 1).set_index('name').aggregate([\"mean\", \"std\"], axis = 1).reset_index()\\\n",
    ".merge(closest_station_distance.to_frame(), left_index = True, right_index = True).rename(columns = {0: 'closest station distance'})\n",
    "closest_station_summary"
   ]
  },
  {
   "cell_type": "markdown",
   "id": "7b0ba2f3-0f8e-48df-997f-673415649c9c",
   "metadata": {},
   "source": [
    "##### let's look at a scatter plot of closest station distance vs standard deviation to get a sense of this relationship"
   ]
  },
  {
   "cell_type": "code",
   "execution_count": null,
   "id": "52b35c64-e1b6-4334-9588-5e01f7f70b11",
   "metadata": {
    "colab": {
     "base_uri": "https://localhost:8080/",
     "height": 472
    },
    "id": "0rXdjSC4IGoa",
    "outputId": "334e31b9-ee05-48da-ac24-f550289f8988"
   },
   "outputs": [],
   "source": [
    "fig, ax = plt.subplots()\n",
    "ax.set_xlim(0,30)\n",
    "ax.set_ylim(0,3)\n",
    "ax.set_xlabel('closest station distance')\n",
    "ax.set_ylabel('Standard Deviation of Approximation Error')\n",
    "ax.scatter(closest_station_summary['closest station distance'], closest_station_summary['std'])"
   ]
  },
  {
   "cell_type": "markdown",
   "id": "0c219f01-ac20-4b3a-be98-025552082c38",
   "metadata": {},
   "source": [
    "##### Most of the points do follow the linear correlation we'd expect, with the exceptions of the stations Chicago Botanical Garden and Little Red School House, which have much higher error standard deviation than we'd expect based on the distance to the closest station. The Northerly Island station close to Lake Michigan is actually well approximated by IDW, considering the distance to the closest station."
   ]
  },
  {
   "cell_type": "code",
   "execution_count": null,
   "id": "f96ad1f2-fad4-4f3a-ae27-e651e2d6df8b",
   "metadata": {
    "colab": {
     "base_uri": "https://localhost:8080/",
     "height": 430
    },
    "id": "hdGRANVjNo-c",
    "outputId": "5c268f92-e7ff-4800-a53a-2c5cbecb41e7"
   },
   "outputs": [],
   "source": [
    "#let's plot again the stations labeled by name\n",
    "fig, ax = plt.subplots()\n",
    "gdf4.clip(clip).plot(ax = ax, **{'linewidth':0.05, 'edgecolor':'black', 'facecolor':'none'})\n",
    "Temp_20year_stations.plot(ax = ax, marker = '.', c = 'black')\n",
    "gdf4[gdf4.NAMELSAD == 'Census Tract 9900'].clip(clip).plot(ax = ax, **{'linewidth':0.06, 'facecolor':'turquoise'})\n",
    "for i in range(len(Temp_20year_stations)):\n",
    "  plt.annotate(Temp_20year_stations.name.str.replace(\", IL US\", \"\")[i], (Temp_20year_stations.longitude[i], Temp_20year_stations.latitude[i]), **{'fontsize':8})"
   ]
  },
  {
   "cell_type": "markdown",
   "id": "8b016b76-8fe6-47d2-b571-b8f9a6d91b97",
   "metadata": {},
   "source": [
    "##### Although the Botanical Garden is significantly closer to the lake than the nearest station, the lake plays little role in the measurement differences for the Little Red School House. Another reasonable explanation is that these two sites are significantly more forested than the surrounding area, making them less impacted by the Urban Heat Island effect. Of the other stations with higher error standard deviations than expected by distance, the Barrington station is in a relatively rural area, and the Palwaukee airport is heavily impacted by having the Botanical garden as its closest and most important neighbor in our approximation, while being less forested and presumably holding heat longer due to its buildings and runways. The stations that we'd expect to be most impacted by the heat island effect all have mean errors below zero (so they all have hotter temperatures on average than expected by IDW, but since these stations inside the city of Chicago are typically all close to each other, the impact is spread out). The rural Barrington station is the one whose mean approximation error is by far the furthest away from zero, and temperatures there are on average significantly cooler than we'd expect from the temperatures at its neighboring stations."
   ]
  },
  {
   "cell_type": "markdown",
   "id": "76c3e59b-af16-427e-8743-4d1759b7852f",
   "metadata": {},
   "source": [
    "##### We can analyze pattern of residuals by week of the year (first 7 days, then 7 days therafter) to look for patterns. Doing this day by day would be too granular."
   ]
  },
  {
   "cell_type": "code",
   "execution_count": null,
   "id": "334af3ce-df8b-433c-a71e-5ab8018c04e7",
   "metadata": {
    "id": "FRi4Wcl4siR1"
   },
   "outputs": [],
   "source": [
    "Weekly_residuals = asd.T.reset_index()['date2'].to_frame().merge(residual_check.set_index('station').T.reset_index(), left_index = True, right_index = True)\\\n",
    ".drop('index', axis = 1).assign(weekofyear = lambda x: pd.to_datetime(x.date2).dt.day_of_year//7).drop('date2', axis = 1).groupby('weekofyear').aggregate('mean').reset_index()\n"
   ]
  },
  {
   "cell_type": "code",
   "execution_count": null,
   "id": "7db40c72-b083-404c-a0c1-16050a9ac751",
   "metadata": {
    "colab": {
     "base_uri": "https://localhost:8080/",
     "height": 753
    },
    "id": "1KnEFuyr2tvL",
    "outputId": "8aa6aabf-c61a-4f5c-ff61-17427282d366"
   },
   "outputs": [],
   "source": [
    "#Plot the average residiual difference from approximated to actual temperature by week for each station\n",
    "fig = plt.figure(figsize = (12,9))\n",
    "ax = plt.axes()\n",
    "for i in range(len(Weekly_residuals.columns)-1):\n",
    "  line, = ax.plot(Weekly_residuals.weekofyear, Weekly_residuals.iloc[:,i+1])\n",
    "  line.set_label(Temp_20year_stations.name.str.replace(\", IL US\", \"\")[i])\n",
    "  ax.legend(fontsize=9, ncol = 3)\n",
    "ax.set_xlabel('Week')\n",
    "ax.set_ylabel('Approximated Minus Actual Temperature')"
   ]
  },
  {
   "cell_type": "markdown",
   "id": "005e0e64-ade9-415c-b00f-2ca5612258ec",
   "metadata": {},
   "source": [
    "##### Although it's a bit hard to see with all lines plotted together, what immediately stands out is the extreme variation in the downtown Chicago lakefront Northerly Island station, which is much cooler than expected in the summer and much warmer than expected in the winter. This is the moderating effect of the lake that we'd expect: the very large body of water takes far more time to warm up in the summer than the surrounding air, and far more time to cool in the winter.\n",
    "\n",
    "##### Plotting each line in its own subplot makes trends clearer."
   ]
  },
  {
   "cell_type": "code",
   "execution_count": null,
   "id": "60fe4fa3-a489-4e51-9dc9-73889a3e52d8",
   "metadata": {
    "colab": {
     "base_uri": "https://localhost:8080/",
     "height": 712
    },
    "id": "dJfTR9JTGuVu",
    "outputId": "c9619732-06bf-46f4-b717-b50b16f82f75"
   },
   "outputs": [],
   "source": [
    "fig, ax = plt.subplots(3,4, **{'figsize': (15,8)}, gridspec_kw={'hspace':0.6})\n",
    "for i in range(3):\n",
    "  for j in range(4):\n",
    "    ax[i,j].set_ylim(-1.5,2)\n",
    "    ax[i,j].plot(Weekly_residuals.weekofyear, Weekly_residuals.iloc[:,i*4 + j + 1])\n",
    "    ax[i,j].set_title(Temp_20year_stations.name.str.replace(\", IL US\", \"\")[i*4 + j], fontsize = 8)\n",
    "    ax[i,j].set_xlabel(\"Week of Year\")\n",
    "    ax[i,j].axhline(0, xmin = 0, xmax = 53, c = \"black\")"
   ]
  },
  {
   "cell_type": "markdown",
   "id": "4f4ecf76-8b2c-484a-b1ae-f6642bffe2ae",
   "metadata": {},
   "source": [
    "##### The 4 airport stations tend to be warmer than the surrounding area at a relatively constant rate over the year. The plot of the mean error by week at the Botanical Garden next to the trend at Northerly Island suggests that there is a moderating effect of proximity to the lake here too, though not as pronounced. Whereas the Northerly Island station is a landfill peninsula right on the lake, the Botanical Garden station is around 1.5 miles from the lakefront. Both stations are cooler than expected in the summer and warmer than expected in the winter. Conversely, the inland but forested Little Red School House station has the opposite pattern of more extreme temperatures: colder in the winter than expected and warmer summers than expected. Some of the other stations like Streamwood and Barrington follow the same pattern in a less pronounced fashion.\n",
    "\n",
    "##### We can look at the standard deviation of the weekly residuals instead\n"
   ]
  },
  {
   "cell_type": "code",
   "execution_count": null,
   "id": "b962b49e-fcdc-4b70-9dd4-5c65edd191d0",
   "metadata": {
    "id": "OxtXZT1wLDbn"
   },
   "outputs": [],
   "source": [
    "Weekly_residuals_std = asd.T.reset_index()['date2'].to_frame().merge(residual_check.set_index('station').T.reset_index(), left_index = True, right_index = True)\\\n",
    ".drop('index', axis = 1).assign(weekofyear = lambda x: pd.to_datetime(x.date2).dt.day_of_year//7).drop('date2', axis = 1).groupby('weekofyear').aggregate('std').reset_index()"
   ]
  },
  {
   "cell_type": "code",
   "execution_count": null,
   "id": "4f502825-ec8d-4868-af75-7536be378e8a",
   "metadata": {
    "colab": {
     "base_uri": "https://localhost:8080/",
     "height": 712
    },
    "id": "VyoaidmiaqNk",
    "outputId": "b929e5dc-9f35-4fe9-8187-5f2ae1a9f784"
   },
   "outputs": [],
   "source": [
    "fig, ax = plt.subplots(3,4, **{'figsize': (15,8)}, gridspec_kw={'hspace':0.6})\n",
    "for i in range(3):\n",
    "  for j in range(4):\n",
    "    ax[i,j].set_ylim(0,5)\n",
    "    ax[i,j].plot(Weekly_residuals_std.weekofyear, Weekly_residuals_std.iloc[:,i*4 + j + 1])\n",
    "    ax[i,j].set_title(Temp_20year_stations.name.str.replace(\", IL US\", \"\")[i*4 + j], fontsize = 8)\n",
    "    ax[i,j].set_xlabel(\"Week of Year\")"
   ]
  },
  {
   "cell_type": "markdown",
   "id": "815c6ddd-d4aa-470d-b721-868d116d1d6c",
   "metadata": {},
   "source": [
    "##### Almost all the stations have a noticeable drop in the standard deviation of the approximation in summer - a slight or pronounced U shape starting roughly around week 20 - with the exceptions of the two midway stations which heavily influence the predictions of each other, and the Northerly Island station, which peaks around week 20 (mid May) but doesn't go back up again in the fall. This suggests temperatures are generally more uniform in the summer - it's hot everywhere.\n",
    "\n",
    "##### Let's compare the changes in average temperature in the Chicago metro area from the 5 year period 2004-2008 compared to the 5 year period of 2019-2023 to get a sense of how climate change is affecting the city. "
   ]
  },
  {
   "cell_type": "code",
   "execution_count": null,
   "id": "edc6f438-9c08-4b3d-99ef-20e3f1b96d80",
   "metadata": {},
   "outputs": [],
   "source": [
    "Stations_All_20_years = list(Temp_20year.groupby('station')[['date2']].max().merge(Temp_20year.groupby('station')[['date2']].min(), left_index = True, right_index = True).rename({'date2_y': 'min_date','date2_x':'max_date'}, axis = 1)\\\n",
    ".assign(max_date = lambda x: pd.to_datetime(x.max_date), min_date = lambda x: pd.to_datetime(x.min_date)).query(\"max_date == '2023-12-31' & min_date == '2004-01-01'\").reset_index()['station'])"
   ]
  },
  {
   "cell_type": "code",
   "execution_count": null,
   "id": "e37d9f92-1af0-46a3-89af-93234e20b6a0",
   "metadata": {},
   "outputs": [],
   "source": [
    "test3 = Temp_20year[Temp_20year.station.isin(Stations_All_20_years)].query('~TMIN.isnull() & ~TMAX.isnull() & year.between(2004,2009)').assign(diff = lambda x: x.TMAX - x.TMIN)\n",
    "test3 = test3.assign(TMEAN = lambda x: (x.TMIN + x.TMAX)/2).groupby(['station', 'dayofyear'])['TMEAN'].aggregate(['mean', 'std']).reset_index()\n",
    "test3 = test3.merge(Chi_locations, how = 'left', left_on = \"station\", right_on = \"id\")\n",
    "test3 = test3.sort_values(['dayofyear', 'name'])\n",
    "test3 = test3.set_index(['station', 'name', 'geometry']).pivot(columns = 'dayofyear', values = 'mean').reset_index()\n",
    "var_names = ['Day' +str(i+1) for i in range(366)]\n",
    "test3.rename(columns = {old:new for old, new in zip(test3.columns[3:], var_names)}, inplace=True)\n",
    "\n",
    "test4 = Temp_20year[Temp_20year.station.isin(Stations_All_20_years)].query('~TMIN.isnull() & ~TMAX.isnull() & year.between(2017,2021)').assign(diff = lambda x: x.TMAX - x.TMIN)\n",
    "test4 = test4.assign(TMEAN = lambda x: (x.TMIN + x.TMAX)/2).groupby(['station', 'dayofyear'])['TMEAN'].aggregate(['mean', 'std']).reset_index()\n",
    "test4 = test4.merge(Chi_locations, how = 'left', left_on = \"station\", right_on = \"id\")\n",
    "test4 = test4.sort_values(['dayofyear', 'name'])\n",
    "test4 = test4.set_index(['station', 'name', 'geometry']).pivot(columns = 'dayofyear', values = 'mean').reset_index()\n",
    "var_names = ['Day' +str(i+1) for i in range(366)]\n",
    "test4.rename(columns = {old:new for old, new in zip(test4.columns[3:], var_names)}, inplace=True)"
   ]
  },
  {
   "cell_type": "code",
   "execution_count": null,
   "id": "4da40dcd-7a84-4339-af42-782e84ce8e44",
   "metadata": {},
   "outputs": [],
   "source": [
    "a = np.zeros((2500,len(test3.geometry)))\n",
    "xi = np.linspace(Chi_locations.longitude.min(), -87.52 , 50) #longitude of Illinois-Indiana border\n",
    "yi = np.linspace(Chi_locations.latitude.min(), Chi_locations.latitude.max(), 50)\n",
    "xi, yi = np.meshgrid(xi,yi)\n",
    "xi, yi = xi.flatten(), yi.flatten()\n",
    "for i in range(len(xi)):\n",
    "  for j in range(len(test3.geometry)):\n",
    "    a[i,j] = haversine(test3.geometry[j].coords[0][::-1], (yi[i], xi[i]))\n",
    "a = np.where(a == 0, 0.0000001, a)\n",
    "a_weights = 1/(a**2)\n",
    "b = np.zeros((2500))\n",
    "for i in range(len(a_weights)):\n",
    "  b[i] = a_weights[i].sum()\n",
    "for i in range(len(a_weights)):\n",
    "  for j in range(len(test3.geometry)):\n",
    "    a_weights[i,j] /= b[i]\n",
    "actual_station_distance = np.zeros((8,8))\n",
    "for i in range(len(test3)):\n",
    "  for j in range(len(test3)):\n",
    "    actual_station_distance[i,j] = haversine(test3.geometry[i].coords[0][::-1], test3.geometry[j].coords[0][::-1])\n",
    "actual_station_distance = np.where(actual_station_distance == 0, 1000000, actual_station_distance)\n",
    "weights = (1/(actual_station_distance**2))\n",
    "sum_distance = np.zeros((len(test3)))\n",
    "for i in range(len(weights)):\n",
    "  sum_distance[i] = weights[i].sum()\n",
    "for i in range(len(weights)):\n",
    "  for j in range(len(weights)):\n",
    "    weights[i,j] /= sum_distance[i]"
   ]
  },
  {
   "cell_type": "code",
   "execution_count": null,
   "id": "c7c6a61b-3257-487d-88d2-8e45da57a8fb",
   "metadata": {},
   "outputs": [],
   "source": [
    "zi = np.zeros((366, 50, 50))\n",
    "for i in range(366):\n",
    "  zi[i,:,:] = np.dot(a_weights, test4.iloc[:,i+3] - test3.iloc[:,i+3]).reshape(50,50)"
   ]
  },
  {
   "cell_type": "code",
   "execution_count": null,
   "id": "468ab9bd-8b2a-4591-abd1-c0341acb1ce8",
   "metadata": {},
   "outputs": [],
   "source": [
    "fig = plt.figure()\n",
    "ax = plt.axes()\n",
    "gdf4.plot(ax = ax, **{'linewidth':0.05, 'edgecolor':'black', 'facecolor':'none'})\n",
    "Temp_20year_stations.plot(ax = ax, marker = '.', c = 'black')\n",
    "gdf4[gdf4.NAMELSAD == 'Census Tract 9900'].clip(clip).plot(ax = ax, **{'linewidth':0.06, 'facecolor':'turquoise'})\n",
    "im = ax.imshow(zi[0], extent = (Chi_locations.longitude.min(), -87.52, Chi_locations.latitude.min(), Chi_locations.latitude.max()), cmap = 'bwr', vmin = -10, vmax = 30)\n",
    "plt.colorbar(im)"
   ]
  },
  {
   "cell_type": "code",
   "execution_count": null,
   "id": "13ddaf8a-3c8b-4c0c-9eb8-5029ae831e7a",
   "metadata": {},
   "outputs": [],
   "source": [
    "def init():\n",
    "  im.set_data(np.zeros((50,50)))\n",
    "  return\n",
    "def animate(i):\n",
    "  ax.clear()\n",
    "  im.set_array(zi[i])\n",
    "  gdf4.clip(clip).plot(ax = ax, **{'linewidth':0.05, 'edgecolor':'black', 'facecolor':'none'})\n",
    "  gdf4[gdf4.NAMELSAD == 'Census Tract 9900'].clip(clip).plot(ax = ax, **{'linewidth':0.06, 'facecolor':'turquoise'})\n",
    "  ax.imshow(zi[i], cmap = 'bwr', extent = (Chi_locations.longitude.min(), -87.52, Chi_locations.latitude.min(), Chi_locations.latitude.max()), vmin = -10, vmax = 10)\n",
    "  ax.annotate(f' Day {str(i+1)}' f', Mean Difference In 5 Year Temperature: {(test4.iloc[:,i+3].mean()-test3.iloc[:,i+3].mean()).round(1)}C', xy = (0.5,1.02), xycoords='axes fraction', ha = 'center')\n",
    "anim2 = FuncAnimation(fig, animate, init_func = init, frames = range(365), interval = 300, repeat = False)"
   ]
  },
  {
   "cell_type": "code",
   "execution_count": null,
   "id": "9aa11848-615b-4925-9ab5-0d968f3bff12",
   "metadata": {},
   "outputs": [],
   "source": [
    "anim2"
   ]
  },
  {
   "cell_type": "markdown",
   "id": "fbd84eb9-db8c-4ab0-ac3b-864d831d527d",
   "metadata": {},
   "source": [
    "##### The difference from 2019-2023 to 2004-2008 is very up and down from day to day since the dataset is small. We can also visualize this trend as a histogram or a line."
   ]
  },
  {
   "cell_type": "code",
   "execution_count": null,
   "id": "7b7b04ca-1733-42bc-bab8-89d99ead2185",
   "metadata": {},
   "outputs": [],
   "source": [
    "test5 = []\n",
    "for i in range(len(test3.columns)-4):\n",
    "    test5.append(test4.iloc[:,i+3].mean()-test3.iloc[:,i+3].mean())"
   ]
  },
  {
   "cell_type": "code",
   "execution_count": null,
   "id": "43ef448a-23fb-452f-bacc-ef88b51a9043",
   "metadata": {},
   "outputs": [],
   "source": [
    "fig, ax = plt.subplots(**{'figsize':(12,2)})\n",
    "pd.DataFrame(np.linspace(1,365,365), test5).reset_index().rename({0:'Day', 'index':'5_year_temp_change'}, axis = 1).plot('Day', '5_year_temp_change', ax = ax)\n",
    "ax.axhline(0, xmin = 0, xmax = 365, c = \"black\")"
   ]
  },
  {
   "cell_type": "code",
   "execution_count": null,
   "id": "f8a9ad1e-c4ad-409c-b0a5-eaaa45bb1f13",
   "metadata": {},
   "outputs": [],
   "source": [
    "pd.Series(test5).plot.hist(bins = 50)\n",
    "print(f'Mean Change in 5 year Average Temperature From 2004-2008 to 2019-2023: {pd.Series(test5).mean().round(1)} C')"
   ]
  },
  {
   "cell_type": "markdown",
   "id": "6177e520-f3fd-4265-b4da-5d0c9870d65b",
   "metadata": {},
   "source": [
    "##### Let's look at all the datatypes and their abbreviations we scraped earlier"
   ]
  },
  {
   "cell_type": "code",
   "execution_count": null,
   "id": "15634cf6-b513-4e7d-9583-c517d399c95e",
   "metadata": {
    "colab": {
     "base_uri": "https://localhost:8080/",
     "height": 1000
    },
    "id": "xphl35At0cWr",
    "outputId": "98c052a0-0ff7-4880-ff22-7114c8c40696"
   },
   "outputs": [],
   "source": [
    "pd.set_option('display.max_rows', None)\n",
    "results3.groupby('datatype').count()['station'].sort_values(ascending = False).to_frame().reset_index()\\\n",
    ".rename({'station':'count'}, axis = 1).merge(datatypes, how = \"left\", left_on = 'datatype', right_on = 'id')\n",
    "#WDF5     22375 #direction of fastest 5-second wind\n",
    "#WSF5     22385 #Fastest 5-second wind speed\n",
    "#AWND     22542 #Average wind speed\n",
    "#WDF2     22561 #Direction of fastest 2-minute wind\n",
    "#WSF2     22563 #Fastest 2 minute wind speed\n",
    "#WESD     24929 #Water equivalent of snow on ground\n",
    "#WESF     35303 #Water equivalent of snowfall"
   ]
  },
  {
   "cell_type": "code",
   "execution_count": null,
   "id": "ae44d884-01b0-41e1-9c85-46f283d12d60",
   "metadata": {
    "id": "3MlpqRLQ80Hk"
   },
   "outputs": [],
   "source": [
    "Average_wind = results3.query('datatype == \"AWND\"')"
   ]
  },
  {
   "cell_type": "code",
   "execution_count": null,
   "id": "6d7b21b9-7cdd-445e-85ed-b0d262d09e0d",
   "metadata": {
    "colab": {
     "base_uri": "https://localhost:8080/"
    },
    "id": "Pmrb_y7s86qy",
    "outputId": "b14462d9-465f-4576-d4dc-44a38574c139"
   },
   "outputs": [],
   "source": [
    "pd.set_option('display.max_rows',10)\n",
    "Average_wind.station.unique()\n",
    "#only four stations"
   ]
  },
  {
   "cell_type": "code",
   "execution_count": null,
   "id": "5286027b-213e-45cb-930c-b45fcece33de",
   "metadata": {
    "colab": {
     "base_uri": "https://localhost:8080/",
     "height": 261
    },
    "id": "sm4cVQFF-PkO",
    "outputId": "7a388e74-6335-4bc1-ba28-480970da6f0a"
   },
   "outputs": [],
   "source": [
    "#Let's look at these four stations by name\n",
    "Chi_locations.query('id.isin((\"GHCND:USW00004838\", \"GHCND:USW00014819\", \"GHCND:USW00094846\", \"GHCND:USC00117457\"))')"
   ]
  },
  {
   "cell_type": "code",
   "execution_count": null,
   "id": "74496d55-2c3c-4916-8f3d-10ee78d592f2",
   "metadata": {
    "colab": {
     "base_uri": "https://localhost:8080/",
     "height": 112
    },
    "id": "NUtsFwEj_tK7",
    "outputId": "11fe626d-592e-46c6-b3be-ef328cc2ecb0"
   },
   "outputs": [],
   "source": [
    "#just to confirm all times are recorded as 00:00:00\n",
    "Average_wind.assign(Time = lambda x: x.date.str.extract(r'([0-9]{2}:[0-9]{2}:[0-9]{2})')).groupby('Time').count()"
   ]
  },
  {
   "cell_type": "code",
   "execution_count": null,
   "id": "adcd15f0-daf5-4d90-8bb3-88873857f9b4",
   "metadata": {
    "id": "otz30J3t-sr8"
   },
   "outputs": [],
   "source": [
    "#Merge the information about the stations from Chi_locations with Average_wind\n",
    "Average_wind = Chi_locations.query('id.isin((\"GHCND:USW00004838\", \"GHCND:USW00014819\", \"GHCND:USW00094846\", \"GHCND:USC00117457\"))')[['name', 'id']] \\\n",
    ".merge(Average_wind, left_on = 'id', right_on = 'station').drop('id', axis = 1).assign(name = lambda x: x.name.str.replace(\", IL US\", \"\")) \\\n",
    ".drop(['Unnamed: 0', 'datatype', 'attributes'], axis =1).assign(dayofyear = lambda x:pd.to_datetime(x.date).dt.dayofyear, date = lambda x: pd.to_datetime(x.date).dt.date)"
   ]
  },
  {
   "cell_type": "code",
   "execution_count": null,
   "id": "f6bec2fe-9768-4149-a4e4-f47e38a9ef39",
   "metadata": {
    "id": "rnf8_NhhCWbI"
   },
   "outputs": [],
   "source": [
    "Average_wind_summary = Average_wind.groupby(['name', 'dayofyear'])['value'].aggregate(['mean', 'std'])"
   ]
  },
  {
   "cell_type": "markdown",
   "id": "16b64ef2-9f38-41f9-b823-938609e5283a",
   "metadata": {},
   "source": [
    "##### Let's look at a plot of average wind speed at each station by day of the year"
   ]
  },
  {
   "cell_type": "code",
   "execution_count": null,
   "id": "900821ac-3b59-4799-8432-b4830ae71c20",
   "metadata": {
    "colab": {
     "base_uri": "https://localhost:8080/",
     "height": 791
    },
    "id": "hGXLEBRJHvRo",
    "outputId": "0f7866c4-7d21-4954-eaa4-f7fc2d63ecb3"
   },
   "outputs": [],
   "source": [
    "fig, axs = plt.subplots(2,2, **{'figsize':(12,9)})\n",
    "for ax, (name, new) in zip(axs.flatten(), Average_wind_summary.reset_index().groupby('name')):\n",
    "  new.plot('dayofyear', 'mean', ax = ax)\n",
    "  ax.set_title(str(name), **{'fontsize':9})\n",
    "  ax.set_xlabel('Day of Year')\n",
    "  ax.set_ylabel('Wind Speed in m/s')"
   ]
  },
  {
   "cell_type": "markdown",
   "id": "6545aa5e-7e58-41ff-a128-713ec88f4878",
   "metadata": {},
   "source": [
    "##### All stations have lower wind speed in the summer. This should exacerbate the Urban Heat Island effect: Per Wikipedia article on Urban Heat Islands \"The temperature difference is usually larger at night than during the day, and is most apparent when winds are weak\"\n",
    "\n",
    "##### The daily mean is too granular and results in a very jagged line. Let's smoothe it out a bit by summarizing by week instead of day:"
   ]
  },
  {
   "cell_type": "code",
   "execution_count": null,
   "id": "fc107349-5818-473b-ad8a-8f22325f1122",
   "metadata": {
    "id": "ZLooCMbwMH-8"
   },
   "outputs": [],
   "source": [
    "Weekly_summary = Average_wind.assign(weekofyear = lambda x: x.dayofyear // 7).drop(['date','station', 'dayofyear'], axis=1).groupby(['name', 'weekofyear'])['value'].aggregate(['mean', 'std'])"
   ]
  },
  {
   "cell_type": "code",
   "execution_count": null,
   "id": "93ee049d-c6f1-41cf-894e-f0a02d3a3e51",
   "metadata": {
    "colab": {
     "base_uri": "https://localhost:8080/",
     "height": 791
    },
    "id": "P2xVPY64NCLn",
    "outputId": "fa75c902-a1f1-4957-9c62-d3f6e9829d84"
   },
   "outputs": [],
   "source": [
    "fig, axs = plt.subplots(2,2, **{'figsize':(12,9)})\n",
    "for ax, (name, new) in zip(axs.flatten(), Weekly_summary.reset_index().groupby('name')):\n",
    "  new.plot('weekofyear', 'mean', ax = ax)\n",
    "  ax.set_title(str(name), **{'fontsize':9})\n",
    "  ax.set_ylabel('Wind Speed in m/s')"
   ]
  },
  {
   "cell_type": "code",
   "execution_count": null,
   "id": "ef34aa41-2b8c-480c-b27a-3ca565d7b94f",
   "metadata": {
    "id": "BELN5RQ9UKRU"
   },
   "outputs": [],
   "source": [
    "Weekly_summary_2 = Weekly_summary.drop('std', axis = 1).reset_index().set_index('weekofyear').pivot(columns = 'name', values = 'mean').reset_index()"
   ]
  },
  {
   "cell_type": "code",
   "execution_count": null,
   "id": "a07981f5-fdf0-4331-b49a-be2e6e5ba758",
   "metadata": {
    "colab": {
     "base_uri": "https://localhost:8080/",
     "height": 753
    },
    "id": "0aoHfcH1QQ30",
    "outputId": "4190133f-3b87-496c-e0a4-836634daee4c"
   },
   "outputs": [],
   "source": [
    "fig, ax = plt.subplots(**{'figsize':(12,9)})\n",
    "for i in range(len(Weekly_summary_2.columns)-1):\n",
    "  line, = ax.plot(Weekly_summary_2.weekofyear,Weekly_summary_2.iloc[:,i+1])\n",
    "  ax.set_ylabel('Wind Speed in m/s')\n",
    "  line.set_label(Weekly_summary_2.columns[i+1])\n",
    "  ax.legend()\n",
    "ax.set_xlabel('Week of the Year')"
   ]
  },
  {
   "cell_type": "markdown",
   "id": "4c9d5e9a-59ee-4daa-924a-cf1e34279ce2",
   "metadata": {},
   "source": [
    "##### Plotting these lines together makes two trends clear: it is consistently less windy at the Palwaukee airport than the other stations, and the Romeoville station has much higher variance by week of year than the other stations. This may be due to the timing of seasonal changes being more variable from year to year further inland. If we plot each year's data at each station, we would expect a smooth trend."
   ]
  },
  {
   "cell_type": "code",
   "execution_count": null,
   "id": "f675d4b5-0df7-43c2-ab9d-3c34ac26161f",
   "metadata": {
    "id": "bg_-GyuwVg2u"
   },
   "outputs": [],
   "source": [
    "#Make a column of average wind measurement each week of each year for each station\n",
    "Week_yearly_weather = Average_wind.assign(year = lambda x: pd.to_datetime(x.date).dt.year, weekofyear = lambda x: x.dayofyear // 7)\\\n",
    ".drop(['date', 'station', 'dayofyear'], axis =1).groupby(['name', 'weekofyear', 'year']).aggregate(\"mean\").reset_index()\\\n",
    ".set_index('weekofyear').pivot(columns = ['name', 'year'], values = 'value')"
   ]
  },
  {
   "cell_type": "code",
   "execution_count": null,
   "id": "c4145591-0726-4be4-9462-a0b0238aaa86",
   "metadata": {
    "colab": {
     "base_uri": "https://localhost:8080/"
    },
    "id": "-wfMFUR3ahy-",
    "outputId": "c81254ac-6116-4990-dbe9-8c5f642e1be7",
    "scrolled": true
   },
   "outputs": [],
   "source": [
    "Week_yearly_weather"
   ]
  },
  {
   "cell_type": "markdown",
   "id": "52c9c652-dedd-47a6-8205-46e40a47d2de",
   "metadata": {},
   "source": [
    "##### Though upon further inspection the variability in the Romeoville station owes to that station only having 3 years of data from 2004 through 2023 instead of the 20 years of the other stations. Within a given year, the weekly wind averages at other stations are just as volatile from week to week."
   ]
  },
  {
   "cell_type": "code",
   "execution_count": null,
   "id": "89dc262e-cbd4-44cf-8cc1-1cc5745181f1",
   "metadata": {
    "colab": {
     "base_uri": "https://localhost:8080/",
     "height": 776
    },
    "id": "t3ngt7wTd0Gr",
    "outputId": "76c40001-14c3-42b3-9650-62ee4aa5ade3"
   },
   "outputs": [],
   "source": [
    "fig, ax = plt.subplots(2,2, **{'figsize': (12,9)})\n",
    "for i in range(len(Week_yearly_weather.columns.levels[0])-1):\n",
    "  for j in range(len(Week_yearly_weather.columns.levels[1])):\n",
    "    ax[i//2, i%2].plot(Week_yearly_weather.reset_index().weekofyear, Week_yearly_weather.loc[:,(Week_yearly_weather.columns.levels[0][i],Week_yearly_weather.columns.levels[1][j])], linewidth = 0.5, c = \"blue\", **{'alpha':0.5})\n",
    "    ax[i//2, i%2].set_title(Week_yearly_weather.columns.levels[0][i])\n",
    "for j in range(17,20):\n",
    "    ax[1,1].plot(Week_yearly_weather.reset_index().weekofyear, Week_yearly_weather.loc[:,(Week_yearly_weather.columns.levels[0][3],Week_yearly_weather.columns.levels[1][j])], linewidth = 0.5, c = \"blue\", **{'alpha':0.5})\n",
    "    ax[1,1].set_title(Week_yearly_weather.columns.levels[0][3])"
   ]
  },
  {
   "cell_type": "markdown",
   "id": "67f1448a-ecde-4f81-94ac-0c909a90c482",
   "metadata": {},
   "source": [
    "##### we wouldn't expect a correlation, but we can compare how our approximation errors (too warm/too cold) are related to windspeed with a scatter plot."
   ]
  },
  {
   "cell_type": "code",
   "execution_count": null,
   "id": "27281306-e70d-4a5f-96a5-3cd09222cac0",
   "metadata": {
    "colab": {
     "base_uri": "https://localhost:8080/",
     "height": 788
    },
    "id": "YgZBCEz53eIy",
    "outputId": "9ac66458-4666-435e-e971-8bdba602612a"
   },
   "outputs": [],
   "source": [
    "IDW_error_windspeed_comparison = residual_check.set_index('station').T.reset_index().drop('index', axis = 1).merge(asd.columns.to_frame().rename({'date2':'date'}, axis = 1).reset_index()\\\n",
    ".drop('date2', axis = 1), left_index = True, right_index = True).set_index('date').melt(ignore_index = False)\\\n",
    ".query('variable.isin((\"GHCND:USW00004838\", \"GHCND:USW00014819\", \"GHCND:USW00094846\", \"GHCND:USC00117457\"))').rename({'value':'IDW error'}, axis = 1)\\\n",
    ".reset_index().merge(Average_wind.drop('dayofyear', axis = 1).rename({'value':'windspeed'}, axis =1), left_on = ['date', 'variable'], right_on = ['date', 'station'])\n",
    "IDW_error_windspeed_comparison"
   ]
  },
  {
   "cell_type": "markdown",
   "id": "38331060-5ea4-4771-9004-2dafd905e5a0",
   "metadata": {},
   "source": [
    "##### This plot is consistent with no correlation. The error in our IDW approximation is tied to differences between station like degree of forestation, whereas we are just looking here at windspeeds vs errors at the same station, and even if it may be cooler with high winds, it is likely to be windier and thus cooler at the other neighboring stations we rely on for our IDW approximation."
   ]
  },
  {
   "cell_type": "code",
   "execution_count": null,
   "id": "73ee969b-6c4c-4ab6-9122-b5455fc9ea2e",
   "metadata": {
    "colab": {
     "base_uri": "https://localhost:8080/",
     "height": 448
    },
    "id": "_vscMwiNBLQE",
    "outputId": "da2e33db-3491-4157-f919-a9fedd086d6f"
   },
   "outputs": [],
   "source": [
    "plt.scatter(IDW_error_windspeed_comparison['IDW error'], IDW_error_windspeed_comparison.windspeed, s = 0.01)"
   ]
  },
  {
   "cell_type": "markdown",
   "id": "1adaabcc-c7e3-4ea6-b3df-18398d161c67",
   "metadata": {},
   "source": [
    "##### It's a better question to ask if we can find any relation between the temperature drop from TMAX to TMIN on days with higher winds, particularly those in the summer, when the Urban Heat Island effect is at its strongest."
   ]
  },
  {
   "cell_type": "code",
   "execution_count": null,
   "id": "1b03a734-1c71-496f-92e0-4590d1336028",
   "metadata": {
    "colab": {
     "base_uri": "https://localhost:8080/",
     "height": 466
    },
    "id": "fKPVw06uQxcc",
    "outputId": "bb06c717-b051-4be5-9704-fb818464708a"
   },
   "outputs": [],
   "source": [
    "fig, ax = plt.subplots(1,2)\n",
    "Temp_20year[~Temp_20year.TMIN.isnull() & ~ Temp_20year.TMAX.isnull()]\\\n",
    ".assign(TDrop = lambda x: x.TMAX - x.TMIN).query('month.isin((6,7,8))').query('TMAX > 25')\\\n",
    ".merge(Average_wind.drop('dayofyear', axis = 1).rename({'value':'windspeed'}, axis =1), \\\n",
    "       left_on = ['date2', 'station'], right_on = ['date', 'station'])\\\n",
    ".plot.scatter('windspeed', 'TDrop', ax = ax[0], s = 0.1, **{'alpha':0.1})\n",
    "Temp_20year[~Temp_20year.TMIN.isnull() & ~ Temp_20year.TMAX.isnull()]\\\n",
    ".assign(TDrop = lambda x: x.TMAX - x.TMIN).query('month.isin((6,7,8))').query('TMAX > 25')\\\n",
    ".merge(Average_wind.drop('dayofyear', axis = 1).rename({'value':'windspeed'}, axis =1), \\\n",
    "       left_on = ['date2', 'station'], right_on = ['date', 'station']).groupby('windspeed')[['windspeed', 'TDrop']].\\\n",
    "aggregate('mean').plot.scatter('windspeed', 'TDrop', ax = ax[1])\n",
    "ax[0].set_title('All Points')\n",
    "ax[1].set_title('Average Temperature Drop by Wind Speed')"
   ]
  },
  {
   "cell_type": "markdown",
   "id": "36ab28c7-53a7-4ed0-bf60-fbe2b2696027",
   "metadata": {},
   "source": [
    "##### a slight relationship where higher windspeed means a small temperature drop. The higher spread of average temperature drop at higher wind speeds is due to far fewer data points allowing for more variance.\n",
    "\n",
    "##### one shortcoming of the previous plot is that by aggregating across June, July, and August we treat these months as identical, when there's a clear trend toward larger temperature drops in June than in July and August."
   ]
  },
  {
   "cell_type": "code",
   "execution_count": null,
   "id": "f08182df-1607-4c0b-9f6e-fd13e331fb32",
   "metadata": {
    "colab": {
     "base_uri": "https://localhost:8080/",
     "height": 466
    },
    "id": "EN-sYVX0Ytj6",
    "outputId": "6b362e76-eb45-4f80-cbbf-46f31fce072f"
   },
   "outputs": [],
   "source": [
    "fig, ax = plt.subplots()\n",
    "Temp_20year[~Temp_20year.TMIN.isnull() & ~ Temp_20year.TMAX.isnull()]\\\n",
    ".assign(TDrop = lambda x: x.TMAX - x.TMIN).query('month.isin((6,7,8))').query('TMAX > 25')\\\n",
    ".merge(Average_wind.drop('dayofyear', axis = 1).rename({'value':'windspeed'}, axis =1), \\\n",
    "       left_on = ['date2', 'station'], right_on = ['date', 'station'])\\\n",
    ".plot.scatter('dayofyear', 'TDrop', s = 0.1, ax = ax)\n",
    "plt.vlines(182, 0, 25, color = 'black', **{'linewidth':0.2})\n",
    "plt.text(160, 23, 'June')\n",
    "plt.vlines(213, 0, 25, color = 'black', **{'linewidth':0.2})\n",
    "plt.text(191, 23, 'July')\n",
    "plt.text(222, 23, 'August')\n",
    "#add a rolling 3 day mean Temperature Drop to the plot:\n",
    "Temp_20year[~Temp_20year.TMIN.isnull() & ~ Temp_20year.TMAX.isnull()]\\\n",
    ".assign(TDrop = lambda x: x.TMAX - x.TMIN).query('month.isin((5,6,7,8))').query('TMAX > 25')\\\n",
    ".merge(Average_wind.drop('dayofyear', axis = 1).rename({'value':'windspeed'}, axis =1), \\\n",
    "       left_on = ['date2', 'station'], right_on = ['date', 'station']).groupby('dayofyear')['TDrop']\\\n",
    ".aggregate('mean').rolling(window = 3, min_periods = 3).mean().reset_index().query('dayofyear > 151')\\\n",
    ".plot('dayofyear', 'TDrop', ax = ax, c = 'black')"
   ]
  },
  {
   "cell_type": "markdown",
   "id": "c92162c4-1984-407d-81ac-8cbe3642e94c",
   "metadata": {},
   "source": [
    "##### Indeed we can see that the rolling temperature drop from the maximum temperature to the minimum temperature is highest in the spring and fall, slightly lower in the summer, and much lower in the winter. This makes sense given the length of day: we'd expect the drop from max to min temperature to be greatest when days and nights are roughly equally long, and there is time for the sun to heat up the air and buildings during the day and to cool off at night. The more humid hot air in summer takes longer to cool at night than dry air, and the longer days expose large buildings to more sunlight that would take more time to be released. In winter the days are too short and the sun to low in the sky for the days to get much warmer than the nights."
   ]
  },
  {
   "cell_type": "code",
   "execution_count": null,
   "id": "90d96c43-0bc3-44ef-a4ea-dfe66e56edea",
   "metadata": {
    "colab": {
     "base_uri": "https://localhost:8080/",
     "height": 490
    },
    "id": "tL3jk2IxGjBG",
    "outputId": "ba321821-3ef9-4fdc-a653-b7d672e6d45a",
    "scrolled": true
   },
   "outputs": [],
   "source": [
    "fig, ax = plt.subplots()\n",
    "ax.set_ylim(0,12)\n",
    "\n",
    "Temp_20year[~Temp_20year.TMIN.isnull() & ~ Temp_20year.TMAX.isnull()]\\\n",
    ".assign(TDrop = lambda x: x.TMAX - x.TMIN).merge(Average_wind.drop('dayofyear', axis = 1).rename({'value':'windspeed'}, axis =1), \\\n",
    "       left_on = ['date2', 'station'], right_on = ['date', 'station']).groupby('dayofyear')['TDrop']\\\n",
    ".aggregate('mean').rolling(window = 7, min_periods = 3).mean().reset_index().plot('dayofyear', 'TDrop', ax = ax, c = 'black', title = \"Average Drop from Max to Min Temperature\", legend = False)\n"
   ]
  },
  {
   "cell_type": "markdown",
   "id": "ed083b82-7921-4d57-aa5f-f499a1f54280",
   "metadata": {},
   "source": [
    "##### Instead we compare within the day of the year: if it's day 150 of the year is the temperature drop greater than the average temperature drop on day 150 if it's windier than average?"
   ]
  },
  {
   "cell_type": "code",
   "execution_count": null,
   "id": "e0482521-4741-44e5-b1b5-d7d4343ca02d",
   "metadata": {
    "id": "YrS17x4bbDoD"
   },
   "outputs": [],
   "source": [
    "Temp_Wind_Drop = Temp_20year[~Temp_20year.TMIN.isnull() & ~ Temp_20year.TMAX.isnull()].assign(TDrop = lambda x: x.TMAX - x.TMIN).groupby('dayofyear')['TDrop'].aggregate(['mean'])\\\n",
    ".merge(Average_wind.groupby('dayofyear')['value'].mean(), left_index = True, right_index = True).rename({'value':'Average_Wind_Speed', 'mean':'Average_Temperature_Drop'}, axis  = 1)\\\n",
    ".reset_index().merge(Average_wind.rename({'value':'windspeed'}, axis=1), how = 'right', left_on = 'dayofyear', right_on = 'dayofyear')\\\n",
    ".merge(Temp_20year[~Temp_20year.TMAX.isnull() & ~Temp_20year.TMIN.isnull()], left_on = ['date', 'station', 'dayofyear'], right_on = ['date2', 'station', 'dayofyear']).assign(TDrop = lambda x: x.TMAX - x.TMIN)\\\n",
    ".sort_values('dayofyear').assign(TDrop_Difference = lambda x: x.TDrop - x.Average_Temperature_Drop, Wind_Difference = lambda x: x.windspeed - x.Average_Wind_Speed)"
   ]
  },
  {
   "cell_type": "markdown",
   "id": "e55de0d5-9c23-4632-92df-1060f47a624f",
   "metadata": {},
   "source": [
    "##### In the summer there is a negative correlation between higher wind speeds than usual on that day of the year and temperature drop, fitting the trend we saw above with higher winds being correlated with smaller temperature drops."
   ]
  },
  {
   "cell_type": "code",
   "execution_count": null,
   "id": "3443729c-e26f-4e25-b284-6db8a22a9b61",
   "metadata": {
    "colab": {
     "base_uri": "https://localhost:8080/",
     "height": 468
    },
    "id": "rKqf62aYjMs1",
    "outputId": "ebcd3499-59b8-4758-ec2c-5a8d0d7a3cd2",
    "scrolled": true
   },
   "outputs": [],
   "source": [
    "Temp_Wind_Drop.query('month.isin((6,7,8))').plot.scatter('Wind_Difference', 'TDrop_Difference', s = 0.1)"
   ]
  },
  {
   "cell_type": "markdown",
   "id": "4848a642-77c6-4738-8776-54b6f302f410",
   "metadata": {},
   "source": [
    "##### Plotting the delta in TMIN compared to the average TMIN on a given day of the summer suggests that this mostly comes from a slight relationship between higher winds and a higher minimum temperature in the summer, whereas the TMAX seems uncorrelated with change in wind speed"
   ]
  },
  {
   "cell_type": "code",
   "execution_count": null,
   "id": "30850a0b-c2b8-443d-9607-ca9aa2a61fab",
   "metadata": {
    "colab": {
     "base_uri": "https://localhost:8080/",
     "height": 560
    },
    "id": "yhC-OWI5rOgh",
    "outputId": "bf0601d8-675d-4075-9c11-d45619b7366a",
    "scrolled": true
   },
   "outputs": [],
   "source": [
    "fig, axs = plt.subplots(1,2, **{'figsize': (12, 6)})\n",
    "Temp_Wind_Drop.query('month.isin((6,7,8))').groupby('dayofyear')['TMIN'].aggregate(['mean']).rename({'mean': 'Average_TMIN'}, axis=1)\\\n",
    ".merge(Temp_Wind_Drop.query('month.isin((6,7,8))'), left_index = True, right_on = 'dayofyear').assign(TMIN_Difference = lambda x: x.TMIN - x.Average_TMIN)\\\n",
    ".plot.scatter('Wind_Difference', 'TMIN_Difference', s = 0.1, ax = axs[0])\n",
    "Temp_Wind_Drop.query('month.isin((6,7,8))').groupby('dayofyear')['TMAX'].aggregate(['mean']).rename({'mean': 'Average_TMAX'}, axis=1)\\\n",
    ".merge(Temp_Wind_Drop.query('month.isin((6,7,8))'), left_index = True, right_on = 'dayofyear').assign(TMAX_Difference = lambda x: x.TMAX - x.Average_TMAX)\\\n",
    ".plot.scatter('Wind_Difference', 'TMAX_Difference', s = 0.1, ax = axs[1])"
   ]
  },
  {
   "cell_type": "markdown",
   "id": "a9c4dcfc-8335-4358-83d6-30f632b5e54e",
   "metadata": {},
   "source": [
    "##### Verify the fastest wind speed is correlated with the average wind speed"
   ]
  },
  {
   "cell_type": "code",
   "execution_count": null,
   "id": "b796ade8-da71-4236-8787-ccb1848ded98",
   "metadata": {
    "colab": {
     "base_uri": "https://localhost:8080/",
     "height": 470
    },
    "id": "Cw5BW5s4tIBb",
    "outputId": "33ff96b7-dc03-495f-de15-07421c8c550d",
    "scrolled": true
   },
   "outputs": [],
   "source": [
    "results3.query('datatype == \"WSF5\"').assign(date = lambda x: pd.to_datetime(x.date).dt.date).drop(['Unnamed: 0', 'attributes'], axis = 1).rename({'value': 'fastest_5_min_wind'}, axis = 1)\\\n",
    ".merge(Average_wind, left_on = ['date', 'station'], right_on = ['date', 'station']).rename({'value':'Average_Wind_speed'}, axis = 1).plot.scatter('Average_Wind_speed', 'fastest_5_min_wind', s = 0.1)"
   ]
  },
  {
   "cell_type": "markdown",
   "id": "74a14389-8b3e-4fc6-a56b-b275b537af25",
   "metadata": {},
   "source": [
    "##### The relationship between wind and temperature is almost certainly a much more complicated one than higher winds cooling a large city resulting in lower temperatures or vice versa. Winds blow from areas of high pressure to low pressure, and pressure is lower in the hotter months as the warm, less dense air rises."
   ]
  },
  {
   "cell_type": "code",
   "execution_count": null,
   "id": "b3466955-5160-4a7e-80b6-b9cc4fcc60a9",
   "metadata": {
    "colab": {
     "base_uri": "https://localhost:8080/",
     "height": 423
    },
    "id": "N4t4i-FRrQZV",
    "outputId": "ab249bfe-c208-414e-b0b4-f02708f6f2e5",
    "scrolled": true
   },
   "outputs": [],
   "source": [
    "results3.query('datatype == \"WDF2\"')"
   ]
  },
  {
   "cell_type": "markdown",
   "id": "88e8f6b8-e7a0-418b-b472-aa45df77a4d7",
   "metadata": {},
   "source": [
    "##### let's look at average station pressure to compare to temperature"
   ]
  },
  {
   "cell_type": "code",
   "execution_count": null,
   "id": "635c0a98-261a-4e86-93ed-113d3bbec2c5",
   "metadata": {
    "id": "lehFdNIck0pl"
   },
   "outputs": [],
   "source": [
    "pd.set_option('display.max_rows', 100)\n",
    "Average_station_pressure = results3.query('datatype == \"ASTP\"').assign(month = lambda x: pd.to_datetime(x.date).dt.month, \\\n",
    "dayofyear = lambda x: pd.to_datetime(x.date).dt.dayofyear,date = lambda x: pd.to_datetime(x.date).dt.date, \\\n",
    ").drop(['Unnamed: 0', 'attributes'], axis = 1)\n"
   ]
  },
  {
   "cell_type": "markdown",
   "id": "b054a354-37c1-48b2-8561-6df4f47b7e5e",
   "metadata": {},
   "source": [
    "##### Pressure is slightly higher on average in winter than summer, so we will continue to focus on summer temperatures:"
   ]
  },
  {
   "cell_type": "code",
   "execution_count": null,
   "id": "595a68d3-6838-4176-a35a-57daeb83286b",
   "metadata": {
    "colab": {
     "base_uri": "https://localhost:8080/",
     "height": 562
    },
    "id": "JEMZjDOz6xjU",
    "outputId": "17b9511f-ab6c-436c-c48e-29d01af26ce3"
   },
   "outputs": [],
   "source": [
    "fig, axs = plt.subplots(1,2, **{'figsize':(12,6)})\n",
    "Average_station_pressure.query('month.isin((6,7,8))').hist('value', ax = axs[0], bins = 20)\n",
    "axs[0].set_title(\"Summer Pressure\")\n",
    "Average_station_pressure.query('month.isin((12,1,2))').hist('value', ax = axs[1], bins = 20)\n",
    "axs[1].set_title(\"Winter Pressure\")"
   ]
  },
  {
   "cell_type": "markdown",
   "id": "2fed7970-70ff-4a9a-9a9b-b1be4bad2875",
   "metadata": {},
   "source": [
    "##### The only location here where the pressure is measured is O'Hare International"
   ]
  },
  {
   "cell_type": "code",
   "execution_count": null,
   "id": "de54713e-5e4b-4fa2-9272-7d2bcbc23bbd",
   "metadata": {
    "colab": {
     "base_uri": "https://localhost:8080/",
     "height": 170
    },
    "id": "OjVw3aXJbWeI",
    "outputId": "1ce3fb04-2af1-4696-a95c-af5a3d20358e"
   },
   "outputs": [],
   "source": [
    "Chi_locations.query('id == \"GHCND:USW00094846\"')"
   ]
  },
  {
   "cell_type": "markdown",
   "id": "950a4e5e-2630-4394-804d-e3806f040a0a",
   "metadata": {},
   "source": [
    "##### Higher pressure is correlated with lower TMIN. Cold air is denser than warmer air, so pressure is higher when temperatures are cool."
   ]
  },
  {
   "cell_type": "code",
   "execution_count": null,
   "id": "8b24ec7d-9339-45dd-a354-f3905f25835d",
   "metadata": {
    "id": "x04bor_r9DXq",
    "scrolled": true
   },
   "outputs": [],
   "source": [
    "Average_station_pressure.merge(Temp_20year, left_on = ['station', 'date', 'month', 'dayofyear'], right_on = ['station', 'date2', 'month', 'dayofyear'])\\\n",
    ".query('month.isin((6,7,8))').assign(standardized_pressure = lambda x: (x.value - x.value.mean())/x.value.std(), TMIN_jit = lambda x: x.TMIN + random.uniform(0,.1))\\\n",
    ".plot.scatter('standardized_pressure', 'TMIN_jit', s = 0.1)"
   ]
  },
  {
   "cell_type": "markdown",
   "id": "44bcc3ae-e851-48ca-93a9-1e5b4fdaef7e",
   "metadata": {},
   "source": [
    "##### Slight trend where higher pressure is correlated with lower wind speed, as expected."
   ]
  },
  {
   "cell_type": "code",
   "execution_count": null,
   "id": "4ddaed2d-cba1-4d9b-b287-577129148832",
   "metadata": {
    "id": "M9ZSxDMWGhIk"
   },
   "outputs": [],
   "source": [
    "Average_station_pressure.merge(Average_wind, left_on = ['station', 'date', 'dayofyear'], right_on = ['station', 'date',  'dayofyear'])\\\n",
    ".rename({'value_x':'Pressure', 'value_y':'Wind_speed'}, axis =1).query('month.isin((6,7,8))').plot.scatter('Pressure', 'Wind_speed', s = 0.1)"
   ]
  },
  {
   "cell_type": "markdown",
   "id": "4d82ec17-1558-47ec-9269-0fe2bff4023a",
   "metadata": {
    "id": "aE1kJ7qOKjhu"
   },
   "source": [
    "##### So while we started out looking to see how winds are correlated with the Urban Heat Island effect, it is not straightforward to isolate this from the greater correlation between higher winds and higher temperatures. We can try again"
   ]
  },
  {
   "cell_type": "code",
   "execution_count": null,
   "id": "3e9ef990-dca2-4a6a-88c0-b197b6f65886",
   "metadata": {
    "colab": {
     "base_uri": "https://localhost:8080/",
     "height": 469
    },
    "id": "6IY5Ziwq7_oI",
    "outputId": "6b2cf9d0-f02f-489a-8fc1-e82866ba9b5e"
   },
   "outputs": [],
   "source": [
    "Wind_direction = results3.query('datatype.isin((\"WDF5\", \"WSF5\", \"WDF2\", \"WSF2\"))').drop(['attributes', 'Unnamed: 0'], axis = 1)\\\n",
    ".assign(month = lambda x: pd.to_datetime(x.date).dt.month, dayofyear = lambda x: pd.to_datetime(x.date).dt.dayofyear, \\\n",
    "date = lambda x: pd.to_datetime(x.date).dt.date).set_index(['date', 'month', 'dayofyear', 'station'])\\\n",
    ".pivot(columns = 'datatype', values = 'value').reset_index()\n",
    "fig, axs = plt.subplots(1,2)\n",
    "Wind_direction.query('month.isin((12,1,2))').hist('WDF5', ax = axs[0], bins = 30)\n",
    "axs[0].set_title(\"Winter Wind Direction\")\n",
    "Wind_direction.query('month.isin((6,7,8))').hist('WDF5', ax = axs[1], bins = 30)\n",
    "axs[1].set_title(\"Summer Wind Direction\")"
   ]
  },
  {
   "cell_type": "markdown",
   "id": "aa374ed0-7eec-41cc-989d-7278a98a7c70",
   "metadata": {},
   "source": [
    "##### Wind direction with north given by 0/360, East given by 90, South 180, West 270. Winter winds tend very strongly to blow in a southwest direction, while summer winds tend to blow in a range between North and East, or a wide range of west directions"
   ]
  },
  {
   "cell_type": "code",
   "execution_count": null,
   "id": "c2e2b5e9-c04e-4d03-a8ab-8ae655eab32e",
   "metadata": {
    "id": "QHioGxB3Fr87"
   },
   "outputs": [],
   "source": [
    "pd.set_option('display.max_columns', None)\n",
    "Summer_Wind_Temp = Wind_direction.merge(Temp_Wind_Drop, left_on = ['date', 'dayofyear', 'month', 'station'], right_on = ['date', 'dayofyear', 'month', 'station']).drop(['TOBS', 'dayofmonth'], axis = 1)\\\n",
    ".query('month.isin((6,7,8))')\n",
    "fig, axs = plt.subplots(1,2, sharex = True, sharey = True)\n",
    "Summer_Wind_Temp.query('WDF5 <= 180').plot.scatter('WSF5', 'TDrop', ax = axs[0])\n",
    "Summer_Wind_Temp.query('WDF5 > 180').plot.scatter('WSF5', 'TDrop', ax = axs[1])\n",
    "axs[0].set_title('East Wind Summer Temperature Drop', **{'fontsize': 9})\n",
    "axs[1].set_title('West Wind Summer Temperature Drop', **{'fontsize': 9})\n",
    "axs[0].text(20, 23, \"Average Drop:\" + str(Summer_Wind_Temp.query('WDF5 <= 180')['TDrop'].mean().round(1)))\n",
    "axs[1].text(20, 23, \"Average Drop:\" + str(Summer_Wind_Temp.query('WDF5 > 180')['TDrop'].mean().round(1)))"
   ]
  },
  {
   "cell_type": "markdown",
   "id": "a5af4033-702d-459f-9688-92578600fcb2",
   "metadata": {},
   "source": [
    "##### This is a crude approximation of the average direction of the wind - categorizing all degrees under 180 as a wind blowing east and all over 180 as blowing west - and the direction of the wind is likely to change within the same day, and the most common or average direction of the wind may be quite different from the direction of the direction of the fastest 5 minute burst, but it follows a mechanism that we would expect: the west wind blowing from the cooler lake over the city cools the city more than the east wind from the hotter land."
   ]
  },
  {
   "cell_type": "code",
   "execution_count": null,
   "id": "8e4ecfe6-db14-440b-83c4-237f34edfae9",
   "metadata": {
    "colab": {
     "base_uri": "https://localhost:8080/",
     "height": 455
    },
    "id": "4ORdCSj923gq",
    "outputId": "9334de53-97ab-4d7c-d9dc-ff74c1855e72"
   },
   "outputs": [],
   "source": [
    "Wind_direction.groupby('date').mean([['WDF2', 'WDF5', 'WSF2', 'WSF5']])"
   ]
  },
  {
   "cell_type": "code",
   "execution_count": null,
   "id": "b670bbe4-6984-48ca-be0d-8a687f6a6c62",
   "metadata": {
    "id": "MC5OEqJd7VVE"
   },
   "outputs": [],
   "source": [
    "Degree_diff = Wind_direction[['date', 'WDF5']].groupby('date').max(['WDF5']).merge(Wind_direction[['date', 'WDF5']].groupby('date').min(['WDF5']), left_index = True, right_index = True).assign(diff = lambda x: x.WDF5_x - x.WDF5_y)"
   ]
  },
  {
   "cell_type": "code",
   "execution_count": null,
   "id": "e395d13f-e666-4fc0-ab0c-d428a03b5f31",
   "metadata": {
    "id": "m_DofEizGwTF"
   },
   "outputs": [],
   "source": [
    "Degree_diff['diff'] = np.where(Degree_diff['diff'] > 180, 360 - Degree_diff['diff'], Degree_diff['diff'])"
   ]
  },
  {
   "cell_type": "markdown",
   "id": "40249ffe-7c5b-4f0a-8785-ec9232b63f6d",
   "metadata": {},
   "source": [
    "##### In 88% of cases, the difference between the three stations wind direction readings is under 90 degrees, so generally the same direction:"
   ]
  },
  {
   "cell_type": "code",
   "execution_count": null,
   "id": "700b4281-5d11-4b65-8ad1-9d40f35b2328",
   "metadata": {
    "id": "ODvLnfsLH4zW"
   },
   "outputs": [],
   "source": [
    "Degree_diff.query('diff < 90')['diff'].count()/Degree_diff.count()"
   ]
  },
  {
   "cell_type": "code",
   "execution_count": null,
   "id": "0f713d07-7450-423e-878e-d27ecdbe8c18",
   "metadata": {
    "colab": {
     "base_uri": "https://localhost:8080/",
     "height": 470
    },
    "id": "JL7leqxGJSKG",
    "outputId": "bd5ea51e-18a4-40e1-e40f-0d8ebbddbf63",
    "scrolled": true
   },
   "outputs": [],
   "source": [
    "#Histogram of differences between wind direction readings\n",
    "Degree_diff.hist('diff', bins = 30)"
   ]
  },
  {
   "cell_type": "markdown",
   "id": "8a28cf37-e2cf-45d7-9972-77748d7528e5",
   "metadata": {},
   "source": [
    "##### Compare the Northerly Island TDrop with the wind direction at the nearest station with wind measurements, Midway."
   ]
  },
  {
   "cell_type": "code",
   "execution_count": null,
   "id": "1861d68a-3f10-452e-bc8b-ce396ba3e92b",
   "metadata": {
    "id": "SbRYFxHAKqDd",
    "jupyter": {
     "source_hidden": true
    }
   },
   "outputs": [],
   "source": [
    "NI_MW = Wind_direction.query('station == \"GHCND:USW00014819\"').merge(Temp_20year.query('station == \"GHCND:USC00111550\"'), left_on = ['date', 'month', 'dayofyear'], right_on = ['date2', 'month', 'dayofyear'])\\\n",
    ".query('~TMAX.isnull() & ~TMIN.isnull() & ~WSF5.isnull()').assign(TDrop = lambda x: x.TMAX - x.TMIN).query('month.isin((6,7,8))')"
   ]
  },
  {
   "cell_type": "markdown",
   "id": "d8d3835f-d884-4b70-9770-41f631428905",
   "metadata": {},
   "source": [
    "##### For a station right on the lake, the trend is predictably even more pronounced. The winds coming off the lake don't warm up over the city at all, while the winds blowing from the east come from the part of the city with the largest skyscrapers, most prone to urban heating."
   ]
  },
  {
   "cell_type": "code",
   "execution_count": null,
   "id": "4963a374-e4e6-4cd1-911a-ed048f729f28",
   "metadata": {
    "colab": {
     "base_uri": "https://localhost:8080/",
     "height": 582
    },
    "id": "SYRPHWINUO0B",
    "outputId": "336cc69a-e6e5-43ec-93d9-5cd50442175a",
    "scrolled": true
   },
   "outputs": [],
   "source": [
    "fig, axs = plt.subplots(1,2, sharey = True, **{'figsize': (12,6)})\n",
    "NI_MW.query('WDF5 <= 180').plot.scatter('WSF5', 'TDrop', s = 0.2, ax = axs[0])\n",
    "NI_MW.query('WDF5 > 180').plot.scatter('WSF5', 'TDrop', s = 0.2, ax = axs[1])\n",
    "axs[0].text(18, 16, 'Average Temp Drop:' + str(NI_MW.query('WDF5 <= 180')['TDrop'].mean().round(1)))\n",
    "#axs[0].text(18, 15, 'Correlation: ' + str(NI_MW.query('WDF5 <= 180')[['TDrop', 'WSF5']].corr().iloc[0,1].round(2)))\n",
    "axs[1].text(18, 16, 'Average Temp Drop:' + str(NI_MW.query('WDF5 > 180')['TDrop'].mean().round(1)))\n",
    "#axs[1].text(18, 15, 'Correlation: ' + str(NI_MW.query('WDF5 > 180')[['TDrop', 'WSF5']].corr().iloc[0,1].round(2)))\n",
    "axs[0].set_title('East Wind Temperature Drop')\n",
    "axs[1].set_title('West Wind Temperature Drop')"
   ]
  },
  {
   "cell_type": "markdown",
   "id": "cf513f32-054c-469b-bd4e-cb3cd1140d8d",
   "metadata": {},
   "source": [
    "##### We look for a station with temperature values at roughly the same latitude as O'Hare but far enough outside the city to be free of the Urban Heat Island effect."
   ]
  },
  {
   "cell_type": "code",
   "execution_count": null,
   "id": "1fee29b9-9099-4576-9fd7-2990b05edac6",
   "metadata": {
    "scrolled": true
   },
   "outputs": [],
   "source": [
    "fig, ax = plt.subplots(figsize = (9,9))\n",
    "gpd.GeoDataFrame(All_Illinois_stations, geometry = gpd.points_from_xy(All_Illinois_stations.longitude, All_Illinois_stations.latitude))\\\n",
    ".plot(**{'markersize': 0.5}, ax = ax)\n",
    "gdf3.plot(**{'facecolor':'None', 'linewidth':0.1, 'alpha':0.5}, ax = ax)"
   ]
  },
  {
   "cell_type": "code",
   "execution_count": null,
   "id": "89dcd137-42a1-4954-b1af-e752da820819",
   "metadata": {
    "id": "8VzNfcM6CJsP"
   },
   "outputs": [],
   "source": [
    "DeKalb = DeKalb.set_index('date').pivot(columns = 'datatype', values = 'value')[['PRCP', 'TMAX', 'TMIN', 'TOBS', 'WDMV']].reset_index()"
   ]
  },
  {
   "cell_type": "code",
   "execution_count": null,
   "id": "250e5cd5-447a-4c4a-b9eb-176da50de0b5",
   "metadata": {
    "id": "gqoTcyCiDW_p"
   },
   "outputs": [],
   "source": [
    "DeKalb = DeKalb.assign(TDrop = lambda x: x.TMAX - x.TMIN, date = lambda x: pd.to_datetime(x.date).dt.date)\\\n",
    ".rename({'TMAX': 'TMAX_DK', 'TMIN': 'TMIN_DK', 'TDrop': 'TDrop_DK'}, axis =1)"
   ]
  },
  {
   "cell_type": "code",
   "execution_count": null,
   "id": "7731d078-f6ed-4060-8cb2-b30afa131a9d",
   "metadata": {
    "id": "fb82ihBZEv7w"
   },
   "outputs": [],
   "source": [
    "DK_OH_comparison = Average_station_pressure.merge(Temp_20year.query('station == \"GHCND:USW00094846\"')\\\n",
    ",left_on = ['date'], right_on = ['date2']).merge(DeKalb, left_on = 'date', right_on = 'date')\\\n",
    ".assign(TDrop = lambda x: x.TMAX - x.TMIN, TMAX_diff = lambda x: x.TMAX - x.TMAX_DK, \\\n",
    "        TMIN_diff = lambda x: x.TMIN - x.TMIN_DK, TDrop_DK = lambda x: x.TMAX_DK - x.TMIN_DK)"
   ]
  },
  {
   "cell_type": "code",
   "execution_count": null,
   "id": "a67ca7ae-b7f7-46f6-a812-3c543f041dd7",
   "metadata": {
    "colab": {
     "base_uri": "https://localhost:8080/",
     "height": 423
    },
    "id": "8qfasT2wmJDq",
    "outputId": "6b079ccc-6f18-4ce1-d6fa-db2ee91acab9"
   },
   "outputs": [],
   "source": [
    "DK_OH_comparison = DK_OH_comparison.drop(['TOBS_x', 'TOBS_y','PRCP'], axis =1)\\\n",
    ".rename({'value': 'Average_Pressure', 'TMAX': 'TMAX_OH', 'TMIN': 'TMIN_OH'}, axis = 1)"
   ]
  },
  {
   "cell_type": "code",
   "execution_count": null,
   "id": "6f4c576f-c832-48fd-9463-bd978580af49",
   "metadata": {
    "colab": {
     "base_uri": "https://localhost:8080/",
     "height": 561
    },
    "id": "PgyxZwSevHav",
    "outputId": "dd1cd18c-98f6-4d01-ac75-9b89c9ceb39b"
   },
   "outputs": [],
   "source": [
    "fig, axs = plt.subplots(1,2, **{'figsize':(12,6)}, sharey = True, sharex = True)\n",
    "DK_OH_comparison.query('month_x.isin((6,7,8))').merge(Wind_direction.query('station == \"GHCND:USW00004838\"'), left_on = ['date'], right_on = ['date']).query('WDF5 <= 180')\\\n",
    ".plot.scatter('TMAX_diff', 'TMIN_diff', ax = axs[0])\n",
    "DK_OH_comparison.query('month_x.isin((6,7,8))').merge(Wind_direction.query('station == \"GHCND:USW00004838\"'), left_on = ['date'], right_on = ['date']).query('WDF5 > 180')\\\n",
    ".plot.scatter('TMAX_diff', 'TMIN_diff', ax = axs[1])"
   ]
  },
  {
   "cell_type": "code",
   "execution_count": null,
   "id": "8a50bad4-5943-47dd-b02a-e70c93795236",
   "metadata": {
    "colab": {
     "base_uri": "https://localhost:8080/"
    },
    "id": "LzBmKUNhzD6y",
    "outputId": "fb96b76f-7714-42b5-a4ec-037e1b186901"
   },
   "outputs": [],
   "source": [
    "print(\"Difference between OHare and DeKalb Temperature Drop with East Wind:\" + str(DK_OH_comparison.query('month_x.isin((6,7,8))').merge(Wind_direction, left_on = ['station_x', 'date', 'month_x', 'dayofyear_x'], right_on = ['station', 'date', 'month', 'dayofyear']).assign(TDrop_diff = lambda x: x.TDrop - x.TDrop_DK)\\\n",
    ".query('WDF5 <= 180')['TDrop_diff'].mean().round(2)))\n",
    "print(\"Difference between OHare and DeKalb Temperature Drop with West Wind:\" + str(DK_OH_comparison.query('month_x.isin((6,7,8))').merge(Wind_direction, left_on = ['station_x', 'date', 'month_x', 'dayofyear_x'], right_on = ['station', 'date', 'month', 'dayofyear']).assign(TDrop_diff = lambda x: x.TDrop - x.TDrop_DK)\\\n",
    ".query('WDF5 > 180')['TDrop_diff'].mean().round(2)))"
   ]
  },
  {
   "cell_type": "markdown",
   "id": "4a590ddd-19e1-4175-97dc-572a5178e80c",
   "metadata": {},
   "source": [
    "##### So the temperature drop at the inland DeKalb station tends to be lower relative to the temperature drop at O'Hare when there is a West Wind than when there is an East Wind, as we'd expect: the effect of a cool wind off the lake will be much less inland after it has warmed up over land and the city."
   ]
  },
  {
   "cell_type": "code",
   "execution_count": null,
   "id": "9b7a740e-0cf3-482d-bb24-066f8c90d24f",
   "metadata": {},
   "outputs": [],
   "source": [
    "pd.set_option('display.max_rows', None)\n",
    "All_Illinois_stations.groupby('id').first()"
   ]
  },
  {
   "cell_type": "markdown",
   "id": "9db82f72-e7b2-44e6-9a2f-6d00e2cb5a62",
   "metadata": {
    "id": "d2Zq7CSkU53Z"
   },
   "source": [
    "##### One potential shortcoming with this approach of comparing wind direction and temperature drop is that the lowest temperature in Chicago almost always comes after midnight in the early hours of the morning while the maximum temperature comes in the afternoon. So if the measurements are organized from midnight to midnight on one calendar day as they apparently are, we can compare the rise in temperature in one row of data, but if we want to look at a drop in temperature due to wind, we should consider comparing the maximum temperature to the next day's minimum temperature. Of course, we would also be interested in the direction of the wind from the afternoon to the early morning, and this may be different from the direction of the strongest 5 minute burst in the data.\n",
    "\n",
    "##### We've reached the point where we need more granular data to answer our questions. "
   ]
  },
  {
   "cell_type": "code",
   "execution_count": null,
   "id": "51b88d85-00ac-4a14-9f70-aae927654ba2",
   "metadata": {},
   "outputs": [],
   "source": [
    "pd.set_option('display.max_rows', 10)\n",
    "OHare_hourly_summer = OHare_hourly[['Station_name', 'Year', 'Month', 'Day', 'Hour', 'temperature', 'station_level_pressure', 'wind_direction', 'wind_speed']]\\\n",
    ".assign(temp_change = lambda x: x.temperature - x.temperature.shift(1)).assign(TMax = OHare_hourly.groupby(['Day', 'Month', 'Year'])\\\n",
    " ['temperature'].transform('max'), Index_of_max = (OHare_hourly.groupby(['Day', 'Month', 'Year'])['temperature'].transform('idxmax')), \\\n",
    "Hour_of_max = lambda x: OHare_hourly.Hour[OHare_hourly.index == x.Index_of_max]).query('Month.isin((6,7,8))')"
   ]
  },
  {
   "cell_type": "code",
   "execution_count": null,
   "id": "64834c96-cb2c-4ed6-9909-5db3e82141e7",
   "metadata": {
    "id": "CxTpJGxr39pl"
   },
   "outputs": [],
   "source": [
    "OHare_hourly_summer['Hour_of_max'] = OHare_hourly_summer.groupby(['Day', 'Month', 'Year'])['Hour_of_max'].bfill().ffill()"
   ]
  },
  {
   "cell_type": "markdown",
   "id": "d70245be-b022-486b-a08f-5b2b675f2422",
   "metadata": {},
   "source": [
    "##### Look at hour of maximum temperature. According to documentation, \"Each observation is also indexed to a single Year, Month, Day, Hour and Minute in Coordinated Universal Time (UTC).\""
   ]
  },
  {
   "cell_type": "code",
   "execution_count": null,
   "id": "669401f0-3ce9-4f78-add5-6e05e7d315d1",
   "metadata": {
    "colab": {
     "base_uri": "https://localhost:8080/",
     "height": 469
    },
    "id": "PIPGt5LX_NlH",
    "outputId": "cf15aaca-7309-42b0-b4e7-d70f4402f11c"
   },
   "outputs": [],
   "source": [
    "OHare_hourly_summer.hist('Hour_of_max', bins = 24)"
   ]
  },
  {
   "cell_type": "markdown",
   "id": "a3546546-3271-4675-930a-4de20015e09c",
   "metadata": {},
   "source": [
    "##### The distribution of hours from 15 to 22 looks reasonable, but the peak at 0 hours (around 7 PM local) is unusual and suggests a daily summary\n",
    "\n",
    "##### There is an increasing number of observations per year over time with peak temperature at 00:00: \n"
   ]
  },
  {
   "cell_type": "code",
   "execution_count": null,
   "id": "791897a4-65ca-41ef-bf1a-6b60f5ed6344",
   "metadata": {
    "colab": {
     "base_uri": "https://localhost:8080/",
     "height": 469
    },
    "id": "tE3cpwz7ADJx",
    "outputId": "d01bda35-1d3a-4972-b415-1c78be523b67"
   },
   "outputs": [],
   "source": [
    "OHare_hourly_summer.query('Hour_of_max == 0').hist('Year')"
   ]
  },
  {
   "cell_type": "code",
   "execution_count": null,
   "id": "baabb344-1a95-4f01-b7c4-c8ee4aa5c81b",
   "metadata": {
    "colab": {
     "base_uri": "https://localhost:8080/"
    },
    "id": "9jhDw8rMHC-v",
    "jupyter": {
     "source_hidden": true
    },
    "outputId": "89b55749-4161-4004-ab5d-d72ea1619425"
   },
   "outputs": [],
   "source": [
    "OHare_hourly_summer.query('Hour_of_max == 0 & Hour == 0').groupby(['Year', 'Month', 'Day'])['Hour'].count().reset_index().rename({'Hour':'Count_by_hour'}, axis = 1).groupby('Count_by_hour').count()['Day']"
   ]
  },
  {
   "cell_type": "markdown",
   "id": "64e61144-6540-46d6-ba04-ab8820777247",
   "metadata": {},
   "source": [
    "##### Many days with more than 1 measurement per day"
   ]
  },
  {
   "cell_type": "code",
   "execution_count": null,
   "id": "95487d2e-fb9b-4d5d-aa94-0b839dc046fe",
   "metadata": {
    "colab": {
     "base_uri": "https://localhost:8080/"
    },
    "id": "UYilnkTN3Upa",
    "outputId": "bb1be6d0-97eb-4207-b559-dbb661238e4a"
   },
   "outputs": [],
   "source": [
    "pd.set_option('display.max_rows', None)\n",
    "OHare_hourly_summer.groupby(['Year', 'Month', 'Day']).count().reset_index().groupby('Hour_of_max').count()['Year'].sort_values(ascending = False)"
   ]
  },
  {
   "cell_type": "markdown",
   "id": "0fb6321f-5cfb-47ec-bdaa-6d2ed8fcf5a2",
   "metadata": {},
   "source": [
    "##### So a good number of summer observations with more or fewer than 24 measurements per day"
   ]
  },
  {
   "cell_type": "code",
   "execution_count": null,
   "id": "1968faff-aefa-49cd-b9d5-7d1911222b2a",
   "metadata": {
    "colab": {
     "base_uri": "https://localhost:8080/",
     "height": 1000
    },
    "id": "KcSropdtLEXK",
    "outputId": "c22de188-e5e4-484b-f782-a163caa1a239"
   },
   "outputs": [],
   "source": [
    "pd.set_option('display.max_rows', 100)\n",
    "OHare_hourly.groupby(['temperature_Source_Station_ID', 'Hour']).count()"
   ]
  },
  {
   "cell_type": "markdown",
   "id": "558eeaa6-4be4-45ed-baaf-bd0818e213ad",
   "metadata": {},
   "source": [
    "##### We see that there are three different temperature source stations. \"999999-94846\" has few measurements in 3 hour increments. \"ICAO-KORD\" has some measurements concentrated in 6 hour increments. \"725300-94846\" has three times as many measurements and roughly equally distributed by hour; we will focus on this station."
   ]
  },
  {
   "cell_type": "code",
   "execution_count": null,
   "id": "be8a6e3b-4bc3-4834-9214-e031833834f1",
   "metadata": {
    "colab": {
     "base_uri": "https://localhost:8080/",
     "height": 562
    },
    "id": "pL52kMIqRUt2",
    "jupyter": {
     "source_hidden": true
    },
    "outputId": "91621fca-fe0e-4907-94f0-8653fc7094d5",
    "scrolled": true
   },
   "outputs": [],
   "source": [
    "fig, axs = plt.subplots(1,2, figsize = (12,6))\n",
    "OHare_hourly.query('temperature_Source_Station_ID == \"725300-94846\"').hist('Year', ax = axs[0])\n",
    "OHare_hourly.query('temperature_Source_Station_ID == \"ICAO-KORD\"').hist('Year', ax = axs[1])\n",
    "axs[0].set_title(\"Station 725300-94846\")\n",
    "axs[1].set_title(\"Station ICAO-KORD\")"
   ]
  },
  {
   "cell_type": "markdown",
   "id": "99e8c02a-175c-425f-b5c3-b028b8249fc1",
   "metadata": {},
   "source": [
    "##### It looks like the station ICAO-KORD was used in the 70s and less before or since. Let's try again to see if the distribution of the hour of the maximum temperature looks better with just this one station."
   ]
  },
  {
   "cell_type": "code",
   "execution_count": null,
   "id": "54891918-02f5-4efb-8157-477ad261651c",
   "metadata": {
    "id": "-tRVGZ6lOfoY"
   },
   "outputs": [],
   "source": [
    "OHare_hourly_summer = OHare_hourly[['Station_name', 'Year', 'Month', 'Day', 'Hour', 'temperature', 'station_level_pressure', 'wind_direction', 'wind_speed', 'temperature_Source_Station_ID']]\\\n",
    ".assign(temp_change = lambda x: x.temperature - x.temperature.shift(1)).query('temperature_Source_Station_ID == \"725300-94846\" & Month.isin((6,7,8))')"
   ]
  },
  {
   "cell_type": "code",
   "execution_count": null,
   "id": "aadb2d86-8d8b-4e15-9b90-c01f01afe945",
   "metadata": {
    "id": "M1y_1DW6OH-Y"
   },
   "outputs": [],
   "source": [
    "OHare_hourly_summer = OHare_hourly_summer.assign(TMax = OHare_hourly_summer.groupby(['Day', 'Month', 'Year'])\\\n",
    " ['temperature'].transform('max'), Index_of_max = (OHare_hourly_summer.groupby(['Day', 'Month', 'Year'])['temperature'].transform('idxmax')), \\\n",
    "Hour_of_max = lambda x: OHare_hourly_summer.Hour[OHare_hourly_summer.index == x.Index_of_max])"
   ]
  },
  {
   "cell_type": "code",
   "execution_count": null,
   "id": "f6ccab81-fb12-437d-ba42-d2f94d49ef78",
   "metadata": {
    "id": "IXV5SQnFXAgC"
   },
   "outputs": [],
   "source": [
    "OHare_hourly_summer['Hour_of_max'] = OHare_hourly_summer.groupby(['Day', 'Month', 'Year'])['Hour_of_max'].bfill().ffill()"
   ]
  },
  {
   "cell_type": "code",
   "execution_count": null,
   "id": "98bce5ed-eb3c-4d45-a6e1-55774655229f",
   "metadata": {
    "colab": {
     "base_uri": "https://localhost:8080/",
     "height": 469
    },
    "id": "blwKpbh3XLR7",
    "outputId": "c03318b4-096a-4cc5-c245-716779b7985a"
   },
   "outputs": [],
   "source": [
    "OHare_hourly_summer.hist('Hour_of_max', bins = 24)"
   ]
  },
  {
   "cell_type": "code",
   "execution_count": null,
   "id": "597047b0-b87a-47c1-8aa0-615f37c97848",
   "metadata": {
    "id": "cfx9ukDpXZWr"
   },
   "outputs": [],
   "source": [
    "OHare_hourly_summer.query('Hour_of_max == 0 & Hour.isin((0,1,2))').head(48)"
   ]
  },
  {
   "cell_type": "code",
   "execution_count": null,
   "id": "c86c2df5-1516-42d4-92b2-7b5255c2afb3",
   "metadata": {
    "id": "EBQkKxYa4l3i"
   },
   "outputs": [],
   "source": [
    "OHare_hourly[[col for col in OHare_hourly.columns if 'Quality_Code'  not in col]].columns"
   ]
  },
  {
   "cell_type": "code",
   "execution_count": null,
   "id": "2fd0ceb8-565c-4426-bcf4-07fa809ecba2",
   "metadata": {
    "colab": {
     "base_uri": "https://localhost:8080/",
     "height": 424
    },
    "id": "-RkGs_AJ4z6A",
    "outputId": "35c0bc80-63fc-48a7-e608-55203ff0614d",
    "scrolled": true
   },
   "outputs": [],
   "source": [
    "OHare_hourly_summer.columns"
   ]
  },
  {
   "cell_type": "code",
   "execution_count": null,
   "id": "734b9708-8b50-4cf2-ac63-88b00c3efd3c",
   "metadata": {},
   "outputs": [],
   "source": [
    "OHare_hourly.iloc[:,[i for i,x in enumerate(OHare_hourly.columns.str.contains('sky')) if x]]"
   ]
  },
  {
   "cell_type": "code",
   "execution_count": null,
   "id": "c9ac4a43-bc2e-4f97-9420-02185bdff2a8",
   "metadata": {
    "colab": {
     "base_uri": "https://localhost:8080/",
     "height": 269
    },
    "id": "a46qLQs6MTe2",
    "outputId": "fd946793-7785-41ea-e9ad-a0339d2558e3"
   },
   "outputs": [],
   "source": [
    "OHare_hourly_summer.query('Hour_of_max == 0 & Hour == 0').groupby(['Day', 'Month', 'Year']).count()['Station_name'].reset_index().groupby('Station_name').count()"
   ]
  },
  {
   "cell_type": "markdown",
   "id": "0c96b3fd-160b-468a-8e2f-3bea559f7a82",
   "metadata": {},
   "source": [
    "##### not many observations have multiple values of hour 0 though"
   ]
  },
  {
   "cell_type": "code",
   "execution_count": null,
   "id": "6d44e3c7-6ccf-42f1-83d6-7275b09bf9c7",
   "metadata": {
    "scrolled": true
   },
   "outputs": [],
   "source": [
    "OHare_hourly_summer.assign(hour_indicator = np.where(OHare_hourly_summer.Hour_of_max == 0.0, 1, 0)).query('Hour_of_max == Hour').merge(OHare_hourly[[col for col in OHare_hourly.columns if col not in OHare_hourly_summer.columns]], left_index = True, right_index = True)\\\n",
    ".groupby(['hour_indicator','temperature_Report_Type']).count()['Station_name']"
   ]
  },
  {
   "cell_type": "code",
   "execution_count": null,
   "id": "6b91db4c-7227-47ff-ad5a-323ff2898225",
   "metadata": {
    "scrolled": true
   },
   "outputs": [],
   "source": [
    "OHare_hourly_summer.assign(hour_indicator = np.where(OHare_hourly_summer.Hour_of_max == 0.0, 1, 0)).query('Hour_of_max != Hour').merge(OHare_hourly[[col for col in OHare_hourly.columns if col not in OHare_hourly_summer.columns]], left_index = True, right_index = True)\\\n",
    ".groupby(['hour_indicator','temperature_Report_Type']).count()['Station_name']"
   ]
  },
  {
   "cell_type": "markdown",
   "id": "7d63d8c8-f6f8-419c-aab5-8d40076f11e4",
   "metadata": {},
   "source": [
    "##### If we compare this query with the last we look to see if there is a difference in the report type at hour 0 vs the other 23 hours of the day, especially in hour_indicator category 1 where the max temperature is recorded at hour 0. We might naively expect 23 times more rows for each report type with this query than with the previous query if the report types were distributed randomly and weren't connected to the spike in max temperature recordings happening at hour 0. A ratio far less than 23 more results in this query than in the last for the same category of report type is suspicious with this assumption.\n",
    "\n",
    "##### Indeed, many categories show this ratio (or greater), but the categories FM12-Synop, SYMT-Synop, and SYSA-Synop are all well under this ratio at about 3 to 1. \n",
    "\n",
    "##### We do a web search for these codes and find that synoptic observations are those recorded every 6 hours by the NOAA, at 00:00, 06:00, 12:00, and 18:00 UTC. This fits with the spike at hour 0: observations at 7 PM local only need to be hotter than at 1 PM or 1 AM to be the daily max temperature."
   ]
  },
  {
   "cell_type": "code",
   "execution_count": null,
   "id": "3d4597fb-88ff-4a29-8bf6-423abb68a944",
   "metadata": {},
   "outputs": [],
   "source": [
    "OHare_hourly_summer.merge(OHare_hourly[[col for col in OHare_hourly.columns if col not in OHare_hourly_summer.columns]], left_index = True, right_index = True)\\\n",
    ".query('temperature_Report_Type.str.contains(\"Synop\")').sort_values(['Year','Month', 'Day'])"
   ]
  },
  {
   "cell_type": "markdown",
   "id": "05065c3f-1e32-4f54-b648-a2a5078c49a6",
   "metadata": {},
   "source": [
    "##### The synoptic hour reports seem to extend only from 1980 to 2005. As expected, a report is made every 6 hours.\n",
    "\n",
    "##### Let's try to create our DataFrame again but investigate which report types have 24 reports in a day\n"
   ]
  },
  {
   "cell_type": "code",
   "execution_count": null,
   "id": "d854ff2f-a43e-4024-a0f2-69524584a1b2",
   "metadata": {},
   "outputs": [],
   "source": [
    "OHare_hourly_summer = OHare_hourly[['Station_name', 'Year', 'Month', 'Day', 'Hour', 'temperature', 'station_level_pressure', 'wind_direction', 'wind_speed']]\\\n",
    ".assign(temp_change = lambda x: x.temperature - x.temperature.shift(1)).assign(TMax = OHare_hourly.groupby(['Day', 'Month', 'Year'])\\\n",
    " ['temperature'].transform('max'), Index_of_max = (OHare_hourly.groupby(['Day', 'Month', 'Year'])['temperature'].transform('idxmax')), \\\n",
    "Hour_of_max = lambda x: OHare_hourly.Hour[OHare_hourly.index == x.Index_of_max]).query('Month.isin((6,7,8))')\n",
    "OHare_hourly_summer['Hour_of_max'] = OHare_hourly_summer.groupby(['Day', 'Month', 'Year'])['Hour_of_max'].bfill().ffill()"
   ]
  },
  {
   "cell_type": "code",
   "execution_count": null,
   "id": "42019d1d-b2bc-4040-b4ca-c48c03e6b71e",
   "metadata": {},
   "outputs": [],
   "source": [
    "OHare_hourly[['Station_name', 'Year', 'Month', 'Day', 'Hour', 'temperature', 'station_level_pressure', 'wind_direction', 'wind_speed', 'temperature_Source_Station_ID', 'temperature_Report_Type']]\\\n",
    ".assign(temp_change = lambda x: x.temperature - x.temperature.shift(1), Daily_Observations = OHare_hourly.groupby(['Year', 'Month', 'Day', 'temperature_Source_Station_ID', 'temperature_Report_Type'])\\\n",
    "    ['temperature'].transform('count')).assign(TMax = OHare_hourly.groupby(['Day', 'Month', 'Year'])\\\n",
    " ['temperature'].transform('max'), Index_of_max = (OHare_hourly.groupby(['Day', 'Month', 'Year'])['temperature'].transform('idxmax')), \\\n",
    "Hour_of_max = lambda x: OHare_hourly.Hour[OHare_hourly.index == x.Index_of_max]).query('Month.isin((6,7,8))').query('Daily_Observations >= 20').query('Hour_of_max == 0.0').groupby('Year').count()"
   ]
  },
  {
   "cell_type": "markdown",
   "id": "c2425111-c253-4b7a-806c-beaa70495146",
   "metadata": {},
   "source": [
    "##### Finally, we have a way to limit the rows with a max temperature at hour 0: separate results into groups by combination of the source station ID and report type, and years after 1980 have very few rows with max temperature at hour 0 within these groups.\n",
    "\n",
    "##### Let's restrict ourselves to summer observations"
   ]
  },
  {
   "cell_type": "code",
   "execution_count": null,
   "id": "ed9bfc74-341a-4921-844f-95eca48ac58d",
   "metadata": {},
   "outputs": [],
   "source": [
    "OHare_hourly_summer = OHare_hourly[['Station_name', 'Year', 'Month', 'Day', 'Hour', 'temperature', 'station_level_pressure', 'wind_direction', 'wind_speed', \\\n",
    "                                    'temperature_Source_Station_ID', 'temperature_Report_Type', 'sky_cover_1', 'sky_cover_2', 'sky_cover_3','precipitation', 'relative_humidity']]\\\n",
    ".assign(temp_change = lambda x: x.temperature - x.temperature.shift(1), Daily_Observations = OHare_hourly.groupby(['Year', 'Month', 'Day', 'temperature_Source_Station_ID', 'temperature_Report_Type'])\\\n",
    "    ['temperature'].transform('count')).assign(TMax = OHare_hourly.groupby(['Day', 'Month', 'Year'])\\\n",
    " ['temperature'].transform('max'), Index_of_max = (OHare_hourly.groupby(['Day', 'Month', 'Year'])['temperature'].transform('idxmax')), \\\n",
    "Hour_of_max = lambda x: OHare_hourly.Hour[OHare_hourly.index == x.Index_of_max]).query('Month.isin((6,7,8))').query('Daily_Observations >= 20 & Year > 1980')"
   ]
  },
  {
   "cell_type": "code",
   "execution_count": null,
   "id": "3289d0d2-e249-4319-8bcc-35aff8115b22",
   "metadata": {},
   "outputs": [],
   "source": [
    "OHare_hourly_summer['Hour_of_max'] = OHare_hourly_summer.groupby(['Day', 'Month', 'Year'])['Hour_of_max'].bfill().ffill()"
   ]
  },
  {
   "cell_type": "markdown",
   "id": "138b73e4-c7a2-4808-abf2-a185fd94d611",
   "metadata": {},
   "source": [
    "##### We can be more confident that the data reflect genuine hourly observations. We change from UTC to local time to make the cutoff of the peak temperature look more natural. Since we are only looking at summer results, we don't need to account for Daylight Savings Time."
   ]
  },
  {
   "cell_type": "code",
   "execution_count": null,
   "id": "359c9875-04f9-4ee4-ae4b-de473e136c1d",
   "metadata": {},
   "outputs": [],
   "source": [
    "fig, ax = plt.subplots()\n",
    "OHare_hourly_summer.assign(Hour_of_max = lambda x: np.where(x.Hour_of_max > 5, x.Hour_of_max - 5.0, x.Hour_of_max + 19.0)).hist('Hour_of_max', bins = 24, range = (0,24), ax = ax)\n",
    "plt.vlines(12, 0, 25000, color = 'black')\n",
    "ax.text(11, 25000, 'Noon')\n",
    "ax.set_title('Number of Times Daily Max Temperature Occurred at Hour')"
   ]
  },
  {
   "cell_type": "code",
   "execution_count": null,
   "id": "6510d488-b5b5-42b7-961a-eb506ca11b79",
   "metadata": {},
   "outputs": [],
   "source": [
    "#create a timedelta column to control for gaps between measurements\n",
    "OHare_hourly_summer = OHare_hourly_summer.assign(datetime = pd.to_datetime(OHare_hourly_summer[['Year', 'Month', 'Day', 'Hour']]), timedelta = lambda x: (x.datetime - x.datetime.shift(1))/np.timedelta64(1, 'h'))"
   ]
  },
  {
   "cell_type": "code",
   "execution_count": null,
   "id": "578dc416-d5ce-43d0-9a32-f5fababc029b",
   "metadata": {},
   "outputs": [],
   "source": [
    "#get a sense of range of pressure values\n",
    "OHare_hourly_summer.hist('station_level_pressure', bins = 30)"
   ]
  },
  {
   "cell_type": "code",
   "execution_count": null,
   "id": "9197ff7e-6569-4d41-b58c-a9fdab46111e",
   "metadata": {},
   "outputs": [],
   "source": [
    "#Explore distribution of 24 hour changes in pressure\n",
    "OHare_hourly_summer = OHare_hourly_summer.assign(one_day_difference = lambda x: x.datetime - np.timedelta64(1, 'D')).reset_index()"
   ]
  },
  {
   "cell_type": "code",
   "execution_count": null,
   "id": "9a7c8e33-052b-4062-b9b1-8731f535bfce",
   "metadata": {},
   "outputs": [],
   "source": [
    "OHare_hourly_summer['tf_hour_pressure_difference'] = [(OHare_hourly_summer.station_level_pressure[OHare_hourly_summer.one_day_difference[x] == OHare_hourly_summer.datetime]).min() for x in range(len(OHare_hourly_summer))]"
   ]
  },
  {
   "cell_type": "code",
   "execution_count": null,
   "id": "d909405c-9424-4332-9dde-623d65c3cfe1",
   "metadata": {},
   "outputs": [],
   "source": [
    "OHare_hourly_summer['tf_hour_pressure_difference'] = OHare_hourly_summer.station_level_pressure - OHare_hourly_summer['tf_hour_pressure_difference'] "
   ]
  },
  {
   "cell_type": "code",
   "execution_count": null,
   "id": "5ce715bc-5598-4174-b24c-3919bc3f07f1",
   "metadata": {},
   "outputs": [],
   "source": [
    "fig, ax = plt.subplots()\n",
    "OHare_hourly_summer.hist('tf_hour_pressure_difference', bins = 30, ax = ax)\n",
    "ax.set_title('Counts of 24 Hour Change in Pressure (in Millibars)')"
   ]
  },
  {
   "cell_type": "code",
   "execution_count": null,
   "id": "ea9aa63f-9747-4d29-ba89-c631b7eb366d",
   "metadata": {},
   "outputs": [],
   "source": [
    "#also make a column for the pressure drop from previous observation\n",
    "OHare_hourly_summer['pressure_change'] = OHare_hourly_summer.station_level_pressure - OHare_hourly_summer.station_level_pressure.shift(1)\n",
    "OHare_hourly_summer = OHare_hourly_summer.assign(pressure_change_delta = lambda x: x.pressure_change / x.timedelta)"
   ]
  },
  {
   "cell_type": "code",
   "execution_count": null,
   "id": "ac8730ea-5902-4134-8d9f-6d24bf0c64b7",
   "metadata": {
    "scrolled": true
   },
   "outputs": [],
   "source": [
    "OHare_hourly_summer.groupby('sky_cover_1').count()"
   ]
  },
  {
   "cell_type": "markdown",
   "id": "fecf189d-1f37-45ad-948b-8085e2c22b6c",
   "metadata": {},
   "source": [
    "##### Values are measured in oktas with accompanying acronyms. Higher numbers mean higher percentage of clouds. 'BKN' = \"Broken\", 'CLR' = \"Clear\", 'FEW' = \"Few\", \"OVC\" = Overcast\", 'SCT' = \"Scattered\", 'X' is 10, "
   ]
  },
  {
   "cell_type": "code",
   "execution_count": null,
   "id": "76811ea2-6dc9-4d19-8e6e-863941a10b7e",
   "metadata": {},
   "outputs": [],
   "source": [
    "OHare_hourly_summer['sky_cover_1'] = np.where(OHare_hourly_summer['sky_cover_1'] == \"X\", 10, OHare_hourly_summer['sky_cover_1'])"
   ]
  },
  {
   "cell_type": "code",
   "execution_count": null,
   "id": "0cb0dc93-72f4-4d53-9156-7779517afe64",
   "metadata": {},
   "outputs": [],
   "source": [
    "OHare_hourly_summer[['sky_cover_1', 'sky_cover_2', 'sky_cover_3']] = OHare_hourly_summer[['sky_cover_1', 'sky_cover_2', 'sky_cover_3']].replace(regex=True,to_replace=r'\\D',value=r'')"
   ]
  },
  {
   "cell_type": "code",
   "execution_count": null,
   "id": "52ad8e2f-aa87-4769-9109-984c7fd1e18c",
   "metadata": {},
   "outputs": [],
   "source": [
    "OHare_hourly_summer[['sky_cover_1', 'sky_cover_2', 'sky_cover_3']] = OHare_hourly_summer[['sky_cover_1', 'sky_cover_2', 'sky_cover_3']].apply(pd.to_numeric)"
   ]
  },
  {
   "cell_type": "markdown",
   "id": "d60d7e91-2769-4430-a740-847a241d1492",
   "metadata": {},
   "source": [
    "##### Although the relationship between pressure and temperature is relative to neighboring pressure values and can't be reduced so simply to a two dimensional graph,  we can observe a general trend where higher pressure equals few clouds. We jitter the cloud cover measurements to make this more apparent.\n",
    "\n",
    "##### Although measurements of 2 occur at a very wide range of pressures, we can see that measurements of 0 - completely clear skies - are centered at higher pressure readings than the measurements of cloud cover 4 or cloud cover 8.\n"
   ]
  },
  {
   "cell_type": "code",
   "execution_count": null,
   "id": "2dbc2f6b-2c7b-464b-8bfb-872338b27a85",
   "metadata": {
    "scrolled": true
   },
   "outputs": [],
   "source": [
    "OHare_hourly_summer.assign(Cloud_cover = OHare_hourly_summer['sky_cover_1'] + np.random.normal(0,0.5,len(OHare_hourly_summer))).plot.scatter('station_level_pressure', 'Cloud_cover', s = 0.1)"
   ]
  },
  {
   "cell_type": "markdown",
   "id": "7886e211-b437-46e2-9337-5bb2c14fdc90",
   "metadata": {},
   "source": [
    "##### Except for the very small sample of readings with cloud cover 10, the mean station level pressure with each sky cover reading makes the same relationship clear:"
   ]
  },
  {
   "cell_type": "code",
   "execution_count": null,
   "id": "f6c49beb-aa2c-48e5-89fe-86f61c57bd62",
   "metadata": {
    "scrolled": true
   },
   "outputs": [],
   "source": [
    "OHare_hourly_summer.groupby('sky_cover_1')['station_level_pressure'].mean()"
   ]
  },
  {
   "cell_type": "markdown",
   "id": "495452af-1424-467b-9f48-15b3bf8d0e93",
   "metadata": {},
   "source": [
    "##### Similarly, we can see that lower wind speeds are correlated with higher pressure"
   ]
  },
  {
   "cell_type": "code",
   "execution_count": null,
   "id": "f85c4c77-09b8-490a-9945-1b458eb15ee3",
   "metadata": {
    "scrolled": true
   },
   "outputs": [],
   "source": [
    "OHare_hourly_summer.assign(pressure_change = OHare_hourly_summer.pressure_change + np.random.normal(0,0.1, len(OHare_hourly_summer)), pressure_drop_delta = lambda x: x.pressure_change / x.timedelta, \n",
    "                                                           wind_speed_jitter = OHare_hourly_summer.wind_speed + np.random.normal(0,0.2, len(OHare_hourly_summer))\n",
    "                                                           ).plot.scatter('station_level_pressure', 'wind_speed_jitter', s = 0.1, alpha = 0.1)"
   ]
  },
  {
   "cell_type": "markdown",
   "id": "b1728258-ea46-4dc2-8b91-ada7f95d4a5d",
   "metadata": {},
   "source": [
    "##### Rounding wind speed to the nearest integer and finding the average pressure at a given wind speed also shows higher winds at lower pressure. Again the highest wind speeds have very few observations and aren't reliable."
   ]
  },
  {
   "cell_type": "code",
   "execution_count": null,
   "id": "0abbd57d-c1d9-4189-8edc-70e3e4256d50",
   "metadata": {
    "scrolled": true
   },
   "outputs": [],
   "source": [
    "OHare_hourly_summer.assign(wind_speed = lambda x: x.wind_speed.round(0)).groupby('wind_speed')[['station_level_pressure']].mean()\\\n",
    ".rename({'station_level_pressure': 'Mean_Pressure'}, axis = 1).reset_index().plot.scatter('wind_speed', 'Mean_Pressure')"
   ]
  },
  {
   "cell_type": "markdown",
   "id": "b5b90724-671a-4ada-9159-d44ad522497e",
   "metadata": {},
   "source": [
    "##### Although a rise in pressure is generally associated with a more negative change in temperature, it looks like a rise in temperature on average is also accompanied by a slight rise in pressure. While pressure usually drops with higher temperature because the warmer air molecules expand in volume, the pressure may rise due to greater mass. One possibility is that the humidity rises more than the volume of the air - increasing the mass and the pressure despite the rise in temperature."
   ]
  },
  {
   "cell_type": "code",
   "execution_count": null,
   "id": "4bd40617-3799-47ec-92a2-9d34e7238979",
   "metadata": {
    "scrolled": true
   },
   "outputs": [],
   "source": [
    "OHare_hourly_summer.assign(temp_change_custom = lambda x: (x.temp_change * 2).round(0)/2).groupby('temp_change_custom')['pressure_change'].mean().reset_index().plot.scatter('temp_change_custom', 'pressure_change')"
   ]
  },
  {
   "cell_type": "markdown",
   "id": "d4e449ab-6b28-491e-9467-2c760fa9d2c9",
   "metadata": {},
   "source": [
    "##### We make a quantile plot of these values to see if the mean scatterplot is representative and how dispersed values are."
   ]
  },
  {
   "cell_type": "code",
   "execution_count": null,
   "id": "f251e74c-f6d1-4db9-ab9e-7b14d41c1e46",
   "metadata": {
    "scrolled": true
   },
   "outputs": [],
   "source": [
    "pressure_temp_quantiles = pd.DataFrame(np.nanquantile(OHare_hourly_summer.assign(temp_change_custom = lambda x: (x.temp_change * 2).round(0)/2)[['temp_change_custom', 'pressure_change']]\\\n",
    ".pivot(columns = 'temp_change_custom', values = 'pressure_change'), np.arange(0.1,1,0.1), axis = 0))"
   ]
  },
  {
   "cell_type": "code",
   "execution_count": null,
   "id": "e5df3694-f868-4b21-a640-b9f23cbd207e",
   "metadata": {},
   "outputs": [],
   "source": [
    "pressure_temp_quantiles.columns = OHare_hourly_summer.assign(temp_change_custom = lambda x: (x.temp_change * 2).round(0)/2)[['temp_change_custom', 'pressure_change']]\\\n",
    ".pivot(columns = 'temp_change_custom', values = 'pressure_change').columns"
   ]
  },
  {
   "cell_type": "code",
   "execution_count": null,
   "id": "a10f6875-8505-4b32-9ca2-de44a27cf8c4",
   "metadata": {},
   "outputs": [],
   "source": [
    "pressure_temp_quantiles = pressure_temp_quantiles.T.reset_index()"
   ]
  },
  {
   "cell_type": "code",
   "execution_count": null,
   "id": "a341cf11-c57d-4381-9483-9c499bc069b8",
   "metadata": {
    "scrolled": true
   },
   "outputs": [],
   "source": [
    "a = mplPolygon(list(zip(pressure_temp_quantiles['temp_change_custom'], pressure_temp_quantiles.iloc[:,9])) + list(zip(pressure_temp_quantiles['temp_change_custom'], pressure_temp_quantiles.iloc[:,1]))[::-1], **{'fc':'red', 'alpha':0.1})\n",
    "b = mplPolygon(list(zip(pressure_temp_quantiles['temp_change_custom'], pressure_temp_quantiles.iloc[:,8])) + list(zip(pressure_temp_quantiles['temp_change_custom'], pressure_temp_quantiles.iloc[:,2]))[::-1], **{'fc':'red', 'alpha':0.3})\n",
    "c = mplPolygon(list(zip(pressure_temp_quantiles['temp_change_custom'], pressure_temp_quantiles.iloc[:,7])) + list(zip(pressure_temp_quantiles['temp_change_custom'], pressure_temp_quantiles.iloc[:,3]))[::-1], **{'fc':'red', 'alpha':0.5})\n",
    "d = mplPolygon(list(zip(pressure_temp_quantiles['temp_change_custom'], pressure_temp_quantiles.iloc[:,6])) + list(zip(pressure_temp_quantiles['temp_change_custom'], pressure_temp_quantiles.iloc[:,4]))[::-1], **{'fc':'red', 'alpha':0.7})\n",
    "\n",
    "fig,ax = plt.subplots()\n",
    "ax.set_xlim(-12,9)\n",
    "ax.set_ylim(-5,5)\n",
    "ax.add_patch(a)\n",
    "ax.add_patch(b)\n",
    "ax.add_patch(c)\n",
    "ax.add_patch(d)\n",
    "ax.plot(pressure_temp_quantiles['temp_change_custom'], pressure_temp_quantiles.iloc[:,5], c = 'darkred')"
   ]
  },
  {
   "cell_type": "code",
   "execution_count": null,
   "id": "d9e9aeac-87c2-4247-a88a-3e80cb1a2a0c",
   "metadata": {},
   "outputs": [],
   "source": [
    "OHare_hourly_summer.assign(temp_change_custom = lambda x: (x.temp_change * 2).round(0)/2)[['temp_change_custom', 'pressure_change']]\\\n",
    ".pivot(columns = 'temp_change_custom', values = 'pressure_change').columns[1:36]"
   ]
  },
  {
   "cell_type": "markdown",
   "id": "364b1380-e1da-4c41-9a37-6f910e3de8c0",
   "metadata": {},
   "source": [
    "##### Use the Tetens equation to approximate the saturation vapor pressure of water at a given temperature, the pressure at which water is in thermodynamic equilibrium with its condensed state, and then the actual vapor pressure using relative humidity, as well as the absolute humidity: https://www.hatchability.com/Vaisala.pdf https://en.wikipedia.org/wiki/Vapour_pressure_of_water"
   ]
  },
  {
   "cell_type": "code",
   "execution_count": null,
   "id": "829d2638-377f-43c5-8177-639070227d70",
   "metadata": {},
   "outputs": [],
   "source": [
    "OHare_hourly_summer = OHare_hourly_summer.assign(saturation_vapor_pressure = lambda x: 10 * 0.61078*np.exp((17.27*x.temperature) / (x.temperature + 237.3)),\n",
    "                           vapor_pressure = lambda x: x.saturation_vapor_pressure * x.relative_humidity/100, #units of hPa\n",
    "                          absolute_humidity = lambda x: 100 * x.vapor_pressure * 2.16679 / (x.temperature + 273.15),\n",
    "                            humidity_change = lambda x: x.absolute_humidity - x.absolute_humidity.shift(1)) #convert pressure from hPA to Pa and temperature from Celsius to Kelvin"
   ]
  },
  {
   "cell_type": "code",
   "execution_count": null,
   "id": "0de3b7af-bde3-4d97-9cf2-cd3dd43960fd",
   "metadata": {
    "scrolled": true
   },
   "outputs": [],
   "source": [
    "OHare_hourly_summer.assign(pressure_change = lambda x: x.pressure_change + np.random.normal(0,0.05, len(OHare_hourly_summer))).query('temp_change > 2.5').plot.scatter('humidity_change', 'pressure_change', s = 0.1)"
   ]
  },
  {
   "cell_type": "markdown",
   "id": "6978aecf-1d77-46dd-9e2e-27e0aab8edd0",
   "metadata": {},
   "source": [
    "##### We repeat the graph from above rounding the temperature change to the nearest half degree but finding the average humidity change for each temperature change value instead of the average pressure change and find a satisfying result in the temperature changes greater than 0: the average change in the humidity at these values does seem to go up faster than the average pressure at the same value. This makes sense: the air can hold a greater mass of water at higher temperatures, and in the summer there is an abundance of available excess water to evaporate at these temperatures. This would go a long way in explaining why the pressure rises on average with an increase in temperature in the summer."
   ]
  },
  {
   "cell_type": "code",
   "execution_count": null,
   "id": "2443c724-f27c-45f0-a432-3034cffa07e4",
   "metadata": {
    "scrolled": true
   },
   "outputs": [],
   "source": [
    "OHare_hourly_summer.assign(temp_change_custom = lambda x: (x.temp_change * 2).round(0)/2).groupby('temp_change_custom')['humidity_change'].mean().reset_index().plot.scatter('temp_change_custom', 'humidity_change')"
   ]
  },
  {
   "cell_type": "markdown",
   "id": "92f82786-b0ac-44e2-a33a-21c60be45ce1",
   "metadata": {},
   "source": [
    "##### Since we expect pressure to be proportional to temperature and inversely proportional to humidity, we would expect a positive linear relationship between temperature and the product of pressure and humidity, and that is indeed what we get. We can see that the product of humidity and pressure cannot exceed the exponential curve at 100% relative humidity for a given temperature."
   ]
  },
  {
   "cell_type": "code",
   "execution_count": null,
   "id": "55ef3d21-0dfe-4fcd-ae58-eaa7ee8ac31f",
   "metadata": {
    "scrolled": true
   },
   "outputs": [],
   "source": [
    "fig, ax = plt.subplots()\n",
    "OHare_hourly_summer.assign(hum_press = lambda x: x.station_level_pressure * x.absolute_humidity, temp_jit = lambda x: x.temperature\\\n",
    "                           + np.random.normal(0,0.2, len(OHare_hourly_summer))).plot.scatter('temp_jit', 'hum_press', c = \"blue\", alpha = 0.5, s = 0.1, ax = ax)\n",
    "OHare_hourly_summer.assign(hum_press = lambda x: x.station_level_pressure * x.absolute_humidity, temp_jit = lambda x: x.temperature\\\n",
    "                           + np.random.normal(0,0.2, len(OHare_hourly_summer))).query('relative_humidity == 100').plot\\\n",
    ".scatter('temp_jit', 'hum_press', alpha = 1, c = 'red', s = 0.1, ax = ax)\n",
    "lgend = plt.legend([\"All Measurements\" , \"Measurements with 100% Relative Humidity\"], fontsize = 6, **{'labelcolor': ['blue', 'red']}, loc = \"upper left\")\n",
    "for handle in lgend.legend_handles:\n",
    "    handle.set_sizes([10.0])\n"
   ]
  },
  {
   "cell_type": "code",
   "execution_count": null,
   "id": "b76c9b33-0dac-45ba-a1bb-b49c8a03244a",
   "metadata": {},
   "outputs": [],
   "source": [
    "hum_press_quantiles = pd.DataFrame(np.nanquantile(OHare_hourly_summer.assign(hum_press = lambda x: x.station_level_pressure * x.absolute_humidity, \n",
    "                           temp_custom = lambda x: (round(x.temperature * 2))/2)[['temp_custom', 'hum_press']]\\\n",
    ".pivot(columns = 'temp_custom', values = 'hum_press'), np.arange(0.1,1.1,0.1), axis = 0))\n"
   ]
  },
  {
   "cell_type": "code",
   "execution_count": null,
   "id": "75cb163b-e58c-4f5c-a2a8-18d1931e046d",
   "metadata": {},
   "outputs": [],
   "source": [
    "hum_press_quantiles.columns = OHare_hourly_summer.assign(hum_press = lambda x: x.station_level_pressure * x.absolute_humidity, \n",
    "                           temp_custom = lambda x: (round(x.temperature * 2))/2)[['temp_custom', 'hum_press']]\\\n",
    ".pivot(columns = 'temp_custom', values = 'hum_press').columns"
   ]
  },
  {
   "cell_type": "code",
   "execution_count": null,
   "id": "8d64ad6c-f85f-4333-a0a4-1470993cad08",
   "metadata": {},
   "outputs": [],
   "source": [
    "hum_press_quantiles = hum_press_quantiles.T.reset_index()"
   ]
  },
  {
   "cell_type": "code",
   "execution_count": null,
   "id": "3520f365-d129-48c6-a373-cde703bf2197",
   "metadata": {},
   "outputs": [],
   "source": [
    "hum_press_quantiles = hum_press_quantiles.drop(57) # row with all NA values"
   ]
  },
  {
   "cell_type": "code",
   "execution_count": null,
   "id": "bf4fc0e5-887e-4856-9199-385a7991e21c",
   "metadata": {
    "scrolled": true
   },
   "outputs": [],
   "source": [
    "a = mplPolygon(list(zip(hum_press_quantiles['temp_custom'], hum_press_quantiles.iloc[:,9])) + list(zip(hum_press_quantiles['temp_custom'], hum_press_quantiles.iloc[:,1]))[::-1], **{'fc':'red', 'alpha':0.1})\n",
    "b = mplPolygon(list(zip(hum_press_quantiles['temp_custom'], hum_press_quantiles.iloc[:,8])) + list(zip(hum_press_quantiles['temp_custom'], hum_press_quantiles.iloc[:,2]))[::-1], **{'fc':'red', 'alpha':0.3})\n",
    "c = mplPolygon(list(zip(hum_press_quantiles['temp_custom'], hum_press_quantiles.iloc[:,7])) + list(zip(hum_press_quantiles['temp_custom'], hum_press_quantiles.iloc[:,3]))[::-1], **{'fc':'red', 'alpha':0.5})\n",
    "d = mplPolygon(list(zip(hum_press_quantiles['temp_custom'], hum_press_quantiles.iloc[:,6])) + list(zip(hum_press_quantiles['temp_custom'], hum_press_quantiles.iloc[:,4]))[::-1], **{'fc':'red', 'alpha':0.7})\n",
    "\n",
    "fig,ax = plt.subplots()\n",
    "ax.set_xlim(0,40)\n",
    "ax.set_ylim(0,25000)\n",
    "ax.add_patch(a)\n",
    "ax.add_patch(b)\n",
    "ax.add_patch(c)\n",
    "ax.add_patch(d)\n",
    "\n",
    "\n",
    "\n",
    "OHare_hourly_summer.assign(hum_press = lambda x: x.station_level_pressure * x.absolute_humidity, \n",
    "                           temp_custom = lambda x: (round(x.temperature * 2))/2)[['temp_custom', 'hum_press']]\\\n",
    ".pivot(columns = 'temp_custom', values = 'hum_press').mean().reset_index().plot.scatter('temp_custom', 0, ax = ax, s = 0.5, c='black')\n",
    "ax.set_ylabel(\"Humidity * Pressure\")\n",
    "ax.set_xlabel(\"Temperature\")\n",
    "plt.legend(['Inner 80% quantile', 'Inner 60% quantile', 'Inner 40% quantile', 'Inner 20% quantile', 'mean'])"
   ]
  },
  {
   "cell_type": "markdown",
   "id": "39192796-5711-4fb2-9864-0b55bafef7eb",
   "metadata": {},
   "source": [
    "##### Except for the bottlenecks in our graph with so few observations that the quantiles barely spread out, we see that the product of humidity and pressure does increase with temperature until about 22C, at which point it levels off significantly. This suggests that the absolute humidity (and not just the relative humidity) flattens at these temperatures to compensate for the increase in temperature.\n",
    "\n",
    "##### Temperature vs average absolute humidity graph has much the same shape:"
   ]
  },
  {
   "cell_type": "code",
   "execution_count": null,
   "id": "c742f2be-6077-4a4e-8b4b-a25485c2c8f3",
   "metadata": {},
   "outputs": [],
   "source": [
    "fig, ax = plt.subplots()\n",
    "OHare_hourly_summer.assign(temp_custom = lambda x: (round(x.temperature * 2))/2)[['temp_custom', 'absolute_humidity']]\\\n",
    ".pivot(columns = 'temp_custom', values = 'absolute_humidity').mean().reset_index().plot.scatter('temp_custom', 0, ax = ax)\n",
    "ax.set_ylabel('Average Absolute Humidity')\n",
    "ax.set_xlabel('Temperature')"
   ]
  },
  {
   "cell_type": "markdown",
   "id": "590ada7f-2e25-418a-bda2-4675c35d0880",
   "metadata": {},
   "source": [
    "##### This concludes the exploratory data analysis. We've numerically and visually explored a number of relationships between variables and derived insights about seasonal variations in weather patterns and the effect of proximity to Lake Michigan.  In the future, we could further this work by building statistical models to make predictions.   "
   ]
  }
 ],
 "metadata": {
  "kernelspec": {
   "display_name": "Python 3 (ipykernel)",
   "language": "python",
   "name": "python3"
  },
  "language_info": {
   "codemirror_mode": {
    "name": "ipython",
    "version": 3
   },
   "file_extension": ".py",
   "mimetype": "text/x-python",
   "name": "python",
   "nbconvert_exporter": "python",
   "pygments_lexer": "ipython3",
   "version": "3.9.19"
  }
 },
 "nbformat": 4,
 "nbformat_minor": 5
}
